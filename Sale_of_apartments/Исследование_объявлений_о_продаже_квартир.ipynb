{
  "cells": [
    {
      "cell_type": "markdown",
      "metadata": {
        "id": "2gwVMD07eKFe"
      },
      "source": [
        "### Проект 2. Исследование объявлений о продаже квартир"
      ]
    },
    {
      "cell_type": "markdown",
      "metadata": {
        "id": "GAghvo7ueKFf"
      },
      "source": [
        "В вашем распоряжении данные сервиса **Яндекс.Недвижимость** — архив объявлений о продаже квартир в Санкт-Петербурге и соседних населённых пунктах за несколько лет.  \n",
        "Нужно научиться определять рыночную стоимость объектов недвижимости.  \n",
        "Ваша задача — установить параметры.  \n",
        "Это позволит построить автоматизированную систему: она отследит аномалии и мошенническую деятельность."
      ]
    },
    {
      "cell_type": "markdown",
      "metadata": {
        "id": "znFENoV7eKFf"
      },
      "source": [
        "По каждой квартире на продажу доступны два вида данных.  \n",
        "Первые вписаны пользователем, вторые — получены автоматически на основе картографических данных.  \n",
        "Например, расстояние до центра, аэропорта, ближайшего парка и водоёма.  "
      ]
    },
    {
      "cell_type": "markdown",
      "metadata": {
        "id": "3wL_fMJneKFg"
      },
      "source": [
        "##### Описание данных :"
      ]
    },
    {
      "cell_type": "markdown",
      "metadata": {
        "id": "diLdGDCPeKFg"
      },
      "source": [
        "**total_images** — число фотографий квартиры в объявлении \n",
        "\n",
        "**last_price** — цена на момент снятия с публикации  \n",
        "\n",
        "**total_area** — площадь квартиры в квадратных метрах (м²) \n",
        "\n",
        "**first_day_exposition** — дата публикации  \n",
        "\n",
        "**rooms** — число комнат  \n",
        "\n",
        "**ceiling_height** — высота потолков (м)  \n",
        "\n",
        "**floors_total** — всего этажей в доме  \n",
        "\n",
        "**floor** — этаж  \n",
        "\n",
        "**is_apartment** — апартаменты (булев тип)  \n",
        "\n",
        "**living_area** — жилая площадь в квадратных метрах(м²)  \n",
        "\n",
        "**open_plan** — свободная планировка (булев тип)  \n",
        "\n",
        "**studio** — квартира-студия (булев тип)  \n",
        "\n",
        "**locality_name** — название населённого пункта  \n",
        "\n",
        "**kitchen_area** — площадь кухни в квадратных метрах (м²)  \n",
        "\n",
        "**balcony** — число балконов   \n",
        "\n",
        "**airports_nearest** — расстояние до ближайшего аэропорта в метрах (м)   \n",
        "\n",
        "**cityCenters_nearest** — расстояние до центра города (м)   \n",
        "\n",
        "**parks_around3000** — число парков в радиусе 3 км  \n",
        "\n",
        "**parks_nearest** — расстояние до ближайшего парка (м)  \n",
        "\n",
        "**ponds_around3000** — число водоёмов в радиусе 3 км   \n",
        "\n",
        "**ponds_nearest** — расстояние до ближайшего водоёма (м)  \n",
        "\n",
        "**days_exposition** — сколько дней было размещено объявление (от публикации до снятия)   \n",
        "\n",
        "\n",
        "\n",
        "  \n",
        " \n",
        "   \n",
        "\n",
        "  \n",
        "\n",
        "Пояснение: апартаменты — это нежилые помещения, не относящиеся к жилому фонду, но имеющие необходимые условия для проживания.  "
      ]
    },
    {
      "cell_type": "markdown",
      "metadata": {
        "id": "3ChK_fpJeKFh"
      },
      "source": [
        "<div class=\"alert alert-block alert-warning\">\n",
        "<b>Remarks:</b> \n",
        "\n",
        "Стоит также добавить оглавление с ссылочной навигацией, маркдаун может и такое :)\n",
        "    \n",
        "Я дам тебе ссылки на полезные гайды, которые могут помочь:\n",
        "    \n",
        "<a href=\"https://markdown-guide.readthedocs.io/en/latest/basics.html\">guide1.</a>\n",
        "<a href=\"https://paulradzkov.com/2014/markdown_cheatsheet/\">guide2.</a>\n",
        "    \n",
        "А также советую тебе взглянуть на <a href=\"https://www.kaggle.com/notebooks/\">работы</a> профессиональных аналитиков, чтобы оценить, как другие люди оформляют и проводят исследования. \n",
        "    \n",
        "</div>"
      ]
    },
    {
      "cell_type": "markdown",
      "metadata": {
        "id": "ycvVJJzKeKFi"
      },
      "source": [
        "<div class=\"alert alert-block alert-info\">\n",
        "<b>Fixed:</b> \n",
        "Оглавление сделала! Спасибо за рекомендации!\n",
        "</div>"
      ]
    },
    {
      "cell_type": "markdown",
      "metadata": {
        "id": "GWBJC7OaeKFj"
      },
      "source": [
        "### Шаг 1. Откройте файл с данными и изучите общую информацию <a name=\"step1\"></a>"
      ]
    },
    {
      "cell_type": "markdown",
      "metadata": {
        "id": "6QNbKPnieKFk"
      },
      "source": [
        "# Оглавление\n",
        "1. [Шаг 1. Откройте файл с данными и изучите общую информацию](#step1)\n",
        "2. [Шаг 2. Предобработка данных](#step2)  \n",
        "    0.[План предобработки данных](#plan_predobrabotka)  \n",
        "    1.[Число фотографий квартиры в объявлении: 'total_images'](#total_images)   \n",
        "    2.[Цена на момент снятия с публикации:'last_price'](#last_price)  \n",
        "    3.[Площадь квартиры в квадратных метрах (м²): 'total_area'](#total_area)  \n",
        "    4.[Дата публикации: 'first_day_exposition'](#first_day_exposition)   \n",
        "    5.[Число комнат: rooms](#rooms)  \n",
        "    6.[Высота потолков (м): ceiling_height](#ceiling_height)  \n",
        "    7.[Всего этажей в доме: floors_total](#floors_total)  \n",
        "    8.[Жилая площадь в квадратных метрах(м²): living_area](#living_area)  \n",
        "    9.[Этаж: floor](#floor)  \n",
        "    10.[Апартаменты (булев тип): is_apartment](#is_apartment)   \n",
        "    11.[Свободная планировка (булев тип): studio](#studio)   \n",
        "    12.[Квартира-студия (булев тип): open_plan](#open_plan)   \n",
        "    13.[Название населённого пункта: locality_name](#locality_name)   \n",
        "    14.[Площадь кухни в квадратных метрах (м²): kitchen_area](#kitchen_area)   \n",
        "    15.[Число балконов: balcony](#balcony)   \n",
        "    16.[Расстояние до ближайшего аэропорта в метрах (м): airports_nearest](#airports_nearest)   \n",
        "    17.[Расстояние до центра города (м): cityCenters_nearest](#cityCenters_nearest)  \n",
        "    18.[Число парков в радиусе 3 км: parks_around3000](#parks_around3000)  \n",
        "    19.[Расстояние до ближайшего парка (м): parks_nearest](#parks_nearest)   \n",
        "    20.[Число водоёмов в радиусе 3 км: ponds_around3000](#ponds_around3000)   \n",
        "    21.[Расстояние до ближайшего водоёма (м): ponds_nearest](#ponds_nearest)  \n",
        "    22.[Cколько дней было размещено объявление (от публикации до снятия): days_exposition](#days_exposition)  \n",
        "    23.[Вывод по предобработке данных](#conclusion_predobrabotka)\n",
        "3. [Шаг 3. Добавление новых признаков в таблицу](#step3)  \n",
        "    1.[Цена квадратного метра](#price_per_square_meter)  \n",
        "    2.[День недели, месяц и год публикации объявления](#Day_of_week_month_and_year_when_the_ad_was_published)  \n",
        "    3.[Этаж квартиры; варианты — первый, последний, другой](#apartment_floor_options_first_last_other)  \n",
        "    4.[Cоотношение жилой и общей площади, а также отношение площади кухни к общей.](#the_ratio_of_living_space_and_total_area)\n",
        "4. [Шаг 4. Исследовательский анализ данных](#exploratory_data_analysis)  \n",
        "    1.[Изучение  площади, цены, числа комнат, высоты потолков](#area_price_number_of_rooms_ceiling_height)  \n",
        "    2.[Изучение факторов влияния на стоимость квартиры.](#factors_price)\n",
        "5. [Шаг 5. Общий вывод](#conclusion_all)"
      ]
    },
    {
      "cell_type": "code",
      "execution_count": 157,
      "metadata": {
        "id": "6v9fB_EteKFl"
      },
      "outputs": [],
      "source": [
        "#здесь располагаются все импорты программного кода\n",
        "import pandas as pd\n",
        "import numpy as np\n",
        "import matplotlib.pyplot as plt\n",
        "import seaborn as sns\n",
        "\n",
        "data = pd.read_csv('real_estate_data.csv', sep='\\t')"
      ]
    },
    {
      "cell_type": "markdown",
      "metadata": {
        "id": "p6cf5U78eKFn"
      },
      "source": [
        "Рассмотрим головную часть датасета:\n",
        "                            "
      ]
    },
    {
      "cell_type": "code",
      "execution_count": 158,
      "metadata": {
        "id": "-NoyBnu7eKFn",
        "outputId": "10e4ef7b-f25b-47c4-8cc4-3826dcd716b0",
        "colab": {
          "base_uri": "https://localhost:8080/",
          "height": 386
        }
      },
      "outputs": [
        {
          "output_type": "display_data",
          "data": {
            "text/plain": [
              "   total_images  last_price  total_area first_day_exposition  rooms  \\\n",
              "0            20  13000000.0       108.0  2019-03-07T00:00:00      3   \n",
              "1             7   3350000.0        40.4  2018-12-04T00:00:00      1   \n",
              "2            10   5196000.0        56.0  2015-08-20T00:00:00      2   \n",
              "3             0  64900000.0       159.0  2015-07-24T00:00:00      3   \n",
              "4             2  10000000.0       100.0  2018-06-19T00:00:00      2   \n",
              "\n",
              "   ceiling_height  floors_total  living_area  floor is_apartment  ...  \\\n",
              "0            2.70          16.0         51.0      8          NaN  ...   \n",
              "1             NaN          11.0         18.6      1          NaN  ...   \n",
              "2             NaN           5.0         34.3      4          NaN  ...   \n",
              "3             NaN          14.0          NaN      9          NaN  ...   \n",
              "4            3.03          14.0         32.0     13          NaN  ...   \n",
              "\n",
              "   kitchen_area  balcony    locality_name  airports_nearest  \\\n",
              "0          25.0      NaN  Санкт-Петербург           18863.0   \n",
              "1          11.0      2.0   посёлок Шушары           12817.0   \n",
              "2           8.3      0.0  Санкт-Петербург           21741.0   \n",
              "3           NaN      0.0  Санкт-Петербург           28098.0   \n",
              "4          41.0      NaN  Санкт-Петербург           31856.0   \n",
              "\n",
              "  cityCenters_nearest  parks_around3000  parks_nearest  ponds_around3000  \\\n",
              "0             16028.0               1.0          482.0               2.0   \n",
              "1             18603.0               0.0            NaN               0.0   \n",
              "2             13933.0               1.0           90.0               2.0   \n",
              "3              6800.0               2.0           84.0               3.0   \n",
              "4              8098.0               2.0          112.0               1.0   \n",
              "\n",
              "   ponds_nearest  days_exposition  \n",
              "0          755.0              NaN  \n",
              "1            NaN             81.0  \n",
              "2          574.0            558.0  \n",
              "3          234.0            424.0  \n",
              "4           48.0            121.0  \n",
              "\n",
              "[5 rows x 22 columns]"
            ],
            "text/html": [
              "\n",
              "  <div id=\"df-76cf85df-5aa4-48f8-a793-ae0a53e26fe6\">\n",
              "    <div class=\"colab-df-container\">\n",
              "      <div>\n",
              "<style scoped>\n",
              "    .dataframe tbody tr th:only-of-type {\n",
              "        vertical-align: middle;\n",
              "    }\n",
              "\n",
              "    .dataframe tbody tr th {\n",
              "        vertical-align: top;\n",
              "    }\n",
              "\n",
              "    .dataframe thead th {\n",
              "        text-align: right;\n",
              "    }\n",
              "</style>\n",
              "<table border=\"1\" class=\"dataframe\">\n",
              "  <thead>\n",
              "    <tr style=\"text-align: right;\">\n",
              "      <th></th>\n",
              "      <th>total_images</th>\n",
              "      <th>last_price</th>\n",
              "      <th>total_area</th>\n",
              "      <th>first_day_exposition</th>\n",
              "      <th>rooms</th>\n",
              "      <th>ceiling_height</th>\n",
              "      <th>floors_total</th>\n",
              "      <th>living_area</th>\n",
              "      <th>floor</th>\n",
              "      <th>is_apartment</th>\n",
              "      <th>...</th>\n",
              "      <th>kitchen_area</th>\n",
              "      <th>balcony</th>\n",
              "      <th>locality_name</th>\n",
              "      <th>airports_nearest</th>\n",
              "      <th>cityCenters_nearest</th>\n",
              "      <th>parks_around3000</th>\n",
              "      <th>parks_nearest</th>\n",
              "      <th>ponds_around3000</th>\n",
              "      <th>ponds_nearest</th>\n",
              "      <th>days_exposition</th>\n",
              "    </tr>\n",
              "  </thead>\n",
              "  <tbody>\n",
              "    <tr>\n",
              "      <th>0</th>\n",
              "      <td>20</td>\n",
              "      <td>13000000.0</td>\n",
              "      <td>108.0</td>\n",
              "      <td>2019-03-07T00:00:00</td>\n",
              "      <td>3</td>\n",
              "      <td>2.70</td>\n",
              "      <td>16.0</td>\n",
              "      <td>51.0</td>\n",
              "      <td>8</td>\n",
              "      <td>NaN</td>\n",
              "      <td>...</td>\n",
              "      <td>25.0</td>\n",
              "      <td>NaN</td>\n",
              "      <td>Санкт-Петербург</td>\n",
              "      <td>18863.0</td>\n",
              "      <td>16028.0</td>\n",
              "      <td>1.0</td>\n",
              "      <td>482.0</td>\n",
              "      <td>2.0</td>\n",
              "      <td>755.0</td>\n",
              "      <td>NaN</td>\n",
              "    </tr>\n",
              "    <tr>\n",
              "      <th>1</th>\n",
              "      <td>7</td>\n",
              "      <td>3350000.0</td>\n",
              "      <td>40.4</td>\n",
              "      <td>2018-12-04T00:00:00</td>\n",
              "      <td>1</td>\n",
              "      <td>NaN</td>\n",
              "      <td>11.0</td>\n",
              "      <td>18.6</td>\n",
              "      <td>1</td>\n",
              "      <td>NaN</td>\n",
              "      <td>...</td>\n",
              "      <td>11.0</td>\n",
              "      <td>2.0</td>\n",
              "      <td>посёлок Шушары</td>\n",
              "      <td>12817.0</td>\n",
              "      <td>18603.0</td>\n",
              "      <td>0.0</td>\n",
              "      <td>NaN</td>\n",
              "      <td>0.0</td>\n",
              "      <td>NaN</td>\n",
              "      <td>81.0</td>\n",
              "    </tr>\n",
              "    <tr>\n",
              "      <th>2</th>\n",
              "      <td>10</td>\n",
              "      <td>5196000.0</td>\n",
              "      <td>56.0</td>\n",
              "      <td>2015-08-20T00:00:00</td>\n",
              "      <td>2</td>\n",
              "      <td>NaN</td>\n",
              "      <td>5.0</td>\n",
              "      <td>34.3</td>\n",
              "      <td>4</td>\n",
              "      <td>NaN</td>\n",
              "      <td>...</td>\n",
              "      <td>8.3</td>\n",
              "      <td>0.0</td>\n",
              "      <td>Санкт-Петербург</td>\n",
              "      <td>21741.0</td>\n",
              "      <td>13933.0</td>\n",
              "      <td>1.0</td>\n",
              "      <td>90.0</td>\n",
              "      <td>2.0</td>\n",
              "      <td>574.0</td>\n",
              "      <td>558.0</td>\n",
              "    </tr>\n",
              "    <tr>\n",
              "      <th>3</th>\n",
              "      <td>0</td>\n",
              "      <td>64900000.0</td>\n",
              "      <td>159.0</td>\n",
              "      <td>2015-07-24T00:00:00</td>\n",
              "      <td>3</td>\n",
              "      <td>NaN</td>\n",
              "      <td>14.0</td>\n",
              "      <td>NaN</td>\n",
              "      <td>9</td>\n",
              "      <td>NaN</td>\n",
              "      <td>...</td>\n",
              "      <td>NaN</td>\n",
              "      <td>0.0</td>\n",
              "      <td>Санкт-Петербург</td>\n",
              "      <td>28098.0</td>\n",
              "      <td>6800.0</td>\n",
              "      <td>2.0</td>\n",
              "      <td>84.0</td>\n",
              "      <td>3.0</td>\n",
              "      <td>234.0</td>\n",
              "      <td>424.0</td>\n",
              "    </tr>\n",
              "    <tr>\n",
              "      <th>4</th>\n",
              "      <td>2</td>\n",
              "      <td>10000000.0</td>\n",
              "      <td>100.0</td>\n",
              "      <td>2018-06-19T00:00:00</td>\n",
              "      <td>2</td>\n",
              "      <td>3.03</td>\n",
              "      <td>14.0</td>\n",
              "      <td>32.0</td>\n",
              "      <td>13</td>\n",
              "      <td>NaN</td>\n",
              "      <td>...</td>\n",
              "      <td>41.0</td>\n",
              "      <td>NaN</td>\n",
              "      <td>Санкт-Петербург</td>\n",
              "      <td>31856.0</td>\n",
              "      <td>8098.0</td>\n",
              "      <td>2.0</td>\n",
              "      <td>112.0</td>\n",
              "      <td>1.0</td>\n",
              "      <td>48.0</td>\n",
              "      <td>121.0</td>\n",
              "    </tr>\n",
              "  </tbody>\n",
              "</table>\n",
              "<p>5 rows × 22 columns</p>\n",
              "</div>\n",
              "      <button class=\"colab-df-convert\" onclick=\"convertToInteractive('df-76cf85df-5aa4-48f8-a793-ae0a53e26fe6')\"\n",
              "              title=\"Convert this dataframe to an interactive table.\"\n",
              "              style=\"display:none;\">\n",
              "        \n",
              "  <svg xmlns=\"http://www.w3.org/2000/svg\" height=\"24px\"viewBox=\"0 0 24 24\"\n",
              "       width=\"24px\">\n",
              "    <path d=\"M0 0h24v24H0V0z\" fill=\"none\"/>\n",
              "    <path d=\"M18.56 5.44l.94 2.06.94-2.06 2.06-.94-2.06-.94-.94-2.06-.94 2.06-2.06.94zm-11 1L8.5 8.5l.94-2.06 2.06-.94-2.06-.94L8.5 2.5l-.94 2.06-2.06.94zm10 10l.94 2.06.94-2.06 2.06-.94-2.06-.94-.94-2.06-.94 2.06-2.06.94z\"/><path d=\"M17.41 7.96l-1.37-1.37c-.4-.4-.92-.59-1.43-.59-.52 0-1.04.2-1.43.59L10.3 9.45l-7.72 7.72c-.78.78-.78 2.05 0 2.83L4 21.41c.39.39.9.59 1.41.59.51 0 1.02-.2 1.41-.59l7.78-7.78 2.81-2.81c.8-.78.8-2.07 0-2.86zM5.41 20L4 18.59l7.72-7.72 1.47 1.35L5.41 20z\"/>\n",
              "  </svg>\n",
              "      </button>\n",
              "      \n",
              "  <style>\n",
              "    .colab-df-container {\n",
              "      display:flex;\n",
              "      flex-wrap:wrap;\n",
              "      gap: 12px;\n",
              "    }\n",
              "\n",
              "    .colab-df-convert {\n",
              "      background-color: #E8F0FE;\n",
              "      border: none;\n",
              "      border-radius: 50%;\n",
              "      cursor: pointer;\n",
              "      display: none;\n",
              "      fill: #1967D2;\n",
              "      height: 32px;\n",
              "      padding: 0 0 0 0;\n",
              "      width: 32px;\n",
              "    }\n",
              "\n",
              "    .colab-df-convert:hover {\n",
              "      background-color: #E2EBFA;\n",
              "      box-shadow: 0px 1px 2px rgba(60, 64, 67, 0.3), 0px 1px 3px 1px rgba(60, 64, 67, 0.15);\n",
              "      fill: #174EA6;\n",
              "    }\n",
              "\n",
              "    [theme=dark] .colab-df-convert {\n",
              "      background-color: #3B4455;\n",
              "      fill: #D2E3FC;\n",
              "    }\n",
              "\n",
              "    [theme=dark] .colab-df-convert:hover {\n",
              "      background-color: #434B5C;\n",
              "      box-shadow: 0px 1px 3px 1px rgba(0, 0, 0, 0.15);\n",
              "      filter: drop-shadow(0px 1px 2px rgba(0, 0, 0, 0.3));\n",
              "      fill: #FFFFFF;\n",
              "    }\n",
              "  </style>\n",
              "\n",
              "      <script>\n",
              "        const buttonEl =\n",
              "          document.querySelector('#df-76cf85df-5aa4-48f8-a793-ae0a53e26fe6 button.colab-df-convert');\n",
              "        buttonEl.style.display =\n",
              "          google.colab.kernel.accessAllowed ? 'block' : 'none';\n",
              "\n",
              "        async function convertToInteractive(key) {\n",
              "          const element = document.querySelector('#df-76cf85df-5aa4-48f8-a793-ae0a53e26fe6');\n",
              "          const dataTable =\n",
              "            await google.colab.kernel.invokeFunction('convertToInteractive',\n",
              "                                                     [key], {});\n",
              "          if (!dataTable) return;\n",
              "\n",
              "          const docLinkHtml = 'Like what you see? Visit the ' +\n",
              "            '<a target=\"_blank\" href=https://colab.research.google.com/notebooks/data_table.ipynb>data table notebook</a>'\n",
              "            + ' to learn more about interactive tables.';\n",
              "          element.innerHTML = '';\n",
              "          dataTable['output_type'] = 'display_data';\n",
              "          await google.colab.output.renderOutput(dataTable, element);\n",
              "          const docLink = document.createElement('div');\n",
              "          docLink.innerHTML = docLinkHtml;\n",
              "          element.appendChild(docLink);\n",
              "        }\n",
              "      </script>\n",
              "    </div>\n",
              "  </div>\n",
              "  "
            ]
          },
          "metadata": {}
        }
      ],
      "source": [
        "display(data.head())"
      ]
    },
    {
      "cell_type": "markdown",
      "metadata": {
        "id": "mV2szxaOeKFp"
      },
      "source": [
        "**Теперь данные прочитаны верно.**"
      ]
    },
    {
      "cell_type": "markdown",
      "metadata": {
        "id": "x5vvt9E8eKFp"
      },
      "source": [
        "Воспользуюсь методом **describe()** и **info()**, тем самым узнаемобщую информацию о нашем датасете:"
      ]
    },
    {
      "cell_type": "code",
      "execution_count": 159,
      "metadata": {
        "id": "oio8xETkeKFp",
        "outputId": "2b099a16-7781-4c4c-f077-2b5fa74a521d",
        "colab": {
          "base_uri": "https://localhost:8080/",
          "height": 582
        }
      },
      "outputs": [
        {
          "output_type": "execute_result",
          "data": {
            "text/plain": [
              "                       count          mean           std      min         25%  \\\n",
              "total_images         23699.0  9.858475e+00  5.682529e+00      0.0        6.00   \n",
              "last_price           23699.0  6.541549e+06  1.088701e+07  12190.0  3400000.00   \n",
              "total_area           23699.0  6.034865e+01  3.565408e+01     12.0       40.00   \n",
              "rooms                23699.0  2.070636e+00  1.078405e+00      0.0        1.00   \n",
              "ceiling_height       14504.0  2.771499e+00  1.261056e+00      1.0        2.52   \n",
              "floors_total         23613.0  1.067382e+01  6.597173e+00      1.0        5.00   \n",
              "living_area          21796.0  3.445785e+01  2.203045e+01      2.0       18.60   \n",
              "floor                23699.0  5.892358e+00  4.885249e+00      1.0        2.00   \n",
              "kitchen_area         21421.0  1.056981e+01  5.905438e+00      1.3        7.00   \n",
              "balcony              12180.0  1.150082e+00  1.071300e+00      0.0        0.00   \n",
              "airports_nearest     18157.0  2.879367e+04  1.263088e+04      0.0    18585.00   \n",
              "cityCenters_nearest  18180.0  1.419128e+04  8.608386e+03    181.0     9238.00   \n",
              "parks_around3000     18181.0  6.114075e-01  8.020736e-01      0.0        0.00   \n",
              "parks_nearest         8079.0  4.908046e+02  3.423180e+02      1.0      288.00   \n",
              "ponds_around3000     18181.0  7.702547e-01  9.383456e-01      0.0        0.00   \n",
              "ponds_nearest         9110.0  5.179809e+02  2.777206e+02     13.0      294.00   \n",
              "days_exposition      20518.0  1.808886e+02  2.197280e+02      1.0       45.00   \n",
              "\n",
              "                            50%        75%          max  \n",
              "total_images               9.00       14.0         50.0  \n",
              "last_price           4650000.00  6800000.0  763000000.0  \n",
              "total_area                52.00       69.9        900.0  \n",
              "rooms                      2.00        3.0         19.0  \n",
              "ceiling_height             2.65        2.8        100.0  \n",
              "floors_total               9.00       16.0         60.0  \n",
              "living_area               30.00       42.3        409.7  \n",
              "floor                      4.00        8.0         33.0  \n",
              "kitchen_area               9.10       12.0        112.0  \n",
              "balcony                    1.00        2.0          5.0  \n",
              "airports_nearest       26726.00    37273.0      84869.0  \n",
              "cityCenters_nearest    13098.50    16293.0      65968.0  \n",
              "parks_around3000           0.00        1.0          3.0  \n",
              "parks_nearest            455.00      612.0       3190.0  \n",
              "ponds_around3000           1.00        1.0          3.0  \n",
              "ponds_nearest            502.00      729.0       1344.0  \n",
              "days_exposition           95.00      232.0       1580.0  "
            ],
            "text/html": [
              "\n",
              "  <div id=\"df-f28f60a9-3c37-4fc9-b0f4-4f8d1f1702b9\">\n",
              "    <div class=\"colab-df-container\">\n",
              "      <div>\n",
              "<style scoped>\n",
              "    .dataframe tbody tr th:only-of-type {\n",
              "        vertical-align: middle;\n",
              "    }\n",
              "\n",
              "    .dataframe tbody tr th {\n",
              "        vertical-align: top;\n",
              "    }\n",
              "\n",
              "    .dataframe thead th {\n",
              "        text-align: right;\n",
              "    }\n",
              "</style>\n",
              "<table border=\"1\" class=\"dataframe\">\n",
              "  <thead>\n",
              "    <tr style=\"text-align: right;\">\n",
              "      <th></th>\n",
              "      <th>count</th>\n",
              "      <th>mean</th>\n",
              "      <th>std</th>\n",
              "      <th>min</th>\n",
              "      <th>25%</th>\n",
              "      <th>50%</th>\n",
              "      <th>75%</th>\n",
              "      <th>max</th>\n",
              "    </tr>\n",
              "  </thead>\n",
              "  <tbody>\n",
              "    <tr>\n",
              "      <th>total_images</th>\n",
              "      <td>23699.0</td>\n",
              "      <td>9.858475e+00</td>\n",
              "      <td>5.682529e+00</td>\n",
              "      <td>0.0</td>\n",
              "      <td>6.00</td>\n",
              "      <td>9.00</td>\n",
              "      <td>14.0</td>\n",
              "      <td>50.0</td>\n",
              "    </tr>\n",
              "    <tr>\n",
              "      <th>last_price</th>\n",
              "      <td>23699.0</td>\n",
              "      <td>6.541549e+06</td>\n",
              "      <td>1.088701e+07</td>\n",
              "      <td>12190.0</td>\n",
              "      <td>3400000.00</td>\n",
              "      <td>4650000.00</td>\n",
              "      <td>6800000.0</td>\n",
              "      <td>763000000.0</td>\n",
              "    </tr>\n",
              "    <tr>\n",
              "      <th>total_area</th>\n",
              "      <td>23699.0</td>\n",
              "      <td>6.034865e+01</td>\n",
              "      <td>3.565408e+01</td>\n",
              "      <td>12.0</td>\n",
              "      <td>40.00</td>\n",
              "      <td>52.00</td>\n",
              "      <td>69.9</td>\n",
              "      <td>900.0</td>\n",
              "    </tr>\n",
              "    <tr>\n",
              "      <th>rooms</th>\n",
              "      <td>23699.0</td>\n",
              "      <td>2.070636e+00</td>\n",
              "      <td>1.078405e+00</td>\n",
              "      <td>0.0</td>\n",
              "      <td>1.00</td>\n",
              "      <td>2.00</td>\n",
              "      <td>3.0</td>\n",
              "      <td>19.0</td>\n",
              "    </tr>\n",
              "    <tr>\n",
              "      <th>ceiling_height</th>\n",
              "      <td>14504.0</td>\n",
              "      <td>2.771499e+00</td>\n",
              "      <td>1.261056e+00</td>\n",
              "      <td>1.0</td>\n",
              "      <td>2.52</td>\n",
              "      <td>2.65</td>\n",
              "      <td>2.8</td>\n",
              "      <td>100.0</td>\n",
              "    </tr>\n",
              "    <tr>\n",
              "      <th>floors_total</th>\n",
              "      <td>23613.0</td>\n",
              "      <td>1.067382e+01</td>\n",
              "      <td>6.597173e+00</td>\n",
              "      <td>1.0</td>\n",
              "      <td>5.00</td>\n",
              "      <td>9.00</td>\n",
              "      <td>16.0</td>\n",
              "      <td>60.0</td>\n",
              "    </tr>\n",
              "    <tr>\n",
              "      <th>living_area</th>\n",
              "      <td>21796.0</td>\n",
              "      <td>3.445785e+01</td>\n",
              "      <td>2.203045e+01</td>\n",
              "      <td>2.0</td>\n",
              "      <td>18.60</td>\n",
              "      <td>30.00</td>\n",
              "      <td>42.3</td>\n",
              "      <td>409.7</td>\n",
              "    </tr>\n",
              "    <tr>\n",
              "      <th>floor</th>\n",
              "      <td>23699.0</td>\n",
              "      <td>5.892358e+00</td>\n",
              "      <td>4.885249e+00</td>\n",
              "      <td>1.0</td>\n",
              "      <td>2.00</td>\n",
              "      <td>4.00</td>\n",
              "      <td>8.0</td>\n",
              "      <td>33.0</td>\n",
              "    </tr>\n",
              "    <tr>\n",
              "      <th>kitchen_area</th>\n",
              "      <td>21421.0</td>\n",
              "      <td>1.056981e+01</td>\n",
              "      <td>5.905438e+00</td>\n",
              "      <td>1.3</td>\n",
              "      <td>7.00</td>\n",
              "      <td>9.10</td>\n",
              "      <td>12.0</td>\n",
              "      <td>112.0</td>\n",
              "    </tr>\n",
              "    <tr>\n",
              "      <th>balcony</th>\n",
              "      <td>12180.0</td>\n",
              "      <td>1.150082e+00</td>\n",
              "      <td>1.071300e+00</td>\n",
              "      <td>0.0</td>\n",
              "      <td>0.00</td>\n",
              "      <td>1.00</td>\n",
              "      <td>2.0</td>\n",
              "      <td>5.0</td>\n",
              "    </tr>\n",
              "    <tr>\n",
              "      <th>airports_nearest</th>\n",
              "      <td>18157.0</td>\n",
              "      <td>2.879367e+04</td>\n",
              "      <td>1.263088e+04</td>\n",
              "      <td>0.0</td>\n",
              "      <td>18585.00</td>\n",
              "      <td>26726.00</td>\n",
              "      <td>37273.0</td>\n",
              "      <td>84869.0</td>\n",
              "    </tr>\n",
              "    <tr>\n",
              "      <th>cityCenters_nearest</th>\n",
              "      <td>18180.0</td>\n",
              "      <td>1.419128e+04</td>\n",
              "      <td>8.608386e+03</td>\n",
              "      <td>181.0</td>\n",
              "      <td>9238.00</td>\n",
              "      <td>13098.50</td>\n",
              "      <td>16293.0</td>\n",
              "      <td>65968.0</td>\n",
              "    </tr>\n",
              "    <tr>\n",
              "      <th>parks_around3000</th>\n",
              "      <td>18181.0</td>\n",
              "      <td>6.114075e-01</td>\n",
              "      <td>8.020736e-01</td>\n",
              "      <td>0.0</td>\n",
              "      <td>0.00</td>\n",
              "      <td>0.00</td>\n",
              "      <td>1.0</td>\n",
              "      <td>3.0</td>\n",
              "    </tr>\n",
              "    <tr>\n",
              "      <th>parks_nearest</th>\n",
              "      <td>8079.0</td>\n",
              "      <td>4.908046e+02</td>\n",
              "      <td>3.423180e+02</td>\n",
              "      <td>1.0</td>\n",
              "      <td>288.00</td>\n",
              "      <td>455.00</td>\n",
              "      <td>612.0</td>\n",
              "      <td>3190.0</td>\n",
              "    </tr>\n",
              "    <tr>\n",
              "      <th>ponds_around3000</th>\n",
              "      <td>18181.0</td>\n",
              "      <td>7.702547e-01</td>\n",
              "      <td>9.383456e-01</td>\n",
              "      <td>0.0</td>\n",
              "      <td>0.00</td>\n",
              "      <td>1.00</td>\n",
              "      <td>1.0</td>\n",
              "      <td>3.0</td>\n",
              "    </tr>\n",
              "    <tr>\n",
              "      <th>ponds_nearest</th>\n",
              "      <td>9110.0</td>\n",
              "      <td>5.179809e+02</td>\n",
              "      <td>2.777206e+02</td>\n",
              "      <td>13.0</td>\n",
              "      <td>294.00</td>\n",
              "      <td>502.00</td>\n",
              "      <td>729.0</td>\n",
              "      <td>1344.0</td>\n",
              "    </tr>\n",
              "    <tr>\n",
              "      <th>days_exposition</th>\n",
              "      <td>20518.0</td>\n",
              "      <td>1.808886e+02</td>\n",
              "      <td>2.197280e+02</td>\n",
              "      <td>1.0</td>\n",
              "      <td>45.00</td>\n",
              "      <td>95.00</td>\n",
              "      <td>232.0</td>\n",
              "      <td>1580.0</td>\n",
              "    </tr>\n",
              "  </tbody>\n",
              "</table>\n",
              "</div>\n",
              "      <button class=\"colab-df-convert\" onclick=\"convertToInteractive('df-f28f60a9-3c37-4fc9-b0f4-4f8d1f1702b9')\"\n",
              "              title=\"Convert this dataframe to an interactive table.\"\n",
              "              style=\"display:none;\">\n",
              "        \n",
              "  <svg xmlns=\"http://www.w3.org/2000/svg\" height=\"24px\"viewBox=\"0 0 24 24\"\n",
              "       width=\"24px\">\n",
              "    <path d=\"M0 0h24v24H0V0z\" fill=\"none\"/>\n",
              "    <path d=\"M18.56 5.44l.94 2.06.94-2.06 2.06-.94-2.06-.94-.94-2.06-.94 2.06-2.06.94zm-11 1L8.5 8.5l.94-2.06 2.06-.94-2.06-.94L8.5 2.5l-.94 2.06-2.06.94zm10 10l.94 2.06.94-2.06 2.06-.94-2.06-.94-.94-2.06-.94 2.06-2.06.94z\"/><path d=\"M17.41 7.96l-1.37-1.37c-.4-.4-.92-.59-1.43-.59-.52 0-1.04.2-1.43.59L10.3 9.45l-7.72 7.72c-.78.78-.78 2.05 0 2.83L4 21.41c.39.39.9.59 1.41.59.51 0 1.02-.2 1.41-.59l7.78-7.78 2.81-2.81c.8-.78.8-2.07 0-2.86zM5.41 20L4 18.59l7.72-7.72 1.47 1.35L5.41 20z\"/>\n",
              "  </svg>\n",
              "      </button>\n",
              "      \n",
              "  <style>\n",
              "    .colab-df-container {\n",
              "      display:flex;\n",
              "      flex-wrap:wrap;\n",
              "      gap: 12px;\n",
              "    }\n",
              "\n",
              "    .colab-df-convert {\n",
              "      background-color: #E8F0FE;\n",
              "      border: none;\n",
              "      border-radius: 50%;\n",
              "      cursor: pointer;\n",
              "      display: none;\n",
              "      fill: #1967D2;\n",
              "      height: 32px;\n",
              "      padding: 0 0 0 0;\n",
              "      width: 32px;\n",
              "    }\n",
              "\n",
              "    .colab-df-convert:hover {\n",
              "      background-color: #E2EBFA;\n",
              "      box-shadow: 0px 1px 2px rgba(60, 64, 67, 0.3), 0px 1px 3px 1px rgba(60, 64, 67, 0.15);\n",
              "      fill: #174EA6;\n",
              "    }\n",
              "\n",
              "    [theme=dark] .colab-df-convert {\n",
              "      background-color: #3B4455;\n",
              "      fill: #D2E3FC;\n",
              "    }\n",
              "\n",
              "    [theme=dark] .colab-df-convert:hover {\n",
              "      background-color: #434B5C;\n",
              "      box-shadow: 0px 1px 3px 1px rgba(0, 0, 0, 0.15);\n",
              "      filter: drop-shadow(0px 1px 2px rgba(0, 0, 0, 0.3));\n",
              "      fill: #FFFFFF;\n",
              "    }\n",
              "  </style>\n",
              "\n",
              "      <script>\n",
              "        const buttonEl =\n",
              "          document.querySelector('#df-f28f60a9-3c37-4fc9-b0f4-4f8d1f1702b9 button.colab-df-convert');\n",
              "        buttonEl.style.display =\n",
              "          google.colab.kernel.accessAllowed ? 'block' : 'none';\n",
              "\n",
              "        async function convertToInteractive(key) {\n",
              "          const element = document.querySelector('#df-f28f60a9-3c37-4fc9-b0f4-4f8d1f1702b9');\n",
              "          const dataTable =\n",
              "            await google.colab.kernel.invokeFunction('convertToInteractive',\n",
              "                                                     [key], {});\n",
              "          if (!dataTable) return;\n",
              "\n",
              "          const docLinkHtml = 'Like what you see? Visit the ' +\n",
              "            '<a target=\"_blank\" href=https://colab.research.google.com/notebooks/data_table.ipynb>data table notebook</a>'\n",
              "            + ' to learn more about interactive tables.';\n",
              "          element.innerHTML = '';\n",
              "          dataTable['output_type'] = 'display_data';\n",
              "          await google.colab.output.renderOutput(dataTable, element);\n",
              "          const docLink = document.createElement('div');\n",
              "          docLink.innerHTML = docLinkHtml;\n",
              "          element.appendChild(docLink);\n",
              "        }\n",
              "      </script>\n",
              "    </div>\n",
              "  </div>\n",
              "  "
            ]
          },
          "metadata": {},
          "execution_count": 159
        }
      ],
      "source": [
        "data.describe().T"
      ]
    },
    {
      "cell_type": "code",
      "execution_count": 160,
      "metadata": {
        "id": "qB3PB3mceKFq",
        "outputId": "ed2ae2de-36e5-43a6-a66a-f973a640c790",
        "colab": {
          "base_uri": "https://localhost:8080/"
        }
      },
      "outputs": [
        {
          "output_type": "stream",
          "name": "stdout",
          "text": [
            "<class 'pandas.core.frame.DataFrame'>\n",
            "RangeIndex: 23699 entries, 0 to 23698\n",
            "Data columns (total 22 columns):\n",
            " #   Column                Non-Null Count  Dtype  \n",
            "---  ------                --------------  -----  \n",
            " 0   total_images          23699 non-null  int64  \n",
            " 1   last_price            23699 non-null  float64\n",
            " 2   total_area            23699 non-null  float64\n",
            " 3   first_day_exposition  23699 non-null  object \n",
            " 4   rooms                 23699 non-null  int64  \n",
            " 5   ceiling_height        14504 non-null  float64\n",
            " 6   floors_total          23613 non-null  float64\n",
            " 7   living_area           21796 non-null  float64\n",
            " 8   floor                 23699 non-null  int64  \n",
            " 9   is_apartment          2775 non-null   object \n",
            " 10  studio                23699 non-null  bool   \n",
            " 11  open_plan             23699 non-null  bool   \n",
            " 12  kitchen_area          21421 non-null  float64\n",
            " 13  balcony               12180 non-null  float64\n",
            " 14  locality_name         23650 non-null  object \n",
            " 15  airports_nearest      18157 non-null  float64\n",
            " 16  cityCenters_nearest   18180 non-null  float64\n",
            " 17  parks_around3000      18181 non-null  float64\n",
            " 18  parks_nearest         8079 non-null   float64\n",
            " 19  ponds_around3000      18181 non-null  float64\n",
            " 20  ponds_nearest         9110 non-null   float64\n",
            " 21  days_exposition       20518 non-null  float64\n",
            "dtypes: bool(2), float64(14), int64(3), object(3)\n",
            "memory usage: 3.7+ MB\n"
          ]
        }
      ],
      "source": [
        "data.info()"
      ]
    },
    {
      "cell_type": "markdown",
      "metadata": {
        "id": "pSKDZP9UeKFq"
      },
      "source": [
        "В прочитанном файле **22** столбца и **23698** строк.  "
      ]
    },
    {
      "cell_type": "markdown",
      "metadata": {
        "id": "Zh8TshhmeKFq"
      },
      "source": [
        "### Вывод:\n"
      ]
    },
    {
      "cell_type": "markdown",
      "metadata": {
        "id": "6l86wtqteKFq"
      },
      "source": [
        "В датасете **Яндекс.Недвижимости** имеем 22 признака на 23698 строк, описание данных представлено выше.   \n",
        "На первый взгляд можно заметить, что имеются пропуски в следующих признаках:    \n",
        "    * ceiling_height;  \n",
        "    * floors_total;  \n",
        "    * living_area;  \n",
        "    * is_apartment;  \n",
        "    * kitchen_area;  \n",
        "    * balcony;  \n",
        "    * locality_name;  \n",
        "    * airports_nearest;  \n",
        "    * cityCenters_nearest;  \n",
        "    * parks_around3000;  \n",
        "    * parks_nearest;  \n",
        "    * ponds_around3000;  \n",
        "    * ponds_nearest;  \n",
        "    * days_exposition.  \n",
        "\n",
        "Очевидно, что тип данных не соответствует действительности признака **first_day_exposition**.  \n",
        "Более подробно рассмотрю признаки ниже.     \n",
        "    "
      ]
    },
    {
      "cell_type": "markdown",
      "metadata": {
        "id": "O_DfbpwveKFq"
      },
      "source": [
        "### Шаг 2. Предобработка данных <a name=\"step2\"></a>"
      ]
    },
    {
      "cell_type": "markdown",
      "metadata": {
        "id": "XqaXmt-4eKFr"
      },
      "source": [
        "##### План для предобработки данных <a name=\"plan_predobrabotka\"></a> \n",
        "\n",
        "- [x]  определить и изучить пропущенные значения\n",
        "- [x]  заполнить пропуски, где это уместно\n",
        "- [x]  описать, почему было принято решение заполнить пропуски именно в этих столбцах и как выбирались значения\n",
        "- [x]  указать причины, которые могли привести к пропускам в данных\n",
        "- [x]  привести данные к нужным типам\n",
        "- [x]  пояснить, в каких столбцах нужно изменить тип данных и почему"
      ]
    },
    {
      "cell_type": "markdown",
      "metadata": {
        "id": "gmhg1ZTseKFr"
      },
      "source": [
        "**Рассмотрю все признаки**"
      ]
    },
    {
      "cell_type": "markdown",
      "metadata": {
        "id": "AM8DCtYieKFr"
      },
      "source": [
        "##### 1. 'total_images' - число фотографий квартиры в объявлении  <a name=\"total_images\"></a> "
      ]
    },
    {
      "cell_type": "code",
      "execution_count": 161,
      "metadata": {
        "id": "tjng4dkKeKFr",
        "outputId": "c1cff7d2-e9f3-4212-8c05-e5b75c26d5a1",
        "colab": {
          "base_uri": "https://localhost:8080/"
        }
      },
      "outputs": [
        {
          "output_type": "execute_result",
          "data": {
            "text/plain": [
              "count    23699.000000\n",
              "mean         9.858475\n",
              "std          5.682529\n",
              "min          0.000000\n",
              "25%          6.000000\n",
              "50%          9.000000\n",
              "75%         14.000000\n",
              "max         50.000000\n",
              "Name: total_images, dtype: float64"
            ]
          },
          "metadata": {},
          "execution_count": 161
        }
      ],
      "source": [
        "data['total_images'].describe()"
      ]
    },
    {
      "cell_type": "markdown",
      "metadata": {
        "id": "8KqSPMgeeKFs"
      },
      "source": [
        "**Вывод по признаку 'total_images'**: \n",
        "* тип данных **int64**, менять не стоит на другой тип, так как количество фотографий характеризуется целым числом;\n",
        "* пропущенных значений нет\n",
        "    "
      ]
    },
    {
      "cell_type": "markdown",
      "metadata": {
        "id": "oiAmimIweKFs"
      },
      "source": [
        "##### 2. 'last_price' — цена на момент снятия с публикации  <a name=\"last_price\"></a> "
      ]
    },
    {
      "cell_type": "code",
      "execution_count": 162,
      "metadata": {
        "id": "cU37M82SeKFs",
        "outputId": "68c26be9-131f-4253-838c-57c849dea4bb",
        "colab": {
          "base_uri": "https://localhost:8080/"
        }
      },
      "outputs": [
        {
          "output_type": "execute_result",
          "data": {
            "text/plain": [
              "count    2.369900e+04\n",
              "mean     6.541549e+06\n",
              "std      1.088701e+07\n",
              "min      1.219000e+04\n",
              "25%      3.400000e+06\n",
              "50%      4.650000e+06\n",
              "75%      6.800000e+06\n",
              "max      7.630000e+08\n",
              "Name: last_price, dtype: float64"
            ]
          },
          "metadata": {},
          "execution_count": 162
        }
      ],
      "source": [
        "data['last_price'].describe()"
      ]
    },
    {
      "cell_type": "code",
      "execution_count": 163,
      "metadata": {
        "id": "8hKnEkQ8eKFt",
        "outputId": "db1ca009-0492-4c3b-c8ff-8fd520af3496",
        "colab": {
          "base_uri": "https://localhost:8080/",
          "height": 143
        }
      },
      "outputs": [
        {
          "output_type": "execute_result",
          "data": {
            "text/plain": [
              "Empty DataFrame\n",
              "Columns: [total_images, last_price, total_area, first_day_exposition, rooms, ceiling_height, floors_total, living_area, floor, is_apartment, studio, open_plan, kitchen_area, balcony, locality_name, airports_nearest, cityCenters_nearest, parks_around3000, parks_nearest, ponds_around3000, ponds_nearest, days_exposition]\n",
              "Index: []\n",
              "\n",
              "[0 rows x 22 columns]"
            ],
            "text/html": [
              "\n",
              "  <div id=\"df-3e6a5fb3-669e-430d-a861-58ac47ea992e\">\n",
              "    <div class=\"colab-df-container\">\n",
              "      <div>\n",
              "<style scoped>\n",
              "    .dataframe tbody tr th:only-of-type {\n",
              "        vertical-align: middle;\n",
              "    }\n",
              "\n",
              "    .dataframe tbody tr th {\n",
              "        vertical-align: top;\n",
              "    }\n",
              "\n",
              "    .dataframe thead th {\n",
              "        text-align: right;\n",
              "    }\n",
              "</style>\n",
              "<table border=\"1\" class=\"dataframe\">\n",
              "  <thead>\n",
              "    <tr style=\"text-align: right;\">\n",
              "      <th></th>\n",
              "      <th>total_images</th>\n",
              "      <th>last_price</th>\n",
              "      <th>total_area</th>\n",
              "      <th>first_day_exposition</th>\n",
              "      <th>rooms</th>\n",
              "      <th>ceiling_height</th>\n",
              "      <th>floors_total</th>\n",
              "      <th>living_area</th>\n",
              "      <th>floor</th>\n",
              "      <th>is_apartment</th>\n",
              "      <th>...</th>\n",
              "      <th>kitchen_area</th>\n",
              "      <th>balcony</th>\n",
              "      <th>locality_name</th>\n",
              "      <th>airports_nearest</th>\n",
              "      <th>cityCenters_nearest</th>\n",
              "      <th>parks_around3000</th>\n",
              "      <th>parks_nearest</th>\n",
              "      <th>ponds_around3000</th>\n",
              "      <th>ponds_nearest</th>\n",
              "      <th>days_exposition</th>\n",
              "    </tr>\n",
              "  </thead>\n",
              "  <tbody>\n",
              "  </tbody>\n",
              "</table>\n",
              "<p>0 rows × 22 columns</p>\n",
              "</div>\n",
              "      <button class=\"colab-df-convert\" onclick=\"convertToInteractive('df-3e6a5fb3-669e-430d-a861-58ac47ea992e')\"\n",
              "              title=\"Convert this dataframe to an interactive table.\"\n",
              "              style=\"display:none;\">\n",
              "        \n",
              "  <svg xmlns=\"http://www.w3.org/2000/svg\" height=\"24px\"viewBox=\"0 0 24 24\"\n",
              "       width=\"24px\">\n",
              "    <path d=\"M0 0h24v24H0V0z\" fill=\"none\"/>\n",
              "    <path d=\"M18.56 5.44l.94 2.06.94-2.06 2.06-.94-2.06-.94-.94-2.06-.94 2.06-2.06.94zm-11 1L8.5 8.5l.94-2.06 2.06-.94-2.06-.94L8.5 2.5l-.94 2.06-2.06.94zm10 10l.94 2.06.94-2.06 2.06-.94-2.06-.94-.94-2.06-.94 2.06-2.06.94z\"/><path d=\"M17.41 7.96l-1.37-1.37c-.4-.4-.92-.59-1.43-.59-.52 0-1.04.2-1.43.59L10.3 9.45l-7.72 7.72c-.78.78-.78 2.05 0 2.83L4 21.41c.39.39.9.59 1.41.59.51 0 1.02-.2 1.41-.59l7.78-7.78 2.81-2.81c.8-.78.8-2.07 0-2.86zM5.41 20L4 18.59l7.72-7.72 1.47 1.35L5.41 20z\"/>\n",
              "  </svg>\n",
              "      </button>\n",
              "      \n",
              "  <style>\n",
              "    .colab-df-container {\n",
              "      display:flex;\n",
              "      flex-wrap:wrap;\n",
              "      gap: 12px;\n",
              "    }\n",
              "\n",
              "    .colab-df-convert {\n",
              "      background-color: #E8F0FE;\n",
              "      border: none;\n",
              "      border-radius: 50%;\n",
              "      cursor: pointer;\n",
              "      display: none;\n",
              "      fill: #1967D2;\n",
              "      height: 32px;\n",
              "      padding: 0 0 0 0;\n",
              "      width: 32px;\n",
              "    }\n",
              "\n",
              "    .colab-df-convert:hover {\n",
              "      background-color: #E2EBFA;\n",
              "      box-shadow: 0px 1px 2px rgba(60, 64, 67, 0.3), 0px 1px 3px 1px rgba(60, 64, 67, 0.15);\n",
              "      fill: #174EA6;\n",
              "    }\n",
              "\n",
              "    [theme=dark] .colab-df-convert {\n",
              "      background-color: #3B4455;\n",
              "      fill: #D2E3FC;\n",
              "    }\n",
              "\n",
              "    [theme=dark] .colab-df-convert:hover {\n",
              "      background-color: #434B5C;\n",
              "      box-shadow: 0px 1px 3px 1px rgba(0, 0, 0, 0.15);\n",
              "      filter: drop-shadow(0px 1px 2px rgba(0, 0, 0, 0.3));\n",
              "      fill: #FFFFFF;\n",
              "    }\n",
              "  </style>\n",
              "\n",
              "      <script>\n",
              "        const buttonEl =\n",
              "          document.querySelector('#df-3e6a5fb3-669e-430d-a861-58ac47ea992e button.colab-df-convert');\n",
              "        buttonEl.style.display =\n",
              "          google.colab.kernel.accessAllowed ? 'block' : 'none';\n",
              "\n",
              "        async function convertToInteractive(key) {\n",
              "          const element = document.querySelector('#df-3e6a5fb3-669e-430d-a861-58ac47ea992e');\n",
              "          const dataTable =\n",
              "            await google.colab.kernel.invokeFunction('convertToInteractive',\n",
              "                                                     [key], {});\n",
              "          if (!dataTable) return;\n",
              "\n",
              "          const docLinkHtml = 'Like what you see? Visit the ' +\n",
              "            '<a target=\"_blank\" href=https://colab.research.google.com/notebooks/data_table.ipynb>data table notebook</a>'\n",
              "            + ' to learn more about interactive tables.';\n",
              "          element.innerHTML = '';\n",
              "          dataTable['output_type'] = 'display_data';\n",
              "          await google.colab.output.renderOutput(dataTable, element);\n",
              "          const docLink = document.createElement('div');\n",
              "          docLink.innerHTML = docLinkHtml;\n",
              "          element.appendChild(docLink);\n",
              "        }\n",
              "      </script>\n",
              "    </div>\n",
              "  </div>\n",
              "  "
            ]
          },
          "metadata": {},
          "execution_count": 163
        }
      ],
      "source": [
        "data.query('last_price==0')"
      ]
    },
    {
      "cell_type": "markdown",
      "metadata": {
        "id": "Sc0UsIqteKFt"
      },
      "source": [
        "**Вывод по признаку 'last_price'**: \n",
        "* Имеет тип данных **float64**. Менять тип данных не буду, так как это цена и человеку, который продает квартиру, она важна до капейки :) \n",
        "* Пропущенных значений нет."
      ]
    },
    {
      "cell_type": "markdown",
      "metadata": {
        "id": "s7CVC0qNeKFt"
      },
      "source": [
        "##### 3. 'total_area' — площадь квартиры в квадратных метрах (м²)  <a name=\"total_area\"></a> "
      ]
    },
    {
      "cell_type": "code",
      "execution_count": 164,
      "metadata": {
        "id": "4T3vZTxWeKFt"
      },
      "outputs": [],
      "source": [
        "#округляю до двух знаков после запятой\n",
        "data['total_area']=np.around(data['total_area'], decimals = 2)"
      ]
    },
    {
      "cell_type": "code",
      "execution_count": 165,
      "metadata": {
        "id": "M9_cYXwbeKFt",
        "outputId": "e57d6f42-4faa-4a53-f9c1-7c398b4d8fa0",
        "colab": {
          "base_uri": "https://localhost:8080/"
        }
      },
      "outputs": [
        {
          "output_type": "execute_result",
          "data": {
            "text/plain": [
              "count    23699.000000\n",
              "mean        60.348651\n",
              "std         35.654083\n",
              "min         12.000000\n",
              "25%         40.000000\n",
              "50%         52.000000\n",
              "75%         69.900000\n",
              "max        900.000000\n",
              "Name: total_area, dtype: float64"
            ]
          },
          "metadata": {},
          "execution_count": 165
        }
      ],
      "source": [
        "data['total_area'].describe()"
      ]
    },
    {
      "cell_type": "code",
      "execution_count": 166,
      "metadata": {
        "id": "pmrmng9deKFu",
        "outputId": "f44a5a3a-15e9-4e15-8d94-d8f1c7bd08e0",
        "colab": {
          "base_uri": "https://localhost:8080/",
          "height": 143
        }
      },
      "outputs": [
        {
          "output_type": "execute_result",
          "data": {
            "text/plain": [
              "Empty DataFrame\n",
              "Columns: [total_images, last_price, total_area, first_day_exposition, rooms, ceiling_height, floors_total, living_area, floor, is_apartment, studio, open_plan, kitchen_area, balcony, locality_name, airports_nearest, cityCenters_nearest, parks_around3000, parks_nearest, ponds_around3000, ponds_nearest, days_exposition]\n",
              "Index: []\n",
              "\n",
              "[0 rows x 22 columns]"
            ],
            "text/html": [
              "\n",
              "  <div id=\"df-b42f8d8e-bf17-44b8-8e66-e2a23e822e8d\">\n",
              "    <div class=\"colab-df-container\">\n",
              "      <div>\n",
              "<style scoped>\n",
              "    .dataframe tbody tr th:only-of-type {\n",
              "        vertical-align: middle;\n",
              "    }\n",
              "\n",
              "    .dataframe tbody tr th {\n",
              "        vertical-align: top;\n",
              "    }\n",
              "\n",
              "    .dataframe thead th {\n",
              "        text-align: right;\n",
              "    }\n",
              "</style>\n",
              "<table border=\"1\" class=\"dataframe\">\n",
              "  <thead>\n",
              "    <tr style=\"text-align: right;\">\n",
              "      <th></th>\n",
              "      <th>total_images</th>\n",
              "      <th>last_price</th>\n",
              "      <th>total_area</th>\n",
              "      <th>first_day_exposition</th>\n",
              "      <th>rooms</th>\n",
              "      <th>ceiling_height</th>\n",
              "      <th>floors_total</th>\n",
              "      <th>living_area</th>\n",
              "      <th>floor</th>\n",
              "      <th>is_apartment</th>\n",
              "      <th>...</th>\n",
              "      <th>kitchen_area</th>\n",
              "      <th>balcony</th>\n",
              "      <th>locality_name</th>\n",
              "      <th>airports_nearest</th>\n",
              "      <th>cityCenters_nearest</th>\n",
              "      <th>parks_around3000</th>\n",
              "      <th>parks_nearest</th>\n",
              "      <th>ponds_around3000</th>\n",
              "      <th>ponds_nearest</th>\n",
              "      <th>days_exposition</th>\n",
              "    </tr>\n",
              "  </thead>\n",
              "  <tbody>\n",
              "  </tbody>\n",
              "</table>\n",
              "<p>0 rows × 22 columns</p>\n",
              "</div>\n",
              "      <button class=\"colab-df-convert\" onclick=\"convertToInteractive('df-b42f8d8e-bf17-44b8-8e66-e2a23e822e8d')\"\n",
              "              title=\"Convert this dataframe to an interactive table.\"\n",
              "              style=\"display:none;\">\n",
              "        \n",
              "  <svg xmlns=\"http://www.w3.org/2000/svg\" height=\"24px\"viewBox=\"0 0 24 24\"\n",
              "       width=\"24px\">\n",
              "    <path d=\"M0 0h24v24H0V0z\" fill=\"none\"/>\n",
              "    <path d=\"M18.56 5.44l.94 2.06.94-2.06 2.06-.94-2.06-.94-.94-2.06-.94 2.06-2.06.94zm-11 1L8.5 8.5l.94-2.06 2.06-.94-2.06-.94L8.5 2.5l-.94 2.06-2.06.94zm10 10l.94 2.06.94-2.06 2.06-.94-2.06-.94-.94-2.06-.94 2.06-2.06.94z\"/><path d=\"M17.41 7.96l-1.37-1.37c-.4-.4-.92-.59-1.43-.59-.52 0-1.04.2-1.43.59L10.3 9.45l-7.72 7.72c-.78.78-.78 2.05 0 2.83L4 21.41c.39.39.9.59 1.41.59.51 0 1.02-.2 1.41-.59l7.78-7.78 2.81-2.81c.8-.78.8-2.07 0-2.86zM5.41 20L4 18.59l7.72-7.72 1.47 1.35L5.41 20z\"/>\n",
              "  </svg>\n",
              "      </button>\n",
              "      \n",
              "  <style>\n",
              "    .colab-df-container {\n",
              "      display:flex;\n",
              "      flex-wrap:wrap;\n",
              "      gap: 12px;\n",
              "    }\n",
              "\n",
              "    .colab-df-convert {\n",
              "      background-color: #E8F0FE;\n",
              "      border: none;\n",
              "      border-radius: 50%;\n",
              "      cursor: pointer;\n",
              "      display: none;\n",
              "      fill: #1967D2;\n",
              "      height: 32px;\n",
              "      padding: 0 0 0 0;\n",
              "      width: 32px;\n",
              "    }\n",
              "\n",
              "    .colab-df-convert:hover {\n",
              "      background-color: #E2EBFA;\n",
              "      box-shadow: 0px 1px 2px rgba(60, 64, 67, 0.3), 0px 1px 3px 1px rgba(60, 64, 67, 0.15);\n",
              "      fill: #174EA6;\n",
              "    }\n",
              "\n",
              "    [theme=dark] .colab-df-convert {\n",
              "      background-color: #3B4455;\n",
              "      fill: #D2E3FC;\n",
              "    }\n",
              "\n",
              "    [theme=dark] .colab-df-convert:hover {\n",
              "      background-color: #434B5C;\n",
              "      box-shadow: 0px 1px 3px 1px rgba(0, 0, 0, 0.15);\n",
              "      filter: drop-shadow(0px 1px 2px rgba(0, 0, 0, 0.3));\n",
              "      fill: #FFFFFF;\n",
              "    }\n",
              "  </style>\n",
              "\n",
              "      <script>\n",
              "        const buttonEl =\n",
              "          document.querySelector('#df-b42f8d8e-bf17-44b8-8e66-e2a23e822e8d button.colab-df-convert');\n",
              "        buttonEl.style.display =\n",
              "          google.colab.kernel.accessAllowed ? 'block' : 'none';\n",
              "\n",
              "        async function convertToInteractive(key) {\n",
              "          const element = document.querySelector('#df-b42f8d8e-bf17-44b8-8e66-e2a23e822e8d');\n",
              "          const dataTable =\n",
              "            await google.colab.kernel.invokeFunction('convertToInteractive',\n",
              "                                                     [key], {});\n",
              "          if (!dataTable) return;\n",
              "\n",
              "          const docLinkHtml = 'Like what you see? Visit the ' +\n",
              "            '<a target=\"_blank\" href=https://colab.research.google.com/notebooks/data_table.ipynb>data table notebook</a>'\n",
              "            + ' to learn more about interactive tables.';\n",
              "          element.innerHTML = '';\n",
              "          dataTable['output_type'] = 'display_data';\n",
              "          await google.colab.output.renderOutput(dataTable, element);\n",
              "          const docLink = document.createElement('div');\n",
              "          docLink.innerHTML = docLinkHtml;\n",
              "          element.appendChild(docLink);\n",
              "        }\n",
              "      </script>\n",
              "    </div>\n",
              "  </div>\n",
              "  "
            ]
          },
          "metadata": {},
          "execution_count": 166
        }
      ],
      "source": [
        "data.query('total_area<0 or total_area==0')"
      ]
    },
    {
      "cell_type": "markdown",
      "metadata": {
        "id": "1UjXrddgeKFu"
      },
      "source": [
        "**Вывод по признаку 'total_area'**: \n",
        "* Имеет тип данных **float64**. Менять тип данных не будем, так как бывают квартиры например '43,7' $м^2$, но округлю значения признака до двух знаков после запятой\n",
        "* Пропущенных значений нет"
      ]
    },
    {
      "cell_type": "markdown",
      "metadata": {
        "id": "xfX5FGWQeKFv"
      },
      "source": [
        "##### 4. first_day_exposition — дата публикации  <a name=\"first_day_exposition\"></a> "
      ]
    },
    {
      "cell_type": "code",
      "execution_count": 167,
      "metadata": {
        "id": "lhNdnvgheKFv",
        "outputId": "221a48d0-96ba-430a-d9df-7d816c35b0e5",
        "colab": {
          "base_uri": "https://localhost:8080/"
        }
      },
      "outputs": [
        {
          "output_type": "execute_result",
          "data": {
            "text/plain": [
              "0"
            ]
          },
          "metadata": {},
          "execution_count": 167
        }
      ],
      "source": [
        "data['first_day_exposition'].isnull().sum()"
      ]
    },
    {
      "cell_type": "code",
      "execution_count": 168,
      "metadata": {
        "id": "jc1eKAfXeKFv"
      },
      "outputs": [],
      "source": [
        "data['first_day_exposition'] = pd.to_datetime(data['first_day_exposition'], format='%Y-%m-%dT%H:%M:%S')"
      ]
    },
    {
      "cell_type": "markdown",
      "metadata": {
        "id": "6A8XJNNzeKFv"
      },
      "source": [
        "Даты были переведены в читабельный формат.  \n",
        "Проверю, изменился ли тип данных.  "
      ]
    },
    {
      "cell_type": "code",
      "execution_count": 169,
      "metadata": {
        "id": "2EKkbMOHeKFw",
        "outputId": "b996d110-b3eb-479b-cfa3-3fa729740e4e",
        "colab": {
          "base_uri": "https://localhost:8080/"
        }
      },
      "outputs": [
        {
          "output_type": "stream",
          "name": "stdout",
          "text": [
            "<class 'pandas.core.frame.DataFrame'>\n",
            "RangeIndex: 23699 entries, 0 to 23698\n",
            "Data columns (total 22 columns):\n",
            " #   Column                Non-Null Count  Dtype         \n",
            "---  ------                --------------  -----         \n",
            " 0   total_images          23699 non-null  int64         \n",
            " 1   last_price            23699 non-null  float64       \n",
            " 2   total_area            23699 non-null  float64       \n",
            " 3   first_day_exposition  23699 non-null  datetime64[ns]\n",
            " 4   rooms                 23699 non-null  int64         \n",
            " 5   ceiling_height        14504 non-null  float64       \n",
            " 6   floors_total          23613 non-null  float64       \n",
            " 7   living_area           21796 non-null  float64       \n",
            " 8   floor                 23699 non-null  int64         \n",
            " 9   is_apartment          2775 non-null   object        \n",
            " 10  studio                23699 non-null  bool          \n",
            " 11  open_plan             23699 non-null  bool          \n",
            " 12  kitchen_area          21421 non-null  float64       \n",
            " 13  balcony               12180 non-null  float64       \n",
            " 14  locality_name         23650 non-null  object        \n",
            " 15  airports_nearest      18157 non-null  float64       \n",
            " 16  cityCenters_nearest   18180 non-null  float64       \n",
            " 17  parks_around3000      18181 non-null  float64       \n",
            " 18  parks_nearest         8079 non-null   float64       \n",
            " 19  ponds_around3000      18181 non-null  float64       \n",
            " 20  ponds_nearest         9110 non-null   float64       \n",
            " 21  days_exposition       20518 non-null  float64       \n",
            "dtypes: bool(2), datetime64[ns](1), float64(14), int64(3), object(2)\n",
            "memory usage: 3.7+ MB\n"
          ]
        }
      ],
      "source": [
        "data.info()"
      ]
    },
    {
      "cell_type": "markdown",
      "metadata": {
        "id": "mZ7RyIXUeKFw"
      },
      "source": [
        "**Вывод по признаку 'first_day_exposition'**:\n",
        "* В типе данных указан тип **'object'**, поменяла его на **datetime64[ns]**.\n",
        "* Пропущенных значений нет"
      ]
    },
    {
      "cell_type": "markdown",
      "metadata": {
        "id": "_wky-3VFeKFw"
      },
      "source": [
        "##### 5. rooms — число комнат   <a name=\"rooms\"></a> "
      ]
    },
    {
      "cell_type": "code",
      "execution_count": 170,
      "metadata": {
        "id": "SmgOXlsceKFw",
        "outputId": "0b1c6ed8-28b0-410b-e013-7b364b28735b",
        "colab": {
          "base_uri": "https://localhost:8080/"
        }
      },
      "outputs": [
        {
          "output_type": "execute_result",
          "data": {
            "text/plain": [
              "1     8047\n",
              "2     7940\n",
              "3     5814\n",
              "4     1180\n",
              "5      326\n",
              "0      197\n",
              "6      105\n",
              "7       59\n",
              "8       12\n",
              "9        8\n",
              "10       3\n",
              "11       2\n",
              "14       2\n",
              "15       1\n",
              "19       1\n",
              "16       1\n",
              "12       1\n",
              "Name: rooms, dtype: int64"
            ]
          },
          "metadata": {},
          "execution_count": 170
        }
      ],
      "source": [
        "data['rooms'].value_counts()"
      ]
    },
    {
      "cell_type": "markdown",
      "metadata": {
        "id": "NrfzbTjleKFw"
      },
      "source": [
        "Вижу, что в данных присутствуют значения, равные **'0'**, таких **197**.    \n",
        "Делаю предположение, что пользователи при занесении данных в Яндекс.  Недвижимость по ошибке указали **'0'** комнат вместо **1**.    \n",
        "Сделаю сводную табличку по трем параметрам: **'open_plan'**, **'is_apartment'**, **'studio'**.  \n",
        "\n"
      ]
    },
    {
      "cell_type": "code",
      "execution_count": 171,
      "metadata": {
        "id": "G5MAXYj2eKFx",
        "outputId": "6fb4604a-80de-47ba-a736-37784d3fd5ed",
        "colab": {
          "base_uri": "https://localhost:8080/",
          "height": 614
        }
      },
      "outputs": [
        {
          "output_type": "execute_result",
          "data": {
            "text/plain": [
              "       studio\n",
              "rooms        \n",
              "0         197\n",
              "1        8047\n",
              "2        7940\n",
              "3        5814\n",
              "4        1180\n",
              "5         326\n",
              "6         105\n",
              "7          59\n",
              "8          12\n",
              "9           8\n",
              "10          3\n",
              "11          2\n",
              "12          1\n",
              "14          2\n",
              "15          1\n",
              "16          1\n",
              "19          1"
            ],
            "text/html": [
              "\n",
              "  <div id=\"df-c862d7c0-183f-4cab-a997-7bf6aef67b02\">\n",
              "    <div class=\"colab-df-container\">\n",
              "      <div>\n",
              "<style scoped>\n",
              "    .dataframe tbody tr th:only-of-type {\n",
              "        vertical-align: middle;\n",
              "    }\n",
              "\n",
              "    .dataframe tbody tr th {\n",
              "        vertical-align: top;\n",
              "    }\n",
              "\n",
              "    .dataframe thead th {\n",
              "        text-align: right;\n",
              "    }\n",
              "</style>\n",
              "<table border=\"1\" class=\"dataframe\">\n",
              "  <thead>\n",
              "    <tr style=\"text-align: right;\">\n",
              "      <th></th>\n",
              "      <th>studio</th>\n",
              "    </tr>\n",
              "    <tr>\n",
              "      <th>rooms</th>\n",
              "      <th></th>\n",
              "    </tr>\n",
              "  </thead>\n",
              "  <tbody>\n",
              "    <tr>\n",
              "      <th>0</th>\n",
              "      <td>197</td>\n",
              "    </tr>\n",
              "    <tr>\n",
              "      <th>1</th>\n",
              "      <td>8047</td>\n",
              "    </tr>\n",
              "    <tr>\n",
              "      <th>2</th>\n",
              "      <td>7940</td>\n",
              "    </tr>\n",
              "    <tr>\n",
              "      <th>3</th>\n",
              "      <td>5814</td>\n",
              "    </tr>\n",
              "    <tr>\n",
              "      <th>4</th>\n",
              "      <td>1180</td>\n",
              "    </tr>\n",
              "    <tr>\n",
              "      <th>5</th>\n",
              "      <td>326</td>\n",
              "    </tr>\n",
              "    <tr>\n",
              "      <th>6</th>\n",
              "      <td>105</td>\n",
              "    </tr>\n",
              "    <tr>\n",
              "      <th>7</th>\n",
              "      <td>59</td>\n",
              "    </tr>\n",
              "    <tr>\n",
              "      <th>8</th>\n",
              "      <td>12</td>\n",
              "    </tr>\n",
              "    <tr>\n",
              "      <th>9</th>\n",
              "      <td>8</td>\n",
              "    </tr>\n",
              "    <tr>\n",
              "      <th>10</th>\n",
              "      <td>3</td>\n",
              "    </tr>\n",
              "    <tr>\n",
              "      <th>11</th>\n",
              "      <td>2</td>\n",
              "    </tr>\n",
              "    <tr>\n",
              "      <th>12</th>\n",
              "      <td>1</td>\n",
              "    </tr>\n",
              "    <tr>\n",
              "      <th>14</th>\n",
              "      <td>2</td>\n",
              "    </tr>\n",
              "    <tr>\n",
              "      <th>15</th>\n",
              "      <td>1</td>\n",
              "    </tr>\n",
              "    <tr>\n",
              "      <th>16</th>\n",
              "      <td>1</td>\n",
              "    </tr>\n",
              "    <tr>\n",
              "      <th>19</th>\n",
              "      <td>1</td>\n",
              "    </tr>\n",
              "  </tbody>\n",
              "</table>\n",
              "</div>\n",
              "      <button class=\"colab-df-convert\" onclick=\"convertToInteractive('df-c862d7c0-183f-4cab-a997-7bf6aef67b02')\"\n",
              "              title=\"Convert this dataframe to an interactive table.\"\n",
              "              style=\"display:none;\">\n",
              "        \n",
              "  <svg xmlns=\"http://www.w3.org/2000/svg\" height=\"24px\"viewBox=\"0 0 24 24\"\n",
              "       width=\"24px\">\n",
              "    <path d=\"M0 0h24v24H0V0z\" fill=\"none\"/>\n",
              "    <path d=\"M18.56 5.44l.94 2.06.94-2.06 2.06-.94-2.06-.94-.94-2.06-.94 2.06-2.06.94zm-11 1L8.5 8.5l.94-2.06 2.06-.94-2.06-.94L8.5 2.5l-.94 2.06-2.06.94zm10 10l.94 2.06.94-2.06 2.06-.94-2.06-.94-.94-2.06-.94 2.06-2.06.94z\"/><path d=\"M17.41 7.96l-1.37-1.37c-.4-.4-.92-.59-1.43-.59-.52 0-1.04.2-1.43.59L10.3 9.45l-7.72 7.72c-.78.78-.78 2.05 0 2.83L4 21.41c.39.39.9.59 1.41.59.51 0 1.02-.2 1.41-.59l7.78-7.78 2.81-2.81c.8-.78.8-2.07 0-2.86zM5.41 20L4 18.59l7.72-7.72 1.47 1.35L5.41 20z\"/>\n",
              "  </svg>\n",
              "      </button>\n",
              "      \n",
              "  <style>\n",
              "    .colab-df-container {\n",
              "      display:flex;\n",
              "      flex-wrap:wrap;\n",
              "      gap: 12px;\n",
              "    }\n",
              "\n",
              "    .colab-df-convert {\n",
              "      background-color: #E8F0FE;\n",
              "      border: none;\n",
              "      border-radius: 50%;\n",
              "      cursor: pointer;\n",
              "      display: none;\n",
              "      fill: #1967D2;\n",
              "      height: 32px;\n",
              "      padding: 0 0 0 0;\n",
              "      width: 32px;\n",
              "    }\n",
              "\n",
              "    .colab-df-convert:hover {\n",
              "      background-color: #E2EBFA;\n",
              "      box-shadow: 0px 1px 2px rgba(60, 64, 67, 0.3), 0px 1px 3px 1px rgba(60, 64, 67, 0.15);\n",
              "      fill: #174EA6;\n",
              "    }\n",
              "\n",
              "    [theme=dark] .colab-df-convert {\n",
              "      background-color: #3B4455;\n",
              "      fill: #D2E3FC;\n",
              "    }\n",
              "\n",
              "    [theme=dark] .colab-df-convert:hover {\n",
              "      background-color: #434B5C;\n",
              "      box-shadow: 0px 1px 3px 1px rgba(0, 0, 0, 0.15);\n",
              "      filter: drop-shadow(0px 1px 2px rgba(0, 0, 0, 0.3));\n",
              "      fill: #FFFFFF;\n",
              "    }\n",
              "  </style>\n",
              "\n",
              "      <script>\n",
              "        const buttonEl =\n",
              "          document.querySelector('#df-c862d7c0-183f-4cab-a997-7bf6aef67b02 button.colab-df-convert');\n",
              "        buttonEl.style.display =\n",
              "          google.colab.kernel.accessAllowed ? 'block' : 'none';\n",
              "\n",
              "        async function convertToInteractive(key) {\n",
              "          const element = document.querySelector('#df-c862d7c0-183f-4cab-a997-7bf6aef67b02');\n",
              "          const dataTable =\n",
              "            await google.colab.kernel.invokeFunction('convertToInteractive',\n",
              "                                                     [key], {});\n",
              "          if (!dataTable) return;\n",
              "\n",
              "          const docLinkHtml = 'Like what you see? Visit the ' +\n",
              "            '<a target=\"_blank\" href=https://colab.research.google.com/notebooks/data_table.ipynb>data table notebook</a>'\n",
              "            + ' to learn more about interactive tables.';\n",
              "          element.innerHTML = '';\n",
              "          dataTable['output_type'] = 'display_data';\n",
              "          await google.colab.output.renderOutput(dataTable, element);\n",
              "          const docLink = document.createElement('div');\n",
              "          docLink.innerHTML = docLinkHtml;\n",
              "          element.appendChild(docLink);\n",
              "        }\n",
              "      </script>\n",
              "    </div>\n",
              "  </div>\n",
              "  "
            ]
          },
          "metadata": {},
          "execution_count": 171
        }
      ],
      "source": [
        "data.pivot_table(index='rooms',values=['studio'],aggfunc='count')"
      ]
    },
    {
      "cell_type": "markdown",
      "metadata": {
        "id": "JMbj9PjueKFx"
      },
      "source": [
        "**'0'** это не пропущенное значение, а ошибка пользователя, при заполнении пункта **'rooms'**, так квартирка-студия."
      ]
    },
    {
      "cell_type": "markdown",
      "metadata": {
        "id": "MmNuyljkeKFx"
      },
      "source": [
        "Заменю значение 0 на значение 1."
      ]
    },
    {
      "cell_type": "code",
      "execution_count": 172,
      "metadata": {
        "id": "tD5MjbvseKFx"
      },
      "outputs": [],
      "source": [
        "data['rooms']=data['rooms'].replace(0,1)"
      ]
    },
    {
      "cell_type": "code",
      "execution_count": 173,
      "metadata": {
        "id": "GM9ulEypeKFx",
        "outputId": "c07dfc22-3c6d-4cc6-bbea-2f0e76bd15d1",
        "colab": {
          "base_uri": "https://localhost:8080/",
          "height": 143
        }
      },
      "outputs": [
        {
          "output_type": "execute_result",
          "data": {
            "text/plain": [
              "Empty DataFrame\n",
              "Columns: [total_images, last_price, total_area, first_day_exposition, rooms, ceiling_height, floors_total, living_area, floor, is_apartment, studio, open_plan, kitchen_area, balcony, locality_name, airports_nearest, cityCenters_nearest, parks_around3000, parks_nearest, ponds_around3000, ponds_nearest, days_exposition]\n",
              "Index: []\n",
              "\n",
              "[0 rows x 22 columns]"
            ],
            "text/html": [
              "\n",
              "  <div id=\"df-2c985c6a-84f7-4383-8924-5435bd505129\">\n",
              "    <div class=\"colab-df-container\">\n",
              "      <div>\n",
              "<style scoped>\n",
              "    .dataframe tbody tr th:only-of-type {\n",
              "        vertical-align: middle;\n",
              "    }\n",
              "\n",
              "    .dataframe tbody tr th {\n",
              "        vertical-align: top;\n",
              "    }\n",
              "\n",
              "    .dataframe thead th {\n",
              "        text-align: right;\n",
              "    }\n",
              "</style>\n",
              "<table border=\"1\" class=\"dataframe\">\n",
              "  <thead>\n",
              "    <tr style=\"text-align: right;\">\n",
              "      <th></th>\n",
              "      <th>total_images</th>\n",
              "      <th>last_price</th>\n",
              "      <th>total_area</th>\n",
              "      <th>first_day_exposition</th>\n",
              "      <th>rooms</th>\n",
              "      <th>ceiling_height</th>\n",
              "      <th>floors_total</th>\n",
              "      <th>living_area</th>\n",
              "      <th>floor</th>\n",
              "      <th>is_apartment</th>\n",
              "      <th>...</th>\n",
              "      <th>kitchen_area</th>\n",
              "      <th>balcony</th>\n",
              "      <th>locality_name</th>\n",
              "      <th>airports_nearest</th>\n",
              "      <th>cityCenters_nearest</th>\n",
              "      <th>parks_around3000</th>\n",
              "      <th>parks_nearest</th>\n",
              "      <th>ponds_around3000</th>\n",
              "      <th>ponds_nearest</th>\n",
              "      <th>days_exposition</th>\n",
              "    </tr>\n",
              "  </thead>\n",
              "  <tbody>\n",
              "  </tbody>\n",
              "</table>\n",
              "<p>0 rows × 22 columns</p>\n",
              "</div>\n",
              "      <button class=\"colab-df-convert\" onclick=\"convertToInteractive('df-2c985c6a-84f7-4383-8924-5435bd505129')\"\n",
              "              title=\"Convert this dataframe to an interactive table.\"\n",
              "              style=\"display:none;\">\n",
              "        \n",
              "  <svg xmlns=\"http://www.w3.org/2000/svg\" height=\"24px\"viewBox=\"0 0 24 24\"\n",
              "       width=\"24px\">\n",
              "    <path d=\"M0 0h24v24H0V0z\" fill=\"none\"/>\n",
              "    <path d=\"M18.56 5.44l.94 2.06.94-2.06 2.06-.94-2.06-.94-.94-2.06-.94 2.06-2.06.94zm-11 1L8.5 8.5l.94-2.06 2.06-.94-2.06-.94L8.5 2.5l-.94 2.06-2.06.94zm10 10l.94 2.06.94-2.06 2.06-.94-2.06-.94-.94-2.06-.94 2.06-2.06.94z\"/><path d=\"M17.41 7.96l-1.37-1.37c-.4-.4-.92-.59-1.43-.59-.52 0-1.04.2-1.43.59L10.3 9.45l-7.72 7.72c-.78.78-.78 2.05 0 2.83L4 21.41c.39.39.9.59 1.41.59.51 0 1.02-.2 1.41-.59l7.78-7.78 2.81-2.81c.8-.78.8-2.07 0-2.86zM5.41 20L4 18.59l7.72-7.72 1.47 1.35L5.41 20z\"/>\n",
              "  </svg>\n",
              "      </button>\n",
              "      \n",
              "  <style>\n",
              "    .colab-df-container {\n",
              "      display:flex;\n",
              "      flex-wrap:wrap;\n",
              "      gap: 12px;\n",
              "    }\n",
              "\n",
              "    .colab-df-convert {\n",
              "      background-color: #E8F0FE;\n",
              "      border: none;\n",
              "      border-radius: 50%;\n",
              "      cursor: pointer;\n",
              "      display: none;\n",
              "      fill: #1967D2;\n",
              "      height: 32px;\n",
              "      padding: 0 0 0 0;\n",
              "      width: 32px;\n",
              "    }\n",
              "\n",
              "    .colab-df-convert:hover {\n",
              "      background-color: #E2EBFA;\n",
              "      box-shadow: 0px 1px 2px rgba(60, 64, 67, 0.3), 0px 1px 3px 1px rgba(60, 64, 67, 0.15);\n",
              "      fill: #174EA6;\n",
              "    }\n",
              "\n",
              "    [theme=dark] .colab-df-convert {\n",
              "      background-color: #3B4455;\n",
              "      fill: #D2E3FC;\n",
              "    }\n",
              "\n",
              "    [theme=dark] .colab-df-convert:hover {\n",
              "      background-color: #434B5C;\n",
              "      box-shadow: 0px 1px 3px 1px rgba(0, 0, 0, 0.15);\n",
              "      filter: drop-shadow(0px 1px 2px rgba(0, 0, 0, 0.3));\n",
              "      fill: #FFFFFF;\n",
              "    }\n",
              "  </style>\n",
              "\n",
              "      <script>\n",
              "        const buttonEl =\n",
              "          document.querySelector('#df-2c985c6a-84f7-4383-8924-5435bd505129 button.colab-df-convert');\n",
              "        buttonEl.style.display =\n",
              "          google.colab.kernel.accessAllowed ? 'block' : 'none';\n",
              "\n",
              "        async function convertToInteractive(key) {\n",
              "          const element = document.querySelector('#df-2c985c6a-84f7-4383-8924-5435bd505129');\n",
              "          const dataTable =\n",
              "            await google.colab.kernel.invokeFunction('convertToInteractive',\n",
              "                                                     [key], {});\n",
              "          if (!dataTable) return;\n",
              "\n",
              "          const docLinkHtml = 'Like what you see? Visit the ' +\n",
              "            '<a target=\"_blank\" href=https://colab.research.google.com/notebooks/data_table.ipynb>data table notebook</a>'\n",
              "            + ' to learn more about interactive tables.';\n",
              "          element.innerHTML = '';\n",
              "          dataTable['output_type'] = 'display_data';\n",
              "          await google.colab.output.renderOutput(dataTable, element);\n",
              "          const docLink = document.createElement('div');\n",
              "          docLink.innerHTML = docLinkHtml;\n",
              "          element.appendChild(docLink);\n",
              "        }\n",
              "      </script>\n",
              "    </div>\n",
              "  </div>\n",
              "  "
            ]
          },
          "metadata": {},
          "execution_count": 173
        }
      ],
      "source": [
        "data.query('rooms==0')"
      ]
    },
    {
      "cell_type": "markdown",
      "metadata": {
        "id": "Q_Bzmld1eKFy"
      },
      "source": [
        "Сделаю категоризацию для признака **rooms**"
      ]
    },
    {
      "cell_type": "code",
      "execution_count": 174,
      "metadata": {
        "id": "sIr9R6JieKFy"
      },
      "outputs": [],
      "source": [
        "def rooms_category(count):\n",
        "    rooms = {\n",
        "        1: 'однокомнатная/студия',\n",
        "        2: 'двухкомнатная',\n",
        "        3: 'трехкомнатная',\n",
        "    }\n",
        "\n",
        "    return rooms.get(count, 'четырехкомнатная+')"
      ]
    },
    {
      "cell_type": "code",
      "execution_count": 175,
      "metadata": {
        "id": "btA1dvC4eKFy",
        "outputId": "e80df231-44ef-4595-9a21-bdebc75067e5",
        "colab": {
          "base_uri": "https://localhost:8080/"
        }
      },
      "outputs": [
        {
          "output_type": "execute_result",
          "data": {
            "text/plain": [
              "однокомнатная/студия    8244\n",
              "двухкомнатная           7940\n",
              "трехкомнатная           5814\n",
              "четырехкомнатная+       1701\n",
              "Name: rooms_category, dtype: int64"
            ]
          },
          "metadata": {},
          "execution_count": 175
        }
      ],
      "source": [
        "data['rooms_category']=data['rooms'].apply(rooms_category)\n",
        "data['rooms_category'].value_counts()"
      ]
    },
    {
      "cell_type": "markdown",
      "metadata": {
        "id": "gK9ZwA_weKFz"
      },
      "source": [
        "**Вывод по признаку rooms**:\n",
        "* Тип данных **'int64'** указан верно.\n",
        "* Пропущенных значений нет"
      ]
    },
    {
      "cell_type": "markdown",
      "metadata": {
        "id": "8N4--7NJeKFz"
      },
      "source": [
        "##### 6. ceiling_height — высота потолков (м)  <a name=\"ceiling_height\"></a> "
      ]
    },
    {
      "cell_type": "code",
      "execution_count": 176,
      "metadata": {
        "id": "ksGIFGwJeKFz",
        "outputId": "3561a202-13d0-4468-d81b-519a3996d52d",
        "colab": {
          "base_uri": "https://localhost:8080/"
        }
      },
      "outputs": [
        {
          "output_type": "execute_result",
          "data": {
            "text/plain": [
              "count    14504.000000\n",
              "mean         2.771499\n",
              "std          1.261056\n",
              "min          1.000000\n",
              "25%          2.520000\n",
              "50%          2.650000\n",
              "75%          2.800000\n",
              "max        100.000000\n",
              "Name: ceiling_height, dtype: float64"
            ]
          },
          "metadata": {},
          "execution_count": 176
        }
      ],
      "source": [
        "data['ceiling_height'].describe()"
      ]
    },
    {
      "cell_type": "markdown",
      "metadata": {
        "id": "9_68mIVeeKFz"
      },
      "source": [
        "Наблюдаю, что по признаку 61% пропущенных значений."
      ]
    },
    {
      "cell_type": "code",
      "execution_count": 177,
      "metadata": {
        "id": "W1CNek-reKFz"
      },
      "outputs": [],
      "source": [
        "data['ceiling_height']=data['ceiling_height'].fillna(0)"
      ]
    },
    {
      "cell_type": "code",
      "execution_count": 178,
      "metadata": {
        "id": "SO_Zt-GyeKFz",
        "outputId": "b435e013-7aa7-49a1-8fed-e2ad25c247f1",
        "colab": {
          "base_uri": "https://localhost:8080/"
        }
      },
      "outputs": [
        {
          "output_type": "execute_result",
          "data": {
            "text/plain": [
              "0"
            ]
          },
          "metadata": {},
          "execution_count": 178
        }
      ],
      "source": [
        "data.ceiling_height.isnull().sum()"
      ]
    },
    {
      "cell_type": "markdown",
      "metadata": {
        "id": "ai-x6OQ5eKF0"
      },
      "source": [
        "**Вывод по признаку ceiling_height**:\n",
        "* Тип данных **'float64'** указан верно.\n",
        "* Пропущенных значения были заменены на 0, что означает, что их нет."
      ]
    },
    {
      "cell_type": "markdown",
      "metadata": {
        "id": "mi7xOZzgeKF0"
      },
      "source": [
        "##### 7. floors_total — всего этажей в доме <a name=\"floors_total\"></a> "
      ]
    },
    {
      "cell_type": "code",
      "execution_count": 179,
      "metadata": {
        "id": "dEfC6Gj_eKF0",
        "outputId": "d920e47f-e179-4c05-c0b6-64947bc3229f",
        "colab": {
          "base_uri": "https://localhost:8080/"
        }
      },
      "outputs": [
        {
          "output_type": "execute_result",
          "data": {
            "text/plain": [
              "86"
            ]
          },
          "metadata": {},
          "execution_count": 179
        }
      ],
      "source": [
        "data['floors_total'].isnull().sum() "
      ]
    },
    {
      "cell_type": "markdown",
      "metadata": {
        "id": "i6qQ0cv6eKF0"
      },
      "source": [
        "Пропущенных значений 0,36%. Так как количество этажей не указано и я никак не смогу это узнать. Заменять NaN буду на 0. "
      ]
    },
    {
      "cell_type": "code",
      "execution_count": 180,
      "metadata": {
        "id": "lOmJAO8neKF1"
      },
      "outputs": [],
      "source": [
        "data['floors_total']=data['floors_total'].fillna(value=0)"
      ]
    },
    {
      "cell_type": "code",
      "execution_count": 181,
      "metadata": {
        "id": "A3h_IcSTeKF1"
      },
      "outputs": [],
      "source": [
        "data['floors_total']=data['floors_total'].astype('int')\n"
      ]
    },
    {
      "cell_type": "code",
      "execution_count": 182,
      "metadata": {
        "id": "d5MKTCRIeKF1",
        "outputId": "352cdd56-239c-4fcd-c5e1-a3fd71caa81a",
        "colab": {
          "base_uri": "https://localhost:8080/"
        }
      },
      "outputs": [
        {
          "output_type": "stream",
          "name": "stdout",
          "text": [
            "<class 'pandas.core.frame.DataFrame'>\n",
            "RangeIndex: 23699 entries, 0 to 23698\n",
            "Data columns (total 23 columns):\n",
            " #   Column                Non-Null Count  Dtype         \n",
            "---  ------                --------------  -----         \n",
            " 0   total_images          23699 non-null  int64         \n",
            " 1   last_price            23699 non-null  float64       \n",
            " 2   total_area            23699 non-null  float64       \n",
            " 3   first_day_exposition  23699 non-null  datetime64[ns]\n",
            " 4   rooms                 23699 non-null  int64         \n",
            " 5   ceiling_height        23699 non-null  float64       \n",
            " 6   floors_total          23699 non-null  int64         \n",
            " 7   living_area           21796 non-null  float64       \n",
            " 8   floor                 23699 non-null  int64         \n",
            " 9   is_apartment          2775 non-null   object        \n",
            " 10  studio                23699 non-null  bool          \n",
            " 11  open_plan             23699 non-null  bool          \n",
            " 12  kitchen_area          21421 non-null  float64       \n",
            " 13  balcony               12180 non-null  float64       \n",
            " 14  locality_name         23650 non-null  object        \n",
            " 15  airports_nearest      18157 non-null  float64       \n",
            " 16  cityCenters_nearest   18180 non-null  float64       \n",
            " 17  parks_around3000      18181 non-null  float64       \n",
            " 18  parks_nearest         8079 non-null   float64       \n",
            " 19  ponds_around3000      18181 non-null  float64       \n",
            " 20  ponds_nearest         9110 non-null   float64       \n",
            " 21  days_exposition       20518 non-null  float64       \n",
            " 22  rooms_category        23699 non-null  object        \n",
            "dtypes: bool(2), datetime64[ns](1), float64(13), int64(4), object(3)\n",
            "memory usage: 3.8+ MB\n"
          ]
        }
      ],
      "source": [
        "data.info()"
      ]
    },
    {
      "cell_type": "markdown",
      "metadata": {
        "id": "jw7C0GiTeKF1"
      },
      "source": [
        "**Вывод по признаку floors_total**:\n",
        "* Тип данных **'float64'** поменяла на **int64**.\n",
        "* Пропущенных значения были заменены на 0, что означает, что данных нет."
      ]
    },
    {
      "cell_type": "markdown",
      "metadata": {
        "id": "iJpo3sKveKF1"
      },
      "source": [
        "##### 8. living_area — жилая площадь в квадратных метрах(м²) <a name=\"living_area\"></a> "
      ]
    },
    {
      "cell_type": "code",
      "execution_count": 183,
      "metadata": {
        "id": "04lwcLkieKF1",
        "outputId": "3843e604-dddd-44dd-a965-7995666aa2f4",
        "colab": {
          "base_uri": "https://localhost:8080/"
        }
      },
      "outputs": [
        {
          "output_type": "execute_result",
          "data": {
            "text/plain": [
              "1903"
            ]
          },
          "metadata": {},
          "execution_count": 183
        }
      ],
      "source": [
        "data.living_area.isnull().sum()"
      ]
    },
    {
      "cell_type": "markdown",
      "metadata": {
        "id": "AtuWMVy7eKF2"
      },
      "source": [
        "Пропущенных значений 8 %, заменю их медианным значением по признаку **room_category**."
      ]
    },
    {
      "cell_type": "code",
      "execution_count": 184,
      "metadata": {
        "scrolled": true,
        "id": "ERn8-gDieKF2",
        "outputId": "1e50765b-ddb9-4c47-ed0c-13c26095d1cd",
        "colab": {
          "base_uri": "https://localhost:8080/"
        }
      },
      "outputs": [
        {
          "output_type": "execute_result",
          "data": {
            "text/plain": [
              "count    21796.000000\n",
              "mean        34.457852\n",
              "std         22.030445\n",
              "min          2.000000\n",
              "25%         18.600000\n",
              "50%         30.000000\n",
              "75%         42.300000\n",
              "max        409.700000\n",
              "Name: living_area, dtype: float64"
            ]
          },
          "metadata": {},
          "execution_count": 184
        }
      ],
      "source": [
        "data['living_area'].describe()"
      ]
    },
    {
      "cell_type": "code",
      "execution_count": 185,
      "metadata": {
        "id": "IEN8Uap3eKF2"
      },
      "outputs": [],
      "source": [
        "data.loc[data['living_area'].isnull(), 'living_area'] = data['living_area'].median()"
      ]
    },
    {
      "cell_type": "code",
      "execution_count": 186,
      "metadata": {
        "id": "sclcku6GeKF2",
        "outputId": "e9ef65a6-1cbd-4fff-ba3d-4aec18e6b41f",
        "colab": {
          "base_uri": "https://localhost:8080/"
        }
      },
      "outputs": [
        {
          "output_type": "execute_result",
          "data": {
            "text/plain": [
              "0"
            ]
          },
          "metadata": {},
          "execution_count": 186
        }
      ],
      "source": [
        "data['living_area'].isnull().sum()"
      ]
    },
    {
      "cell_type": "code",
      "execution_count": 187,
      "metadata": {
        "id": "MaOg2nlNeKF2",
        "outputId": "c23233bb-2775-4d21-b5b9-9bc67f906826",
        "colab": {
          "base_uri": "https://localhost:8080/"
        }
      },
      "outputs": [
        {
          "output_type": "execute_result",
          "data": {
            "text/plain": [
              "count    23699.000000\n",
              "mean        34.099892\n",
              "std         21.162096\n",
              "min          2.000000\n",
              "25%         19.000000\n",
              "50%         30.000000\n",
              "75%         41.100000\n",
              "max        409.700000\n",
              "Name: living_area, dtype: float64"
            ]
          },
          "metadata": {},
          "execution_count": 187
        }
      ],
      "source": [
        "data['living_area'].describe()"
      ]
    },
    {
      "cell_type": "markdown",
      "metadata": {
        "id": "VHvPTq4SeKF3"
      },
      "source": [
        "**Вывод по признаку living_area**:\n",
        "* Тип данных **'float64'**.\n",
        "* Пропущенных значения были заменены на медианное значение."
      ]
    },
    {
      "cell_type": "markdown",
      "metadata": {
        "id": "N-uF8VTEeKF3"
      },
      "source": [
        "##### 9. floor — этаж <a name=\"floor\"></a> "
      ]
    },
    {
      "cell_type": "code",
      "execution_count": 188,
      "metadata": {
        "id": "NeTXUFexeKF3",
        "outputId": "e2e66d9e-fbd5-41f6-93ce-d197b29a6a78",
        "colab": {
          "base_uri": "https://localhost:8080/"
        }
      },
      "outputs": [
        {
          "output_type": "execute_result",
          "data": {
            "text/plain": [
              "count    23699.000000\n",
              "mean         5.892358\n",
              "std          4.885249\n",
              "min          1.000000\n",
              "25%          2.000000\n",
              "50%          4.000000\n",
              "75%          8.000000\n",
              "max         33.000000\n",
              "Name: floor, dtype: float64"
            ]
          },
          "metadata": {},
          "execution_count": 188
        }
      ],
      "source": [
        "data['floor'].describe()"
      ]
    },
    {
      "cell_type": "markdown",
      "metadata": {
        "id": "xh7Cyid7eKF3"
      },
      "source": [
        "**Вывод по признаку floor**:\n",
        "* Тип данных **'int64'**.\n",
        "* Пропущенных значений не обнаружено."
      ]
    },
    {
      "cell_type": "markdown",
      "metadata": {
        "id": "yEJys-bjeKF3"
      },
      "source": [
        "##### 10. is_apartment — апартаменты (булев тип) <a name=\"is_apartment\"></a> "
      ]
    },
    {
      "cell_type": "markdown",
      "metadata": {
        "id": "0rHaR0ofeKF3"
      },
      "source": [
        "Данный признак в исследовании не рассматривается. Заменю пропущенные значения на пустую строку."
      ]
    },
    {
      "cell_type": "code",
      "execution_count": 189,
      "metadata": {
        "id": "EvMMYqmheKF4",
        "outputId": "cb1a0958-091b-4e98-c9d5-cbb0f315ee99",
        "colab": {
          "base_uri": "https://localhost:8080/"
        }
      },
      "outputs": [
        {
          "output_type": "execute_result",
          "data": {
            "text/plain": [
              "count      2775\n",
              "unique        2\n",
              "top       False\n",
              "freq       2725\n",
              "Name: is_apartment, dtype: object"
            ]
          },
          "metadata": {},
          "execution_count": 189
        }
      ],
      "source": [
        "data['is_apartment'].describe()"
      ]
    },
    {
      "cell_type": "code",
      "execution_count": 190,
      "metadata": {
        "id": "yPrtj1XdeKF4",
        "outputId": "1208065f-f62b-406e-cc0e-9746a4a2c063",
        "colab": {
          "base_uri": "https://localhost:8080/"
        }
      },
      "outputs": [
        {
          "output_type": "execute_result",
          "data": {
            "text/plain": [
              "20924"
            ]
          },
          "metadata": {},
          "execution_count": 190
        }
      ],
      "source": [
        "data['is_apartment'].isnull().sum()"
      ]
    },
    {
      "cell_type": "code",
      "execution_count": 191,
      "metadata": {
        "id": "fyHHhVv1eKF4"
      },
      "outputs": [],
      "source": [
        "data['is_apartment']=data['is_apartment'].fillna(value=' ')"
      ]
    },
    {
      "cell_type": "code",
      "execution_count": 192,
      "metadata": {
        "id": "NO6WgQjHeKF4",
        "outputId": "b286a29e-e3ba-4df9-cbd6-27b4c137cfb5",
        "colab": {
          "base_uri": "https://localhost:8080/"
        }
      },
      "outputs": [
        {
          "output_type": "execute_result",
          "data": {
            "text/plain": [
              "0"
            ]
          },
          "metadata": {},
          "execution_count": 192
        }
      ],
      "source": [
        "data['is_apartment'].isnull().sum()"
      ]
    },
    {
      "cell_type": "code",
      "execution_count": 193,
      "metadata": {
        "id": "T4TIXhmceKF4"
      },
      "outputs": [],
      "source": [
        "data['is_apartment']=data['is_apartment'].astype('bool')"
      ]
    },
    {
      "cell_type": "code",
      "execution_count": 194,
      "metadata": {
        "id": "C1xFFbgjeKF5",
        "outputId": "d128b536-d970-4c9d-b9c3-997b84769f00",
        "colab": {
          "base_uri": "https://localhost:8080/"
        }
      },
      "outputs": [
        {
          "output_type": "stream",
          "name": "stdout",
          "text": [
            "<class 'pandas.core.frame.DataFrame'>\n",
            "RangeIndex: 23699 entries, 0 to 23698\n",
            "Data columns (total 23 columns):\n",
            " #   Column                Non-Null Count  Dtype         \n",
            "---  ------                --------------  -----         \n",
            " 0   total_images          23699 non-null  int64         \n",
            " 1   last_price            23699 non-null  float64       \n",
            " 2   total_area            23699 non-null  float64       \n",
            " 3   first_day_exposition  23699 non-null  datetime64[ns]\n",
            " 4   rooms                 23699 non-null  int64         \n",
            " 5   ceiling_height        23699 non-null  float64       \n",
            " 6   floors_total          23699 non-null  int64         \n",
            " 7   living_area           23699 non-null  float64       \n",
            " 8   floor                 23699 non-null  int64         \n",
            " 9   is_apartment          23699 non-null  bool          \n",
            " 10  studio                23699 non-null  bool          \n",
            " 11  open_plan             23699 non-null  bool          \n",
            " 12  kitchen_area          21421 non-null  float64       \n",
            " 13  balcony               12180 non-null  float64       \n",
            " 14  locality_name         23650 non-null  object        \n",
            " 15  airports_nearest      18157 non-null  float64       \n",
            " 16  cityCenters_nearest   18180 non-null  float64       \n",
            " 17  parks_around3000      18181 non-null  float64       \n",
            " 18  parks_nearest         8079 non-null   float64       \n",
            " 19  ponds_around3000      18181 non-null  float64       \n",
            " 20  ponds_nearest         9110 non-null   float64       \n",
            " 21  days_exposition       20518 non-null  float64       \n",
            " 22  rooms_category        23699 non-null  object        \n",
            "dtypes: bool(3), datetime64[ns](1), float64(13), int64(4), object(2)\n",
            "memory usage: 3.7+ MB\n"
          ]
        }
      ],
      "source": [
        "data.info()"
      ]
    },
    {
      "cell_type": "markdown",
      "metadata": {
        "id": "eHqqPooIeKF5"
      },
      "source": [
        "Данный параметр не понадобится при исследовании, могу предположить, что данные не были занесены в результирующую таблицу. Поэтому необходимо обратится к людям, которые занимаются выгрузкой и указать на ошибку в данных,чтобы в дальнейшей работе не было таких проблем. \n",
        "А пока заменю пропущенные значения на пробел и поменяем тип данных **object** на **bool**."
      ]
    },
    {
      "cell_type": "markdown",
      "metadata": {
        "id": "-Y5Tq8mneKF5"
      },
      "source": [
        "**Вывод по признаку is_apartment**:\n",
        "* Тип данных **'object' был изменен на 'bool'**.\n",
        "* Пропущенных значения заменены на пробел."
      ]
    },
    {
      "cell_type": "markdown",
      "metadata": {
        "id": "mkXXNZUmeKF5"
      },
      "source": [
        "##### 11. studio -свободная планировка (булев тип) <a name=\"studio\"></a> "
      ]
    },
    {
      "cell_type": "markdown",
      "metadata": {
        "id": "_fU-5jQdeKF5"
      },
      "source": [
        "Оставляю без изменений"
      ]
    },
    {
      "cell_type": "markdown",
      "metadata": {
        "id": "hQoKC26eeKF5"
      },
      "source": [
        "##### 12. open_plan - квартира-студия (булев тип) <a name=\"open_plan\"></a> "
      ]
    },
    {
      "cell_type": "markdown",
      "metadata": {
        "id": "_o8mHigjeKF5"
      },
      "source": [
        "Оставляю без изменений"
      ]
    },
    {
      "cell_type": "markdown",
      "metadata": {
        "id": "qJCiD5VleKF6"
      },
      "source": [
        "##### 13.locality_name — название населённого пункта <a name=\"locality_name\"></a> "
      ]
    },
    {
      "cell_type": "code",
      "execution_count": 195,
      "metadata": {
        "id": "AUNspZvXeKF6",
        "outputId": "878511e4-81fd-4dd5-8e37-31956fe389a2",
        "colab": {
          "base_uri": "https://localhost:8080/"
        }
      },
      "outputs": [
        {
          "output_type": "execute_result",
          "data": {
            "text/plain": [
              "49"
            ]
          },
          "metadata": {},
          "execution_count": 195
        }
      ],
      "source": [
        "data['locality_name'].isnull().sum()"
      ]
    },
    {
      "cell_type": "markdown",
      "metadata": {
        "id": "igbb1HBkeKF6"
      },
      "source": [
        "Пропущенных значений 0.2%."
      ]
    },
    {
      "cell_type": "markdown",
      "metadata": {
        "id": "XU2zfqZ1eKF6"
      },
      "source": [
        "Можно заметить, что в названиях населенного пункта часто появляется буква 'ё' в слове 'посёлок', целесообразной по правилам русского языка будет замена на букву 'е'."
      ]
    },
    {
      "cell_type": "code",
      "execution_count": 196,
      "metadata": {
        "id": "EDqQbTCOeKF6",
        "outputId": "82535156-6794-480a-e30d-e84f604e6ac0",
        "colab": {
          "base_uri": "https://localhost:8080/"
        }
      },
      "outputs": [
        {
          "output_type": "execute_result",
          "data": {
            "text/plain": [
              "array(['Санкт-Петербург', 'посёлок Шушары', 'городской посёлок Янино-1',\n",
              "       'посёлок Парголово', 'посёлок Мурино', 'Ломоносов', 'Сертолово',\n",
              "       'Петергоф', 'Пушкин', 'деревня Кудрово', 'Коммунар', 'Колпино',\n",
              "       'поселок городского типа Красный Бор', 'Гатчина', 'поселок Мурино',\n",
              "       'деревня Фёдоровское', 'Выборг', 'Кронштадт', 'Кировск',\n",
              "       'деревня Новое Девяткино', 'посёлок Металлострой',\n",
              "       'посёлок городского типа Лебяжье',\n",
              "       'посёлок городского типа Сиверский', 'поселок Молодцово',\n",
              "       'поселок городского типа Кузьмоловский',\n",
              "       'садовое товарищество Новая Ропша', 'Павловск',\n",
              "       'деревня Пикколово', 'Всеволожск', 'Волхов', 'Кингисепп',\n",
              "       'Приозерск', 'Сестрорецк', 'деревня Куттузи', 'посёлок Аннино',\n",
              "       'поселок городского типа Ефимовский', 'посёлок Плодовое',\n",
              "       'деревня Заклинье', 'поселок Торковичи', 'поселок Первомайское',\n",
              "       'Красное Село', 'посёлок Понтонный', 'Сясьстрой', 'деревня Старая',\n",
              "       'деревня Лесколово', 'посёлок Новый Свет', 'Сланцы',\n",
              "       'село Путилово', 'Ивангород', 'Мурино', 'Шлиссельбург',\n",
              "       'Никольское', 'Зеленогорск', 'Сосновый Бор', 'поселок Новый Свет',\n",
              "       'деревня Оржицы', 'деревня Кальтино', 'Кудрово',\n",
              "       'поселок Романовка', 'посёлок Бугры', 'поселок Бугры',\n",
              "       'поселок городского типа Рощино', 'Кириши', 'Луга', 'Волосово',\n",
              "       'Отрадное', 'село Павлово', 'поселок Оредеж', 'село Копорье',\n",
              "       'посёлок городского типа Красный Бор', 'посёлок Молодёжное',\n",
              "       'Тихвин', 'посёлок Победа', 'деревня Нурма',\n",
              "       'поселок городского типа Синявино', 'Тосно',\n",
              "       'посёлок городского типа Кузьмоловский', 'посёлок Стрельна',\n",
              "       'Бокситогорск', 'посёлок Александровская', 'деревня Лопухинка',\n",
              "       'Пикалёво', 'поселок Терволово',\n",
              "       'поселок городского типа Советский', 'Подпорожье',\n",
              "       'посёлок Петровское', 'посёлок городского типа Токсово',\n",
              "       'поселок Сельцо', 'посёлок городского типа Вырица',\n",
              "       'деревня Кипень', 'деревня Келози', 'деревня Вартемяги',\n",
              "       'посёлок Тельмана', 'поселок Севастьяново',\n",
              "       'городской поселок Большая Ижора', nan,\n",
              "       'городской посёлок Павлово', 'деревня Агалатово',\n",
              "       'посёлок Новогорелово', 'городской посёлок Лесогорский',\n",
              "       'деревня Лаголово', 'поселок Цвелодубово',\n",
              "       'поселок городского типа Рахья', 'поселок городского типа Вырица',\n",
              "       'деревня Белогорка', 'поселок Заводской',\n",
              "       'городской посёлок Новоселье', 'деревня Большие Колпаны',\n",
              "       'деревня Горбунки', 'деревня Батово', 'деревня Заневка',\n",
              "       'деревня Иссад', 'Приморск', 'городской посёлок Фёдоровское',\n",
              "       'деревня Мистолово', 'Новая Ладога', 'поселок Зимитицы',\n",
              "       'поселок Барышево', 'деревня Разметелево',\n",
              "       'поселок городского типа имени Свердлова', 'деревня Пеники',\n",
              "       'поселок Рябово', 'деревня Пудомяги', 'поселок станции Корнево',\n",
              "       'деревня Низино', 'деревня Бегуницы', 'посёлок Поляны',\n",
              "       'городской посёлок Мга', 'поселок Елизаветино',\n",
              "       'посёлок городского типа Кузнечное', 'деревня Колтуши',\n",
              "       'поселок Запорожское', 'посёлок городского типа Рощино',\n",
              "       'деревня Гостилицы', 'деревня Малое Карлино',\n",
              "       'посёлок Мичуринское', 'посёлок городского типа имени Морозова',\n",
              "       'посёлок Песочный', 'посёлок Сосново', 'деревня Аро',\n",
              "       'поселок Ильичёво', 'посёлок городского типа Тайцы',\n",
              "       'деревня Малое Верево', 'деревня Извара', 'поселок станции Вещево',\n",
              "       'село Паша', 'деревня Калитино',\n",
              "       'посёлок городского типа Ульяновка', 'деревня Чудской Бор',\n",
              "       'поселок городского типа Дубровка', 'деревня Мины',\n",
              "       'поселок Войсковицы', 'посёлок городского типа имени Свердлова',\n",
              "       'деревня Коркино', 'посёлок Ропша',\n",
              "       'поселок городского типа Приладожский', 'посёлок Щеглово',\n",
              "       'посёлок Гаврилово', 'Лодейное Поле', 'деревня Рабитицы',\n",
              "       'поселок городского типа Никольский', 'деревня Кузьмолово',\n",
              "       'деревня Малые Колпаны', 'поселок Тельмана',\n",
              "       'посёлок Петро-Славянка', 'городской посёлок Назия',\n",
              "       'посёлок Репино', 'посёлок Ильичёво', 'поселок Углово',\n",
              "       'поселок Старая Малукса', 'садовое товарищество Рахья',\n",
              "       'поселок Аннино', 'поселок Победа', 'деревня Меньково',\n",
              "       'деревня Старые Бегуницы', 'посёлок Сапёрный', 'поселок Семрино',\n",
              "       'поселок Гаврилово', 'поселок Глажево', 'поселок Кобринское',\n",
              "       'деревня Гарболово', 'деревня Юкки',\n",
              "       'поселок станции Приветнинское', 'деревня Мануйлово',\n",
              "       'деревня Пчева', 'поселок Поляны', 'поселок Цвылёво',\n",
              "       'поселок Мельниково', 'посёлок Пудость', 'посёлок Усть-Луга',\n",
              "       'Светогорск', 'Любань', 'поселок Селезнёво',\n",
              "       'поселок городского типа Рябово', 'Каменногорск', 'деревня Кривко',\n",
              "       'поселок Глебычево', 'деревня Парицы', 'поселок Жилпосёлок',\n",
              "       'посёлок городского типа Мга', 'городской поселок Янино-1',\n",
              "       'посёлок Войскорово', 'село Никольское', 'посёлок Терволово',\n",
              "       'поселок Стеклянный', 'посёлок городского типа Важины',\n",
              "       'посёлок Мыза-Ивановка', 'село Русско-Высоцкое',\n",
              "       'поселок городского типа Лебяжье',\n",
              "       'поселок городского типа Форносово', 'село Старая Ладога',\n",
              "       'поселок Житково', 'городской посёлок Виллози', 'деревня Лампово',\n",
              "       'деревня Шпаньково', 'деревня Лаврики', 'посёлок Сумино',\n",
              "       'посёлок Возрождение', 'деревня Старосиверская',\n",
              "       'посёлок Кикерино', 'поселок Возрождение',\n",
              "       'деревня Старое Хинколово', 'посёлок Пригородный',\n",
              "       'посёлок Торфяное', 'городской посёлок Будогощь',\n",
              "       'поселок Суходолье', 'поселок Красная Долина', 'деревня Хапо-Ое',\n",
              "       'поселок городского типа Дружная Горка', 'поселок Лисий Нос',\n",
              "       'деревня Яльгелево', 'посёлок Стеклянный', 'село Рождествено',\n",
              "       'деревня Старополье', 'посёлок Левашово', 'деревня Сяськелево',\n",
              "       'деревня Камышовка',\n",
              "       'садоводческое некоммерческое товарищество Лесная Поляна',\n",
              "       'деревня Хязельки', 'поселок Жилгородок',\n",
              "       'посёлок городского типа Павлово', 'деревня Ялгино',\n",
              "       'поселок Новый Учхоз', 'городской посёлок Рощино',\n",
              "       'поселок Гончарово', 'поселок Почап', 'посёлок Сапёрное',\n",
              "       'посёлок Платформа 69-й километр', 'поселок Каложицы',\n",
              "       'деревня Фалилеево', 'деревня Пельгора',\n",
              "       'поселок городского типа Лесогорский', 'деревня Торошковичи',\n",
              "       'посёлок Белоостров', 'посёлок Алексеевка', 'поселок Серебрянский',\n",
              "       'поселок Лукаши', 'поселок Петровское', 'деревня Щеглово',\n",
              "       'поселок Мичуринское', 'деревня Тарасово', 'поселок Кингисеппский',\n",
              "       'посёлок при железнодорожной станции Вещево', 'поселок Ушаки',\n",
              "       'деревня Котлы', 'деревня Сижно', 'деревня Торосово',\n",
              "       'посёлок Форт Красная Горка', 'поселок городского типа Токсово',\n",
              "       'деревня Новолисино', 'посёлок станции Громово', 'деревня Глинка',\n",
              "       'посёлок Мельниково', 'поселок городского типа Назия',\n",
              "       'деревня Старая Пустошь', 'поселок Коммунары', 'поселок Починок',\n",
              "       'посёлок городского типа Вознесенье', 'деревня Разбегаево',\n",
              "       'посёлок городского типа Рябово', 'поселок Гладкое',\n",
              "       'посёлок при железнодорожной станции Приветнинское',\n",
              "       'поселок Тёсово-4', 'посёлок Жилгородок', 'деревня Бор',\n",
              "       'посёлок Коробицыно', 'деревня Большая Вруда', 'деревня Курковицы',\n",
              "       'посёлок Лисий Нос', 'городской посёлок Советский',\n",
              "       'посёлок Кобралово', 'деревня Суоранда', 'поселок Кобралово',\n",
              "       'поселок городского типа Кондратьево',\n",
              "       'коттеджный поселок Счастье', 'поселок Любань', 'деревня Реброво',\n",
              "       'деревня Зимитицы', 'деревня Тойворово', 'поселок Семиозерье',\n",
              "       'поселок Лесное', 'поселок Совхозный', 'поселок Усть-Луга',\n",
              "       'посёлок Ленинское', 'посёлок Суйда',\n",
              "       'посёлок городского типа Форносово', 'деревня Нижние Осельки',\n",
              "       'посёлок станции Свирь', 'поселок Перово', 'Высоцк',\n",
              "       'поселок Гарболово', 'село Шум', 'поселок Котельский',\n",
              "       'поселок станции Лужайка', 'деревня Большая Пустомержа',\n",
              "       'поселок Красносельское', 'деревня Вахнова Кара', 'деревня Пижма',\n",
              "       'коттеджный поселок Кивеннапа Север', 'поселок Коробицыно',\n",
              "       'поселок Ромашки', 'посёлок Перово', 'деревня Каськово',\n",
              "       'деревня Куровицы', 'посёлок Плоское', 'поселок Сумино',\n",
              "       'поселок городского типа Большая Ижора', 'поселок Кирпичное',\n",
              "       'деревня Ям-Тесово', 'деревня Раздолье', 'деревня Терпилицы',\n",
              "       'посёлок Шугозеро', 'деревня Ваганово', 'поселок Пушное',\n",
              "       'садовое товарищество Садко', 'посёлок Усть-Ижора',\n",
              "       'деревня Выскатка', 'городской посёлок Свирьстрой',\n",
              "       'поселок Громово', 'деревня Кисельня', 'посёлок Старая Малукса',\n",
              "       'деревня Трубников Бор', 'поселок Калитино',\n",
              "       'посёлок Высокоключевой', 'садовое товарищество Приладожский',\n",
              "       'посёлок Пансионат Зелёный Бор', 'деревня Ненимяки',\n",
              "       'поселок Пансионат Зелёный Бор', 'деревня Снегирёвка',\n",
              "       'деревня Рапполово', 'деревня Пустынка', 'поселок Рабитицы',\n",
              "       'деревня Большой Сабск', 'деревня Русско', 'деревня Лупполово',\n",
              "       'деревня Большое Рейзино', 'деревня Малая Романовка',\n",
              "       'поселок Дружноселье', 'поселок Пчевжа', 'поселок Володарское',\n",
              "       'деревня Нижняя', 'коттеджный посёлок Лесное', 'деревня Тихковицы',\n",
              "       'деревня Борисова Грива', 'посёлок Дзержинского'], dtype=object)"
            ]
          },
          "metadata": {},
          "execution_count": 196
        }
      ],
      "source": [
        "data['locality_name'].unique()"
      ]
    },
    {
      "cell_type": "code",
      "execution_count": 197,
      "metadata": {
        "id": "telKE9ZmeKF6"
      },
      "outputs": [],
      "source": [
        "data['locality_name']=data['locality_name'].str.replace('ё','е', regex=True)"
      ]
    },
    {
      "cell_type": "code",
      "execution_count": 198,
      "metadata": {
        "id": "R1j4sFKNeKF7",
        "outputId": "7e422f12-e19a-4bbf-cb2f-f03589d2e069",
        "colab": {
          "base_uri": "https://localhost:8080/"
        }
      },
      "outputs": [
        {
          "output_type": "execute_result",
          "data": {
            "text/plain": [
              "array(['Санкт-Петербург', 'поселок Шушары', 'городской поселок Янино-1',\n",
              "       'поселок Парголово', 'поселок Мурино', 'Ломоносов', 'Сертолово',\n",
              "       'Петергоф', 'Пушкин', 'деревня Кудрово', 'Коммунар', 'Колпино',\n",
              "       'поселок городского типа Красный Бор', 'Гатчина',\n",
              "       'деревня Федоровское', 'Выборг', 'Кронштадт', 'Кировск',\n",
              "       'деревня Новое Девяткино', 'поселок Металлострой',\n",
              "       'поселок городского типа Лебяжье',\n",
              "       'поселок городского типа Сиверский', 'поселок Молодцово',\n",
              "       'поселок городского типа Кузьмоловский',\n",
              "       'садовое товарищество Новая Ропша', 'Павловск',\n",
              "       'деревня Пикколово', 'Всеволожск', 'Волхов', 'Кингисепп',\n",
              "       'Приозерск', 'Сестрорецк', 'деревня Куттузи', 'поселок Аннино',\n",
              "       'поселок городского типа Ефимовский', 'поселок Плодовое',\n",
              "       'деревня Заклинье', 'поселок Торковичи', 'поселок Первомайское',\n",
              "       'Красное Село', 'поселок Понтонный', 'Сясьстрой', 'деревня Старая',\n",
              "       'деревня Лесколово', 'поселок Новый Свет', 'Сланцы',\n",
              "       'село Путилово', 'Ивангород', 'Мурино', 'Шлиссельбург',\n",
              "       'Никольское', 'Зеленогорск', 'Сосновый Бор', 'деревня Оржицы',\n",
              "       'деревня Кальтино', 'Кудрово', 'поселок Романовка',\n",
              "       'поселок Бугры', 'поселок городского типа Рощино', 'Кириши',\n",
              "       'Луга', 'Волосово', 'Отрадное', 'село Павлово', 'поселок Оредеж',\n",
              "       'село Копорье', 'поселок Молодежное', 'Тихвин', 'поселок Победа',\n",
              "       'деревня Нурма', 'поселок городского типа Синявино', 'Тосно',\n",
              "       'поселок Стрельна', 'Бокситогорск', 'поселок Александровская',\n",
              "       'деревня Лопухинка', 'Пикалево', 'поселок Терволово',\n",
              "       'поселок городского типа Советский', 'Подпорожье',\n",
              "       'поселок Петровское', 'поселок городского типа Токсово',\n",
              "       'поселок Сельцо', 'поселок городского типа Вырица',\n",
              "       'деревня Кипень', 'деревня Келози', 'деревня Вартемяги',\n",
              "       'поселок Тельмана', 'поселок Севастьяново',\n",
              "       'городской поселок Большая Ижора', nan,\n",
              "       'городской поселок Павлово', 'деревня Агалатово',\n",
              "       'поселок Новогорелово', 'городской поселок Лесогорский',\n",
              "       'деревня Лаголово', 'поселок Цвелодубово',\n",
              "       'поселок городского типа Рахья', 'деревня Белогорка',\n",
              "       'поселок Заводской', 'городской поселок Новоселье',\n",
              "       'деревня Большие Колпаны', 'деревня Горбунки', 'деревня Батово',\n",
              "       'деревня Заневка', 'деревня Иссад', 'Приморск',\n",
              "       'городской поселок Федоровское', 'деревня Мистолово',\n",
              "       'Новая Ладога', 'поселок Зимитицы', 'поселок Барышево',\n",
              "       'деревня Разметелево', 'поселок городского типа имени Свердлова',\n",
              "       'деревня Пеники', 'поселок Рябово', 'деревня Пудомяги',\n",
              "       'поселок станции Корнево', 'деревня Низино', 'деревня Бегуницы',\n",
              "       'поселок Поляны', 'городской поселок Мга', 'поселок Елизаветино',\n",
              "       'поселок городского типа Кузнечное', 'деревня Колтуши',\n",
              "       'поселок Запорожское', 'деревня Гостилицы',\n",
              "       'деревня Малое Карлино', 'поселок Мичуринское',\n",
              "       'поселок городского типа имени Морозова', 'поселок Песочный',\n",
              "       'поселок Сосново', 'деревня Аро', 'поселок Ильичево',\n",
              "       'поселок городского типа Тайцы', 'деревня Малое Верево',\n",
              "       'деревня Извара', 'поселок станции Вещево', 'село Паша',\n",
              "       'деревня Калитино', 'поселок городского типа Ульяновка',\n",
              "       'деревня Чудской Бор', 'поселок городского типа Дубровка',\n",
              "       'деревня Мины', 'поселок Войсковицы', 'деревня Коркино',\n",
              "       'поселок Ропша', 'поселок городского типа Приладожский',\n",
              "       'поселок Щеглово', 'поселок Гаврилово', 'Лодейное Поле',\n",
              "       'деревня Рабитицы', 'поселок городского типа Никольский',\n",
              "       'деревня Кузьмолово', 'деревня Малые Колпаны',\n",
              "       'поселок Петро-Славянка', 'городской поселок Назия',\n",
              "       'поселок Репино', 'поселок Углово', 'поселок Старая Малукса',\n",
              "       'садовое товарищество Рахья', 'деревня Меньково',\n",
              "       'деревня Старые Бегуницы', 'поселок Саперный', 'поселок Семрино',\n",
              "       'поселок Глажево', 'поселок Кобринское', 'деревня Гарболово',\n",
              "       'деревня Юкки', 'поселок станции Приветнинское',\n",
              "       'деревня Мануйлово', 'деревня Пчева', 'поселок Цвылево',\n",
              "       'поселок Мельниково', 'поселок Пудость', 'поселок Усть-Луга',\n",
              "       'Светогорск', 'Любань', 'поселок Селезнево',\n",
              "       'поселок городского типа Рябово', 'Каменногорск', 'деревня Кривко',\n",
              "       'поселок Глебычево', 'деревня Парицы', 'поселок Жилпоселок',\n",
              "       'поселок городского типа Мга', 'поселок Войскорово',\n",
              "       'село Никольское', 'поселок Стеклянный',\n",
              "       'поселок городского типа Важины', 'поселок Мыза-Ивановка',\n",
              "       'село Русско-Высоцкое', 'поселок городского типа Форносово',\n",
              "       'село Старая Ладога', 'поселок Житково',\n",
              "       'городской поселок Виллози', 'деревня Лампово',\n",
              "       'деревня Шпаньково', 'деревня Лаврики', 'поселок Сумино',\n",
              "       'поселок Возрождение', 'деревня Старосиверская',\n",
              "       'поселок Кикерино', 'деревня Старое Хинколово',\n",
              "       'поселок Пригородный', 'поселок Торфяное',\n",
              "       'городской поселок Будогощь', 'поселок Суходолье',\n",
              "       'поселок Красная Долина', 'деревня Хапо-Ое',\n",
              "       'поселок городского типа Дружная Горка', 'поселок Лисий Нос',\n",
              "       'деревня Яльгелево', 'село Рождествено', 'деревня Старополье',\n",
              "       'поселок Левашово', 'деревня Сяськелево', 'деревня Камышовка',\n",
              "       'садоводческое некоммерческое товарищество Лесная Поляна',\n",
              "       'деревня Хязельки', 'поселок Жилгородок',\n",
              "       'поселок городского типа Павлово', 'деревня Ялгино',\n",
              "       'поселок Новый Учхоз', 'городской поселок Рощино',\n",
              "       'поселок Гончарово', 'поселок Почап', 'поселок Саперное',\n",
              "       'поселок Платформа 69-й километр', 'поселок Каложицы',\n",
              "       'деревня Фалилеево', 'деревня Пельгора',\n",
              "       'поселок городского типа Лесогорский', 'деревня Торошковичи',\n",
              "       'поселок Белоостров', 'поселок Алексеевка', 'поселок Серебрянский',\n",
              "       'поселок Лукаши', 'деревня Щеглово', 'деревня Тарасово',\n",
              "       'поселок Кингисеппский',\n",
              "       'поселок при железнодорожной станции Вещево', 'поселок Ушаки',\n",
              "       'деревня Котлы', 'деревня Сижно', 'деревня Торосово',\n",
              "       'поселок Форт Красная Горка', 'деревня Новолисино',\n",
              "       'поселок станции Громово', 'деревня Глинка',\n",
              "       'поселок городского типа Назия', 'деревня Старая Пустошь',\n",
              "       'поселок Коммунары', 'поселок Починок',\n",
              "       'поселок городского типа Вознесенье', 'деревня Разбегаево',\n",
              "       'поселок Гладкое',\n",
              "       'поселок при железнодорожной станции Приветнинское',\n",
              "       'поселок Тесово-4', 'деревня Бор', 'поселок Коробицыно',\n",
              "       'деревня Большая Вруда', 'деревня Курковицы',\n",
              "       'городской поселок Советский', 'поселок Кобралово',\n",
              "       'деревня Суоранда', 'поселок городского типа Кондратьево',\n",
              "       'коттеджный поселок Счастье', 'поселок Любань', 'деревня Реброво',\n",
              "       'деревня Зимитицы', 'деревня Тойворово', 'поселок Семиозерье',\n",
              "       'поселок Лесное', 'поселок Совхозный', 'поселок Ленинское',\n",
              "       'поселок Суйда', 'деревня Нижние Осельки', 'поселок станции Свирь',\n",
              "       'поселок Перово', 'Высоцк', 'поселок Гарболово', 'село Шум',\n",
              "       'поселок Котельский', 'поселок станции Лужайка',\n",
              "       'деревня Большая Пустомержа', 'поселок Красносельское',\n",
              "       'деревня Вахнова Кара', 'деревня Пижма',\n",
              "       'коттеджный поселок Кивеннапа Север', 'поселок Ромашки',\n",
              "       'деревня Каськово', 'деревня Куровицы', 'поселок Плоское',\n",
              "       'поселок городского типа Большая Ижора', 'поселок Кирпичное',\n",
              "       'деревня Ям-Тесово', 'деревня Раздолье', 'деревня Терпилицы',\n",
              "       'поселок Шугозеро', 'деревня Ваганово', 'поселок Пушное',\n",
              "       'садовое товарищество Садко', 'поселок Усть-Ижора',\n",
              "       'деревня Выскатка', 'городской поселок Свирьстрой',\n",
              "       'поселок Громово', 'деревня Кисельня', 'деревня Трубников Бор',\n",
              "       'поселок Калитино', 'поселок Высокоключевой',\n",
              "       'садовое товарищество Приладожский',\n",
              "       'поселок Пансионат Зеленый Бор', 'деревня Ненимяки',\n",
              "       'деревня Снегиревка', 'деревня Рапполово', 'деревня Пустынка',\n",
              "       'поселок Рабитицы', 'деревня Большой Сабск', 'деревня Русско',\n",
              "       'деревня Лупполово', 'деревня Большое Рейзино',\n",
              "       'деревня Малая Романовка', 'поселок Дружноселье', 'поселок Пчевжа',\n",
              "       'поселок Володарское', 'деревня Нижняя',\n",
              "       'коттеджный поселок Лесное', 'деревня Тихковицы',\n",
              "       'деревня Борисова Грива', 'поселок Дзержинского'], dtype=object)"
            ]
          },
          "metadata": {},
          "execution_count": 198
        }
      ],
      "source": [
        "data['locality_name'].unique()"
      ]
    },
    {
      "cell_type": "code",
      "execution_count": 199,
      "metadata": {
        "id": "AMzrByadeKF7"
      },
      "outputs": [],
      "source": [
        "data['locality_name']=data['locality_name'].fillna(' ')"
      ]
    },
    {
      "cell_type": "code",
      "execution_count": 200,
      "metadata": {
        "id": "4zsY67s_eKF7",
        "outputId": "70dbddf9-622b-4f94-c206-1cf89a756c2c",
        "colab": {
          "base_uri": "https://localhost:8080/"
        }
      },
      "outputs": [
        {
          "output_type": "execute_result",
          "data": {
            "text/plain": [
              "0"
            ]
          },
          "metadata": {},
          "execution_count": 200
        }
      ],
      "source": [
        "data['locality_name'].isnull().sum()"
      ]
    },
    {
      "cell_type": "code",
      "execution_count": 201,
      "metadata": {
        "id": "BUbAjMdteKF7",
        "outputId": "2b496276-3614-40cf-9a6b-fd2490ef83e5",
        "colab": {
          "base_uri": "https://localhost:8080/"
        }
      },
      "outputs": [
        {
          "output_type": "execute_result",
          "data": {
            "text/plain": [
              "331"
            ]
          },
          "metadata": {},
          "execution_count": 201
        }
      ],
      "source": [
        "len(data['locality_name'].unique())"
      ]
    },
    {
      "cell_type": "markdown",
      "metadata": {
        "id": "MF4hDzsdeKF8"
      },
      "source": [
        "##### 14. kitchen_area — площадь кухни в квадратных метрах (м²) <a name=\"kitchen_area\"></a> "
      ]
    },
    {
      "cell_type": "code",
      "execution_count": 202,
      "metadata": {
        "id": "ixSjXGPreKF8",
        "outputId": "47e1bc27-38f8-4d42-b4ba-1c23c680435a",
        "colab": {
          "base_uri": "https://localhost:8080/"
        }
      },
      "outputs": [
        {
          "output_type": "execute_result",
          "data": {
            "text/plain": [
              "count    21421.000000\n",
              "mean        10.569807\n",
              "std          5.905438\n",
              "min          1.300000\n",
              "25%          7.000000\n",
              "50%          9.100000\n",
              "75%         12.000000\n",
              "max        112.000000\n",
              "Name: kitchen_area, dtype: float64"
            ]
          },
          "metadata": {},
          "execution_count": 202
        }
      ],
      "source": [
        "data['kitchen_area'].describe()"
      ]
    },
    {
      "cell_type": "code",
      "execution_count": 203,
      "metadata": {
        "id": "Wn0_NaFSeKF9",
        "outputId": "4c1fdb60-d99f-425b-b5b5-c2f217877920",
        "colab": {
          "base_uri": "https://localhost:8080/"
        }
      },
      "outputs": [
        {
          "output_type": "execute_result",
          "data": {
            "text/plain": [
              "2278"
            ]
          },
          "metadata": {},
          "execution_count": 203
        }
      ],
      "source": [
        "data['kitchen_area'].isnull().sum()"
      ]
    },
    {
      "cell_type": "markdown",
      "metadata": {
        "id": "gf3D8XKieKF9"
      },
      "source": [
        "Пропущенных значений 9.6%."
      ]
    },
    {
      "cell_type": "code",
      "execution_count": 204,
      "metadata": {
        "id": "cakUWmMzeKF9"
      },
      "outputs": [],
      "source": [
        "data.loc[data['kitchen_area'].isnull(), 'kitchen_area'] = data['kitchen_area'].median()"
      ]
    },
    {
      "cell_type": "code",
      "execution_count": 205,
      "metadata": {
        "id": "rnMVu9V_eKF9",
        "outputId": "abae914d-6f06-4c96-feff-d47b770193c6",
        "colab": {
          "base_uri": "https://localhost:8080/"
        }
      },
      "outputs": [
        {
          "output_type": "execute_result",
          "data": {
            "text/plain": [
              "0"
            ]
          },
          "metadata": {},
          "execution_count": 205
        }
      ],
      "source": [
        "data['kitchen_area'].isnull().sum()"
      ]
    },
    {
      "cell_type": "markdown",
      "metadata": {
        "id": "s46yHzYpeKF-"
      },
      "source": [
        "##### 15. balcony — число балконов <a name=\"balcony\"></a> "
      ]
    },
    {
      "cell_type": "code",
      "execution_count": 206,
      "metadata": {
        "id": "jLN--6MfeKF-",
        "outputId": "f7e0715d-2d2c-44b7-fb22-5660bc1b066d",
        "colab": {
          "base_uri": "https://localhost:8080/"
        }
      },
      "outputs": [
        {
          "output_type": "execute_result",
          "data": {
            "text/plain": [
              "count    12180.000000\n",
              "mean         1.150082\n",
              "std          1.071300\n",
              "min          0.000000\n",
              "25%          0.000000\n",
              "50%          1.000000\n",
              "75%          2.000000\n",
              "max          5.000000\n",
              "Name: balcony, dtype: float64"
            ]
          },
          "metadata": {},
          "execution_count": 206
        }
      ],
      "source": [
        "data['balcony'].describe()"
      ]
    },
    {
      "cell_type": "code",
      "execution_count": 207,
      "metadata": {
        "id": "Fe4KGNjneKF-",
        "outputId": "cd5853d2-d10d-4572-cce5-d2ad0e7ce6e0",
        "colab": {
          "base_uri": "https://localhost:8080/"
        }
      },
      "outputs": [
        {
          "output_type": "execute_result",
          "data": {
            "text/plain": [
              "11519"
            ]
          },
          "metadata": {},
          "execution_count": 207
        }
      ],
      "source": [
        "data['balcony'].isnull().sum()"
      ]
    },
    {
      "cell_type": "markdown",
      "metadata": {
        "id": "XhMShiwJeKF-"
      },
      "source": [
        "Пропущенных значений 48%."
      ]
    },
    {
      "cell_type": "code",
      "execution_count": 208,
      "metadata": {
        "id": "3Bn5cxD8eKF_"
      },
      "outputs": [],
      "source": [
        "data['balcony']=data['balcony'].fillna(value=0)"
      ]
    },
    {
      "cell_type": "code",
      "execution_count": 209,
      "metadata": {
        "id": "DRx29o3neKF_",
        "outputId": "f60ba97a-28b9-4bc0-f028-016ce6ac7dcf",
        "colab": {
          "base_uri": "https://localhost:8080/"
        }
      },
      "outputs": [
        {
          "output_type": "execute_result",
          "data": {
            "text/plain": [
              "0"
            ]
          },
          "metadata": {},
          "execution_count": 209
        }
      ],
      "source": [
        "data['balcony'].isnull().sum()"
      ]
    },
    {
      "cell_type": "markdown",
      "metadata": {
        "id": "ukAk-VZTeKF_"
      },
      "source": [
        "##### 16. airports_nearest — расстояние до ближайшего аэропорта в метрах (м) <a name=\"airports_nearest\"></a> "
      ]
    },
    {
      "cell_type": "code",
      "execution_count": 210,
      "metadata": {
        "id": "bL7lDDUneKF_",
        "outputId": "2745e9fe-d350-44e0-f586-68d4af48b648",
        "colab": {
          "base_uri": "https://localhost:8080/"
        }
      },
      "outputs": [
        {
          "output_type": "execute_result",
          "data": {
            "text/plain": [
              "5542"
            ]
          },
          "metadata": {},
          "execution_count": 210
        }
      ],
      "source": [
        "data['airports_nearest'].isnull().sum()"
      ]
    },
    {
      "cell_type": "markdown",
      "metadata": {
        "id": "j9bUfOCZeKF_"
      },
      "source": [
        "Пропущенных значений 23%"
      ]
    },
    {
      "cell_type": "code",
      "execution_count": 211,
      "metadata": {
        "id": "ktqxyCP1eKGA",
        "outputId": "64ac8075-15b2-4ed6-f9f0-4a19874dfc21",
        "colab": {
          "base_uri": "https://localhost:8080/",
          "height": 959
        }
      },
      "outputs": [
        {
          "output_type": "execute_result",
          "data": {
            "text/plain": [
              "                         airports_nearest\n",
              "locality_name                            \n",
              "                                  22041.0\n",
              "Зеленогорск                       72282.0\n",
              "Колпино                           26232.0\n",
              "Красное Село                      25715.5\n",
              "Кронштадт                         67850.0\n",
              "Ломоносов                         48415.5\n",
              "Павловск                          20529.5\n",
              "Петергоф                          39231.0\n",
              "Пушкин                            15766.0\n",
              "Санкт-Петербург                   26757.5\n",
              "Сестрорецк                        56692.0\n",
              "поселок Александровская           12896.5\n",
              "поселок Белоостров                57769.0\n",
              "поселок Левашово                  52693.0\n",
              "поселок Лисий Нос                 55909.0\n",
              "поселок Металлострой              25758.0\n",
              "поселок Молодежное                84665.0\n",
              "поселок Мурино                    51553.0\n",
              "поселок Парголово                 53426.0\n",
              "поселок Песочный                  54831.5\n",
              "поселок Петро-Славянка            20605.0\n",
              "поселок Понтонный                 30642.0\n",
              "поселок Репино                    61797.5\n",
              "поселок Саперный                  34147.5\n",
              "поселок Стрельна                  28317.0\n",
              "поселок Усть-Ижора                26510.5\n",
              "поселок Шушары                    17427.0\n",
              "поселок Щеглово                   61908.0"
            ],
            "text/html": [
              "\n",
              "  <div id=\"df-0b6d8817-983f-4c67-9890-2336ad048950\">\n",
              "    <div class=\"colab-df-container\">\n",
              "      <div>\n",
              "<style scoped>\n",
              "    .dataframe tbody tr th:only-of-type {\n",
              "        vertical-align: middle;\n",
              "    }\n",
              "\n",
              "    .dataframe tbody tr th {\n",
              "        vertical-align: top;\n",
              "    }\n",
              "\n",
              "    .dataframe thead th {\n",
              "        text-align: right;\n",
              "    }\n",
              "</style>\n",
              "<table border=\"1\" class=\"dataframe\">\n",
              "  <thead>\n",
              "    <tr style=\"text-align: right;\">\n",
              "      <th></th>\n",
              "      <th>airports_nearest</th>\n",
              "    </tr>\n",
              "    <tr>\n",
              "      <th>locality_name</th>\n",
              "      <th></th>\n",
              "    </tr>\n",
              "  </thead>\n",
              "  <tbody>\n",
              "    <tr>\n",
              "      <th></th>\n",
              "      <td>22041.0</td>\n",
              "    </tr>\n",
              "    <tr>\n",
              "      <th>Зеленогорск</th>\n",
              "      <td>72282.0</td>\n",
              "    </tr>\n",
              "    <tr>\n",
              "      <th>Колпино</th>\n",
              "      <td>26232.0</td>\n",
              "    </tr>\n",
              "    <tr>\n",
              "      <th>Красное Село</th>\n",
              "      <td>25715.5</td>\n",
              "    </tr>\n",
              "    <tr>\n",
              "      <th>Кронштадт</th>\n",
              "      <td>67850.0</td>\n",
              "    </tr>\n",
              "    <tr>\n",
              "      <th>Ломоносов</th>\n",
              "      <td>48415.5</td>\n",
              "    </tr>\n",
              "    <tr>\n",
              "      <th>Павловск</th>\n",
              "      <td>20529.5</td>\n",
              "    </tr>\n",
              "    <tr>\n",
              "      <th>Петергоф</th>\n",
              "      <td>39231.0</td>\n",
              "    </tr>\n",
              "    <tr>\n",
              "      <th>Пушкин</th>\n",
              "      <td>15766.0</td>\n",
              "    </tr>\n",
              "    <tr>\n",
              "      <th>Санкт-Петербург</th>\n",
              "      <td>26757.5</td>\n",
              "    </tr>\n",
              "    <tr>\n",
              "      <th>Сестрорецк</th>\n",
              "      <td>56692.0</td>\n",
              "    </tr>\n",
              "    <tr>\n",
              "      <th>поселок Александровская</th>\n",
              "      <td>12896.5</td>\n",
              "    </tr>\n",
              "    <tr>\n",
              "      <th>поселок Белоостров</th>\n",
              "      <td>57769.0</td>\n",
              "    </tr>\n",
              "    <tr>\n",
              "      <th>поселок Левашово</th>\n",
              "      <td>52693.0</td>\n",
              "    </tr>\n",
              "    <tr>\n",
              "      <th>поселок Лисий Нос</th>\n",
              "      <td>55909.0</td>\n",
              "    </tr>\n",
              "    <tr>\n",
              "      <th>поселок Металлострой</th>\n",
              "      <td>25758.0</td>\n",
              "    </tr>\n",
              "    <tr>\n",
              "      <th>поселок Молодежное</th>\n",
              "      <td>84665.0</td>\n",
              "    </tr>\n",
              "    <tr>\n",
              "      <th>поселок Мурино</th>\n",
              "      <td>51553.0</td>\n",
              "    </tr>\n",
              "    <tr>\n",
              "      <th>поселок Парголово</th>\n",
              "      <td>53426.0</td>\n",
              "    </tr>\n",
              "    <tr>\n",
              "      <th>поселок Песочный</th>\n",
              "      <td>54831.5</td>\n",
              "    </tr>\n",
              "    <tr>\n",
              "      <th>поселок Петро-Славянка</th>\n",
              "      <td>20605.0</td>\n",
              "    </tr>\n",
              "    <tr>\n",
              "      <th>поселок Понтонный</th>\n",
              "      <td>30642.0</td>\n",
              "    </tr>\n",
              "    <tr>\n",
              "      <th>поселок Репино</th>\n",
              "      <td>61797.5</td>\n",
              "    </tr>\n",
              "    <tr>\n",
              "      <th>поселок Саперный</th>\n",
              "      <td>34147.5</td>\n",
              "    </tr>\n",
              "    <tr>\n",
              "      <th>поселок Стрельна</th>\n",
              "      <td>28317.0</td>\n",
              "    </tr>\n",
              "    <tr>\n",
              "      <th>поселок Усть-Ижора</th>\n",
              "      <td>26510.5</td>\n",
              "    </tr>\n",
              "    <tr>\n",
              "      <th>поселок Шушары</th>\n",
              "      <td>17427.0</td>\n",
              "    </tr>\n",
              "    <tr>\n",
              "      <th>поселок Щеглово</th>\n",
              "      <td>61908.0</td>\n",
              "    </tr>\n",
              "  </tbody>\n",
              "</table>\n",
              "</div>\n",
              "      <button class=\"colab-df-convert\" onclick=\"convertToInteractive('df-0b6d8817-983f-4c67-9890-2336ad048950')\"\n",
              "              title=\"Convert this dataframe to an interactive table.\"\n",
              "              style=\"display:none;\">\n",
              "        \n",
              "  <svg xmlns=\"http://www.w3.org/2000/svg\" height=\"24px\"viewBox=\"0 0 24 24\"\n",
              "       width=\"24px\">\n",
              "    <path d=\"M0 0h24v24H0V0z\" fill=\"none\"/>\n",
              "    <path d=\"M18.56 5.44l.94 2.06.94-2.06 2.06-.94-2.06-.94-.94-2.06-.94 2.06-2.06.94zm-11 1L8.5 8.5l.94-2.06 2.06-.94-2.06-.94L8.5 2.5l-.94 2.06-2.06.94zm10 10l.94 2.06.94-2.06 2.06-.94-2.06-.94-.94-2.06-.94 2.06-2.06.94z\"/><path d=\"M17.41 7.96l-1.37-1.37c-.4-.4-.92-.59-1.43-.59-.52 0-1.04.2-1.43.59L10.3 9.45l-7.72 7.72c-.78.78-.78 2.05 0 2.83L4 21.41c.39.39.9.59 1.41.59.51 0 1.02-.2 1.41-.59l7.78-7.78 2.81-2.81c.8-.78.8-2.07 0-2.86zM5.41 20L4 18.59l7.72-7.72 1.47 1.35L5.41 20z\"/>\n",
              "  </svg>\n",
              "      </button>\n",
              "      \n",
              "  <style>\n",
              "    .colab-df-container {\n",
              "      display:flex;\n",
              "      flex-wrap:wrap;\n",
              "      gap: 12px;\n",
              "    }\n",
              "\n",
              "    .colab-df-convert {\n",
              "      background-color: #E8F0FE;\n",
              "      border: none;\n",
              "      border-radius: 50%;\n",
              "      cursor: pointer;\n",
              "      display: none;\n",
              "      fill: #1967D2;\n",
              "      height: 32px;\n",
              "      padding: 0 0 0 0;\n",
              "      width: 32px;\n",
              "    }\n",
              "\n",
              "    .colab-df-convert:hover {\n",
              "      background-color: #E2EBFA;\n",
              "      box-shadow: 0px 1px 2px rgba(60, 64, 67, 0.3), 0px 1px 3px 1px rgba(60, 64, 67, 0.15);\n",
              "      fill: #174EA6;\n",
              "    }\n",
              "\n",
              "    [theme=dark] .colab-df-convert {\n",
              "      background-color: #3B4455;\n",
              "      fill: #D2E3FC;\n",
              "    }\n",
              "\n",
              "    [theme=dark] .colab-df-convert:hover {\n",
              "      background-color: #434B5C;\n",
              "      box-shadow: 0px 1px 3px 1px rgba(0, 0, 0, 0.15);\n",
              "      filter: drop-shadow(0px 1px 2px rgba(0, 0, 0, 0.3));\n",
              "      fill: #FFFFFF;\n",
              "    }\n",
              "  </style>\n",
              "\n",
              "      <script>\n",
              "        const buttonEl =\n",
              "          document.querySelector('#df-0b6d8817-983f-4c67-9890-2336ad048950 button.colab-df-convert');\n",
              "        buttonEl.style.display =\n",
              "          google.colab.kernel.accessAllowed ? 'block' : 'none';\n",
              "\n",
              "        async function convertToInteractive(key) {\n",
              "          const element = document.querySelector('#df-0b6d8817-983f-4c67-9890-2336ad048950');\n",
              "          const dataTable =\n",
              "            await google.colab.kernel.invokeFunction('convertToInteractive',\n",
              "                                                     [key], {});\n",
              "          if (!dataTable) return;\n",
              "\n",
              "          const docLinkHtml = 'Like what you see? Visit the ' +\n",
              "            '<a target=\"_blank\" href=https://colab.research.google.com/notebooks/data_table.ipynb>data table notebook</a>'\n",
              "            + ' to learn more about interactive tables.';\n",
              "          element.innerHTML = '';\n",
              "          dataTable['output_type'] = 'display_data';\n",
              "          await google.colab.output.renderOutput(dataTable, element);\n",
              "          const docLink = document.createElement('div');\n",
              "          docLink.innerHTML = docLinkHtml;\n",
              "          element.appendChild(docLink);\n",
              "        }\n",
              "      </script>\n",
              "    </div>\n",
              "  </div>\n",
              "  "
            ]
          },
          "metadata": {},
          "execution_count": 211
        }
      ],
      "source": [
        "data.pivot_table(index='locality_name',values='airports_nearest',aggfunc='median')"
      ]
    },
    {
      "cell_type": "code",
      "execution_count": 212,
      "metadata": {
        "id": "eypDpVJ8eKGA"
      },
      "outputs": [],
      "source": [
        "med_airports_nearest = data.groupby('locality_name')['airports_nearest'].transform('median')\n",
        "#заменяем пропуски медианой по каждой группе\n",
        "data['airports_nearest'] = data['airports_nearest'].fillna(med_airports_nearest)"
      ]
    },
    {
      "cell_type": "code",
      "execution_count": 213,
      "metadata": {
        "id": "Z7spKOFFeKGA",
        "outputId": "ddb69804-4ef3-48a9-cde2-17844fad2840",
        "colab": {
          "base_uri": "https://localhost:8080/"
        }
      },
      "outputs": [
        {
          "output_type": "execute_result",
          "data": {
            "text/plain": [
              "4864"
            ]
          },
          "metadata": {},
          "execution_count": 213
        }
      ],
      "source": [
        "data['airports_nearest'].isnull().sum()"
      ]
    },
    {
      "cell_type": "markdown",
      "metadata": {
        "id": "KTGrRmMveKGA"
      },
      "source": [
        "Пропущенных значений 20.5 %"
      ]
    },
    {
      "cell_type": "markdown",
      "metadata": {
        "id": "Aj8-4YDPeKGA"
      },
      "source": [
        "##### 17. cityCenters_nearest — расстояние до центра города (м) <a name=\"cityCenters_nearest\"></a> "
      ]
    },
    {
      "cell_type": "code",
      "execution_count": 214,
      "metadata": {
        "id": "7ecwmh4heKGB",
        "outputId": "bf476ab1-ec5f-41aa-bf60-9621f2d279fe",
        "colab": {
          "base_uri": "https://localhost:8080/"
        }
      },
      "outputs": [
        {
          "output_type": "execute_result",
          "data": {
            "text/plain": [
              "5519"
            ]
          },
          "metadata": {},
          "execution_count": 214
        }
      ],
      "source": [
        "data['cityCenters_nearest'].isnull().sum()"
      ]
    },
    {
      "cell_type": "markdown",
      "metadata": {
        "id": "XDT9PUNceKGB"
      },
      "source": [
        "Пропущенных значений 23.28%"
      ]
    },
    {
      "cell_type": "code",
      "execution_count": 215,
      "metadata": {
        "id": "QDyZZDOWeKGB",
        "outputId": "5355267f-7516-441b-d22c-3033b2f6138a",
        "colab": {
          "base_uri": "https://localhost:8080/",
          "height": 959
        }
      },
      "outputs": [
        {
          "output_type": "execute_result",
          "data": {
            "text/plain": [
              "                         cityCenters_nearest\n",
              "locality_name                               \n",
              "                                      8943.0\n",
              "Зеленогорск                          53381.0\n",
              "Колпино                              32018.0\n",
              "Красное Село                         29140.5\n",
              "Кронштадт                            49575.0\n",
              "Ломоносов                            51677.0\n",
              "Павловск                             32683.0\n",
              "Петергоф                             33771.0\n",
              "Пушкин                               27930.5\n",
              "Санкт-Петербург                      12244.5\n",
              "Сестрорецк                           34821.0\n",
              "поселок Александровская              27468.0\n",
              "поселок Белоостров                   38868.0\n",
              "поселок Левашово                     25727.0\n",
              "поселок Лисий Нос                    28226.0\n",
              "поселок Металлострой                 27602.0\n",
              "поселок Молодежное                   65764.0\n",
              "поселок Мурино                       21888.0\n",
              "поселок Парголово                    19311.0\n",
              "поселок Песочный                     26099.5\n",
              "поселок Петро-Славянка               27165.0\n",
              "поселок Понтонный                    32354.0\n",
              "поселок Репино                       42896.5\n",
              "поселок Саперный                     35859.5\n",
              "поселок Стрельна                     23506.0\n",
              "поселок Усть-Ижора                   28222.5\n",
              "поселок Шушары                       24212.0\n",
              "поселок Щеглово                      34085.0"
            ],
            "text/html": [
              "\n",
              "  <div id=\"df-6732d803-c70e-452a-a9bf-65384decb061\">\n",
              "    <div class=\"colab-df-container\">\n",
              "      <div>\n",
              "<style scoped>\n",
              "    .dataframe tbody tr th:only-of-type {\n",
              "        vertical-align: middle;\n",
              "    }\n",
              "\n",
              "    .dataframe tbody tr th {\n",
              "        vertical-align: top;\n",
              "    }\n",
              "\n",
              "    .dataframe thead th {\n",
              "        text-align: right;\n",
              "    }\n",
              "</style>\n",
              "<table border=\"1\" class=\"dataframe\">\n",
              "  <thead>\n",
              "    <tr style=\"text-align: right;\">\n",
              "      <th></th>\n",
              "      <th>cityCenters_nearest</th>\n",
              "    </tr>\n",
              "    <tr>\n",
              "      <th>locality_name</th>\n",
              "      <th></th>\n",
              "    </tr>\n",
              "  </thead>\n",
              "  <tbody>\n",
              "    <tr>\n",
              "      <th></th>\n",
              "      <td>8943.0</td>\n",
              "    </tr>\n",
              "    <tr>\n",
              "      <th>Зеленогорск</th>\n",
              "      <td>53381.0</td>\n",
              "    </tr>\n",
              "    <tr>\n",
              "      <th>Колпино</th>\n",
              "      <td>32018.0</td>\n",
              "    </tr>\n",
              "    <tr>\n",
              "      <th>Красное Село</th>\n",
              "      <td>29140.5</td>\n",
              "    </tr>\n",
              "    <tr>\n",
              "      <th>Кронштадт</th>\n",
              "      <td>49575.0</td>\n",
              "    </tr>\n",
              "    <tr>\n",
              "      <th>Ломоносов</th>\n",
              "      <td>51677.0</td>\n",
              "    </tr>\n",
              "    <tr>\n",
              "      <th>Павловск</th>\n",
              "      <td>32683.0</td>\n",
              "    </tr>\n",
              "    <tr>\n",
              "      <th>Петергоф</th>\n",
              "      <td>33771.0</td>\n",
              "    </tr>\n",
              "    <tr>\n",
              "      <th>Пушкин</th>\n",
              "      <td>27930.5</td>\n",
              "    </tr>\n",
              "    <tr>\n",
              "      <th>Санкт-Петербург</th>\n",
              "      <td>12244.5</td>\n",
              "    </tr>\n",
              "    <tr>\n",
              "      <th>Сестрорецк</th>\n",
              "      <td>34821.0</td>\n",
              "    </tr>\n",
              "    <tr>\n",
              "      <th>поселок Александровская</th>\n",
              "      <td>27468.0</td>\n",
              "    </tr>\n",
              "    <tr>\n",
              "      <th>поселок Белоостров</th>\n",
              "      <td>38868.0</td>\n",
              "    </tr>\n",
              "    <tr>\n",
              "      <th>поселок Левашово</th>\n",
              "      <td>25727.0</td>\n",
              "    </tr>\n",
              "    <tr>\n",
              "      <th>поселок Лисий Нос</th>\n",
              "      <td>28226.0</td>\n",
              "    </tr>\n",
              "    <tr>\n",
              "      <th>поселок Металлострой</th>\n",
              "      <td>27602.0</td>\n",
              "    </tr>\n",
              "    <tr>\n",
              "      <th>поселок Молодежное</th>\n",
              "      <td>65764.0</td>\n",
              "    </tr>\n",
              "    <tr>\n",
              "      <th>поселок Мурино</th>\n",
              "      <td>21888.0</td>\n",
              "    </tr>\n",
              "    <tr>\n",
              "      <th>поселок Парголово</th>\n",
              "      <td>19311.0</td>\n",
              "    </tr>\n",
              "    <tr>\n",
              "      <th>поселок Песочный</th>\n",
              "      <td>26099.5</td>\n",
              "    </tr>\n",
              "    <tr>\n",
              "      <th>поселок Петро-Славянка</th>\n",
              "      <td>27165.0</td>\n",
              "    </tr>\n",
              "    <tr>\n",
              "      <th>поселок Понтонный</th>\n",
              "      <td>32354.0</td>\n",
              "    </tr>\n",
              "    <tr>\n",
              "      <th>поселок Репино</th>\n",
              "      <td>42896.5</td>\n",
              "    </tr>\n",
              "    <tr>\n",
              "      <th>поселок Саперный</th>\n",
              "      <td>35859.5</td>\n",
              "    </tr>\n",
              "    <tr>\n",
              "      <th>поселок Стрельна</th>\n",
              "      <td>23506.0</td>\n",
              "    </tr>\n",
              "    <tr>\n",
              "      <th>поселок Усть-Ижора</th>\n",
              "      <td>28222.5</td>\n",
              "    </tr>\n",
              "    <tr>\n",
              "      <th>поселок Шушары</th>\n",
              "      <td>24212.0</td>\n",
              "    </tr>\n",
              "    <tr>\n",
              "      <th>поселок Щеглово</th>\n",
              "      <td>34085.0</td>\n",
              "    </tr>\n",
              "  </tbody>\n",
              "</table>\n",
              "</div>\n",
              "      <button class=\"colab-df-convert\" onclick=\"convertToInteractive('df-6732d803-c70e-452a-a9bf-65384decb061')\"\n",
              "              title=\"Convert this dataframe to an interactive table.\"\n",
              "              style=\"display:none;\">\n",
              "        \n",
              "  <svg xmlns=\"http://www.w3.org/2000/svg\" height=\"24px\"viewBox=\"0 0 24 24\"\n",
              "       width=\"24px\">\n",
              "    <path d=\"M0 0h24v24H0V0z\" fill=\"none\"/>\n",
              "    <path d=\"M18.56 5.44l.94 2.06.94-2.06 2.06-.94-2.06-.94-.94-2.06-.94 2.06-2.06.94zm-11 1L8.5 8.5l.94-2.06 2.06-.94-2.06-.94L8.5 2.5l-.94 2.06-2.06.94zm10 10l.94 2.06.94-2.06 2.06-.94-2.06-.94-.94-2.06-.94 2.06-2.06.94z\"/><path d=\"M17.41 7.96l-1.37-1.37c-.4-.4-.92-.59-1.43-.59-.52 0-1.04.2-1.43.59L10.3 9.45l-7.72 7.72c-.78.78-.78 2.05 0 2.83L4 21.41c.39.39.9.59 1.41.59.51 0 1.02-.2 1.41-.59l7.78-7.78 2.81-2.81c.8-.78.8-2.07 0-2.86zM5.41 20L4 18.59l7.72-7.72 1.47 1.35L5.41 20z\"/>\n",
              "  </svg>\n",
              "      </button>\n",
              "      \n",
              "  <style>\n",
              "    .colab-df-container {\n",
              "      display:flex;\n",
              "      flex-wrap:wrap;\n",
              "      gap: 12px;\n",
              "    }\n",
              "\n",
              "    .colab-df-convert {\n",
              "      background-color: #E8F0FE;\n",
              "      border: none;\n",
              "      border-radius: 50%;\n",
              "      cursor: pointer;\n",
              "      display: none;\n",
              "      fill: #1967D2;\n",
              "      height: 32px;\n",
              "      padding: 0 0 0 0;\n",
              "      width: 32px;\n",
              "    }\n",
              "\n",
              "    .colab-df-convert:hover {\n",
              "      background-color: #E2EBFA;\n",
              "      box-shadow: 0px 1px 2px rgba(60, 64, 67, 0.3), 0px 1px 3px 1px rgba(60, 64, 67, 0.15);\n",
              "      fill: #174EA6;\n",
              "    }\n",
              "\n",
              "    [theme=dark] .colab-df-convert {\n",
              "      background-color: #3B4455;\n",
              "      fill: #D2E3FC;\n",
              "    }\n",
              "\n",
              "    [theme=dark] .colab-df-convert:hover {\n",
              "      background-color: #434B5C;\n",
              "      box-shadow: 0px 1px 3px 1px rgba(0, 0, 0, 0.15);\n",
              "      filter: drop-shadow(0px 1px 2px rgba(0, 0, 0, 0.3));\n",
              "      fill: #FFFFFF;\n",
              "    }\n",
              "  </style>\n",
              "\n",
              "      <script>\n",
              "        const buttonEl =\n",
              "          document.querySelector('#df-6732d803-c70e-452a-a9bf-65384decb061 button.colab-df-convert');\n",
              "        buttonEl.style.display =\n",
              "          google.colab.kernel.accessAllowed ? 'block' : 'none';\n",
              "\n",
              "        async function convertToInteractive(key) {\n",
              "          const element = document.querySelector('#df-6732d803-c70e-452a-a9bf-65384decb061');\n",
              "          const dataTable =\n",
              "            await google.colab.kernel.invokeFunction('convertToInteractive',\n",
              "                                                     [key], {});\n",
              "          if (!dataTable) return;\n",
              "\n",
              "          const docLinkHtml = 'Like what you see? Visit the ' +\n",
              "            '<a target=\"_blank\" href=https://colab.research.google.com/notebooks/data_table.ipynb>data table notebook</a>'\n",
              "            + ' to learn more about interactive tables.';\n",
              "          element.innerHTML = '';\n",
              "          dataTable['output_type'] = 'display_data';\n",
              "          await google.colab.output.renderOutput(dataTable, element);\n",
              "          const docLink = document.createElement('div');\n",
              "          docLink.innerHTML = docLinkHtml;\n",
              "          element.appendChild(docLink);\n",
              "        }\n",
              "      </script>\n",
              "    </div>\n",
              "  </div>\n",
              "  "
            ]
          },
          "metadata": {},
          "execution_count": 215
        }
      ],
      "source": [
        "data.pivot_table(index='locality_name',values='cityCenters_nearest',aggfunc='median')"
      ]
    },
    {
      "cell_type": "code",
      "execution_count": 216,
      "metadata": {
        "id": "JfEFpYrbeKGB"
      },
      "outputs": [],
      "source": [
        "med_cityCentres_nearest = data.groupby('locality_name')['cityCenters_nearest'].transform('median')\n",
        "#заменяем пропуски медианой по каждой группе\n",
        "data['cityCenters_nearest'] = data['cityCenters_nearest'].fillna(med_cityCentres_nearest)"
      ]
    },
    {
      "cell_type": "code",
      "execution_count": 217,
      "metadata": {
        "id": "KZq4QEcdeKGB",
        "outputId": "1fa74f2f-2c24-4c90-a402-3e692e203400",
        "colab": {
          "base_uri": "https://localhost:8080/"
        }
      },
      "outputs": [
        {
          "output_type": "execute_result",
          "data": {
            "text/plain": [
              "4864"
            ]
          },
          "metadata": {},
          "execution_count": 217
        }
      ],
      "source": [
        "data['cityCenters_nearest'].isnull().sum()"
      ]
    },
    {
      "cell_type": "markdown",
      "metadata": {
        "id": "F1DyPBTleKGC"
      },
      "source": [
        "Пропущенных значений 20.5 %."
      ]
    },
    {
      "cell_type": "markdown",
      "metadata": {
        "id": "sxAG21hceKGC"
      },
      "source": [
        "##### 18. parks_around3000 — число парков в радиусе 3 км <a name=\"parks_around3000\"></a> "
      ]
    },
    {
      "cell_type": "code",
      "execution_count": 218,
      "metadata": {
        "id": "CxvpZIi0eKGC",
        "outputId": "69ec229c-f2b2-4a09-f384-be0f610212bd",
        "colab": {
          "base_uri": "https://localhost:8080/"
        }
      },
      "outputs": [
        {
          "output_type": "execute_result",
          "data": {
            "text/plain": [
              "count    18181.000000\n",
              "mean         0.611408\n",
              "std          0.802074\n",
              "min          0.000000\n",
              "25%          0.000000\n",
              "50%          0.000000\n",
              "75%          1.000000\n",
              "max          3.000000\n",
              "Name: parks_around3000, dtype: float64"
            ]
          },
          "metadata": {},
          "execution_count": 218
        }
      ],
      "source": [
        "data['parks_around3000'].describe()"
      ]
    },
    {
      "cell_type": "code",
      "execution_count": 219,
      "metadata": {
        "id": "YRPKh7FVeKGC",
        "outputId": "c5669c4a-10b7-404f-bf55-972cb757a0f0",
        "colab": {
          "base_uri": "https://localhost:8080/"
        }
      },
      "outputs": [
        {
          "output_type": "execute_result",
          "data": {
            "text/plain": [
              "5518"
            ]
          },
          "metadata": {},
          "execution_count": 219
        }
      ],
      "source": [
        "data['parks_around3000'].isnull().sum()"
      ]
    },
    {
      "cell_type": "markdown",
      "metadata": {
        "id": "qkHyrYX5eKGC"
      },
      "source": [
        "Пропущенных значений 23.28%"
      ]
    },
    {
      "cell_type": "markdown",
      "metadata": {
        "id": "mdQLCeH2eKGD"
      },
      "source": [
        "Данные не участвуют в исследовании, заменю пропущенные значения на пробел"
      ]
    },
    {
      "cell_type": "code",
      "execution_count": 220,
      "metadata": {
        "id": "e6zN0YN0eKGD"
      },
      "outputs": [],
      "source": [
        "data['parks_around3000']=data['parks_around3000'].fillna(value='')"
      ]
    },
    {
      "cell_type": "code",
      "execution_count": 221,
      "metadata": {
        "id": "Hsn2zWhIeKGD",
        "outputId": "88412ce5-f65f-4d46-c831-e2484319ca7b",
        "colab": {
          "base_uri": "https://localhost:8080/"
        }
      },
      "outputs": [
        {
          "output_type": "execute_result",
          "data": {
            "text/plain": [
              "0"
            ]
          },
          "metadata": {},
          "execution_count": 221
        }
      ],
      "source": [
        "data['parks_around3000'].isnull().sum()"
      ]
    },
    {
      "cell_type": "markdown",
      "metadata": {
        "id": "w7CZHiuXeKGD"
      },
      "source": [
        "##### 19. parks_nearest — расстояние до ближайшего парка (м) <a name=\"parks_nearest\"></a> "
      ]
    },
    {
      "cell_type": "code",
      "execution_count": 222,
      "metadata": {
        "id": "dCw855eUeKGF",
        "outputId": "ab99d987-dd64-412b-cfa9-349e6a34e70c",
        "colab": {
          "base_uri": "https://localhost:8080/"
        }
      },
      "outputs": [
        {
          "output_type": "execute_result",
          "data": {
            "text/plain": [
              "15620"
            ]
          },
          "metadata": {},
          "execution_count": 222
        }
      ],
      "source": [
        "data['parks_nearest'].isnull().sum()"
      ]
    },
    {
      "cell_type": "markdown",
      "metadata": {
        "id": "BtMucBzkeKGF"
      },
      "source": [
        "Пропущенных значений 65.9%."
      ]
    },
    {
      "cell_type": "code",
      "execution_count": 223,
      "metadata": {
        "id": "01MQ-9WceKGG"
      },
      "outputs": [],
      "source": [
        "data['parks_nearest']=data['parks_nearest'].fillna(value='')"
      ]
    },
    {
      "cell_type": "code",
      "execution_count": 224,
      "metadata": {
        "id": "yv9OZCTHeKGG",
        "outputId": "40c00507-d83d-4385-bd79-c5992d242ef7",
        "colab": {
          "base_uri": "https://localhost:8080/"
        }
      },
      "outputs": [
        {
          "output_type": "execute_result",
          "data": {
            "text/plain": [
              "0"
            ]
          },
          "metadata": {},
          "execution_count": 224
        }
      ],
      "source": [
        "data['parks_nearest'].isnull().sum()"
      ]
    },
    {
      "cell_type": "markdown",
      "metadata": {
        "id": "nk0CcumueKGG"
      },
      "source": [
        "##### 20.ponds_around3000 — число водоёмов в радиусе 3 км <a name=\"ponds_around3000\"></a> "
      ]
    },
    {
      "cell_type": "code",
      "execution_count": 225,
      "metadata": {
        "id": "vkQbjXDxeKGG",
        "outputId": "4f42d9fe-13a0-47f5-db49-799ac21a7725",
        "colab": {
          "base_uri": "https://localhost:8080/"
        }
      },
      "outputs": [
        {
          "output_type": "execute_result",
          "data": {
            "text/plain": [
              "5518"
            ]
          },
          "metadata": {},
          "execution_count": 225
        }
      ],
      "source": [
        "data['ponds_around3000'].isnull().sum()"
      ]
    },
    {
      "cell_type": "markdown",
      "metadata": {
        "id": "qJK2DRvCeKGG"
      },
      "source": [
        "Пропущенных значений 23.28%"
      ]
    },
    {
      "cell_type": "markdown",
      "metadata": {
        "id": "pLib6FijeKGH"
      },
      "source": [
        "Данные не участвуют в исследовании, заменю пропущенные значения на пробел"
      ]
    },
    {
      "cell_type": "code",
      "execution_count": 226,
      "metadata": {
        "id": "VjbD3jZmeKGH"
      },
      "outputs": [],
      "source": [
        "data['ponds_around3000']=data['ponds_around3000'].fillna(value='')"
      ]
    },
    {
      "cell_type": "code",
      "execution_count": 227,
      "metadata": {
        "id": "rCGvy2B8eKGH",
        "outputId": "d084e57b-6b17-4a25-eb86-7f07ae3ef72e",
        "colab": {
          "base_uri": "https://localhost:8080/"
        }
      },
      "outputs": [
        {
          "output_type": "execute_result",
          "data": {
            "text/plain": [
              "0"
            ]
          },
          "metadata": {},
          "execution_count": 227
        }
      ],
      "source": [
        "data['ponds_around3000'].isnull().sum()"
      ]
    },
    {
      "cell_type": "markdown",
      "metadata": {
        "id": "0V9aBIVfeKGH"
      },
      "source": [
        "##### 21. ponds_nearest — расстояние до ближайшего водоёма (м) <a name=\"ponds_nearest\"></a> "
      ]
    },
    {
      "cell_type": "code",
      "execution_count": 228,
      "metadata": {
        "id": "EZkiP65MeKGH",
        "outputId": "bcc4ff36-d5eb-4d1a-ab7c-524a894d8ba8",
        "colab": {
          "base_uri": "https://localhost:8080/"
        }
      },
      "outputs": [
        {
          "output_type": "execute_result",
          "data": {
            "text/plain": [
              "14589"
            ]
          },
          "metadata": {},
          "execution_count": 228
        }
      ],
      "source": [
        "data['ponds_nearest'].isnull().sum()"
      ]
    },
    {
      "cell_type": "markdown",
      "metadata": {
        "id": "bgOh3VMceKGI"
      },
      "source": [
        "Пропущенных значений 61.5%"
      ]
    },
    {
      "cell_type": "markdown",
      "metadata": {
        "id": "eSteLmKQeKGI"
      },
      "source": [
        "Данные не участвуют в исследовании, заменю пропущенные значения на пробел"
      ]
    },
    {
      "cell_type": "code",
      "execution_count": 229,
      "metadata": {
        "id": "-uDFWeM8eKGI"
      },
      "outputs": [],
      "source": [
        "data['ponds_nearest']=data['ponds_nearest'].fillna(value='')"
      ]
    },
    {
      "cell_type": "code",
      "execution_count": 230,
      "metadata": {
        "id": "W8HwHd4heKGI",
        "outputId": "8a6df4db-6a79-4855-ffcc-a4cfd765de9f",
        "colab": {
          "base_uri": "https://localhost:8080/"
        }
      },
      "outputs": [
        {
          "output_type": "execute_result",
          "data": {
            "text/plain": [
              "0"
            ]
          },
          "metadata": {},
          "execution_count": 230
        }
      ],
      "source": [
        "data['ponds_nearest'].isnull().sum()"
      ]
    },
    {
      "cell_type": "markdown",
      "metadata": {
        "id": "sVBqhllNeKGJ"
      },
      "source": [
        "##### 22. days_exposition - сколько дней было размещено объявление (от публикации до снятия) <a name=\"days_exposition\"></a> "
      ]
    },
    {
      "cell_type": "code",
      "execution_count": 231,
      "metadata": {
        "id": "kNQeohSgeKGJ",
        "outputId": "cce96abb-bbc3-44c8-cb08-b1abb875c7ef",
        "colab": {
          "base_uri": "https://localhost:8080/"
        }
      },
      "outputs": [
        {
          "output_type": "execute_result",
          "data": {
            "text/plain": [
              "count    20518.000000\n",
              "mean       180.888634\n",
              "std        219.727988\n",
              "min          1.000000\n",
              "25%         45.000000\n",
              "50%         95.000000\n",
              "75%        232.000000\n",
              "max       1580.000000\n",
              "Name: days_exposition, dtype: float64"
            ]
          },
          "metadata": {},
          "execution_count": 231
        }
      ],
      "source": [
        "data['days_exposition'].describe()"
      ]
    },
    {
      "cell_type": "code",
      "execution_count": 232,
      "metadata": {
        "id": "QR9Aqs-teKGJ",
        "outputId": "befef104-376d-4891-ef0e-3c52b5732938",
        "colab": {
          "base_uri": "https://localhost:8080/"
        }
      },
      "outputs": [
        {
          "output_type": "execute_result",
          "data": {
            "text/plain": [
              "3181"
            ]
          },
          "metadata": {},
          "execution_count": 232
        }
      ],
      "source": [
        "data['days_exposition'].isnull().sum()"
      ]
    },
    {
      "cell_type": "markdown",
      "metadata": {
        "id": "e8vTh1G7eKGJ"
      },
      "source": [
        "Около 13 процентов пропущенных значений, поэтому будем заменять их медианой, это самый безопасный метод для всей выборки."
      ]
    },
    {
      "cell_type": "code",
      "execution_count": 233,
      "metadata": {
        "id": "s-7MR1_GeKGJ"
      },
      "outputs": [],
      "source": [
        "median_days_exposition=data['days_exposition'].median()"
      ]
    },
    {
      "cell_type": "code",
      "execution_count": 234,
      "metadata": {
        "id": "xgcwStLreKGK"
      },
      "outputs": [],
      "source": [
        "data['days_exposition']=data['days_exposition'].fillna(value=median_days_exposition)"
      ]
    },
    {
      "cell_type": "code",
      "execution_count": 235,
      "metadata": {
        "id": "jVZOB7oYeKGK",
        "outputId": "dbab8684-5a2f-40d9-c047-7a5a1f8eefc4",
        "colab": {
          "base_uri": "https://localhost:8080/"
        }
      },
      "outputs": [
        {
          "output_type": "execute_result",
          "data": {
            "text/plain": [
              "count    23699.000000\n",
              "mean       169.360226\n",
              "std        206.535633\n",
              "min          1.000000\n",
              "25%         45.000000\n",
              "50%         95.000000\n",
              "75%        199.000000\n",
              "max       1580.000000\n",
              "Name: days_exposition, dtype: float64"
            ]
          },
          "metadata": {},
          "execution_count": 235
        }
      ],
      "source": [
        "data.days_exposition.describe()"
      ]
    },
    {
      "cell_type": "markdown",
      "metadata": {
        "id": "pKSKnekXeKGK"
      },
      "source": [
        "Пропущенные значения были успешно заменены на медиану. Теперь необходимо поменять тип данных **float64** на **int64**."
      ]
    },
    {
      "cell_type": "code",
      "execution_count": 236,
      "metadata": {
        "id": "gcL4g2xheKGK"
      },
      "outputs": [],
      "source": [
        "data['days_exposition']=data['days_exposition'].astype('int')"
      ]
    },
    {
      "cell_type": "markdown",
      "metadata": {
        "id": "-_ncYrLKeKGK"
      },
      "source": [
        "Проверю, сработал ли метод."
      ]
    },
    {
      "cell_type": "code",
      "execution_count": 237,
      "metadata": {
        "id": "SuEtrvXEeKGL",
        "outputId": "01ffcf17-a3af-41bb-d340-965f04e50677",
        "colab": {
          "base_uri": "https://localhost:8080/"
        }
      },
      "outputs": [
        {
          "output_type": "stream",
          "name": "stdout",
          "text": [
            "<class 'pandas.core.frame.DataFrame'>\n",
            "RangeIndex: 23699 entries, 0 to 23698\n",
            "Data columns (total 23 columns):\n",
            " #   Column                Non-Null Count  Dtype         \n",
            "---  ------                --------------  -----         \n",
            " 0   total_images          23699 non-null  int64         \n",
            " 1   last_price            23699 non-null  float64       \n",
            " 2   total_area            23699 non-null  float64       \n",
            " 3   first_day_exposition  23699 non-null  datetime64[ns]\n",
            " 4   rooms                 23699 non-null  int64         \n",
            " 5   ceiling_height        23699 non-null  float64       \n",
            " 6   floors_total          23699 non-null  int64         \n",
            " 7   living_area           23699 non-null  float64       \n",
            " 8   floor                 23699 non-null  int64         \n",
            " 9   is_apartment          23699 non-null  bool          \n",
            " 10  studio                23699 non-null  bool          \n",
            " 11  open_plan             23699 non-null  bool          \n",
            " 12  kitchen_area          23699 non-null  float64       \n",
            " 13  balcony               23699 non-null  float64       \n",
            " 14  locality_name         23699 non-null  object        \n",
            " 15  airports_nearest      18835 non-null  float64       \n",
            " 16  cityCenters_nearest   18835 non-null  float64       \n",
            " 17  parks_around3000      23699 non-null  object        \n",
            " 18  parks_nearest         23699 non-null  object        \n",
            " 19  ponds_around3000      23699 non-null  object        \n",
            " 20  ponds_nearest         23699 non-null  object        \n",
            " 21  days_exposition       23699 non-null  int64         \n",
            " 22  rooms_category        23699 non-null  object        \n",
            "dtypes: bool(3), datetime64[ns](1), float64(8), int64(5), object(6)\n",
            "memory usage: 3.7+ MB\n"
          ]
        }
      ],
      "source": [
        "data.info()"
      ]
    },
    {
      "cell_type": "markdown",
      "metadata": {
        "id": "HxFoGR6XeKGL"
      },
      "source": [
        "##### Проверка на дубликаты:"
      ]
    },
    {
      "cell_type": "code",
      "execution_count": 238,
      "metadata": {
        "id": "gg7HGCb9eKGL",
        "outputId": "7e6cecdd-2c48-495c-8073-665ed99b2cf3",
        "colab": {
          "base_uri": "https://localhost:8080/"
        }
      },
      "outputs": [
        {
          "output_type": "execute_result",
          "data": {
            "text/plain": [
              "0"
            ]
          },
          "metadata": {},
          "execution_count": 238
        }
      ],
      "source": [
        "data.duplicated().sum()"
      ]
    },
    {
      "cell_type": "markdown",
      "metadata": {
        "id": "mcLturLueKGL"
      },
      "source": [
        "### Вывод по предобработке данных: <a name=\"conclusion_predobrabotka\"></a>"
      ]
    },
    {
      "cell_type": "markdown",
      "metadata": {
        "id": "bi24HZvheKGQ"
      },
      "source": [
        "В ходе предобработки данных:  \n",
        "* обнаружены пропущенные значения в признаках: \n",
        "    * ceiling_height: **61%**\n",
        "    * floors_total: **0.36%**\n",
        "    * living_area: **8%**\n",
        "    * is_apartment: **88%**\n",
        "    * locality_name **0.2%**\n",
        "    * kitchen_area **9.6%**\n",
        "    * balcony **48%**\n",
        "    * airports_nearest **23%**\n",
        "    * cityCenters_nearest **23.28%**\n",
        "    * parks_around3000 **23.28%**\n",
        "    * parks_nearest **65.9%** \n",
        "    * ponds_around3000 **23.28%**\n",
        "    * ponds_nearest **61.5%**\n",
        "    * days_exposition **13%**\n",
        "* заменены пропущенные значения на:\n",
        "    * ceiling_height: **'0'**, \n",
        "    * living_area: **медианное значение**\n",
        "    * locality_name: **пустая строка**\n",
        "    * kitchen_area: **медианное значение**\n",
        "    * balcony: **'0'**\n",
        "    * airports_nearest: **медианой по каждой группе locality_name**\n",
        "    * cityCenters_nearest: **медианой по каждой группе locality_name**\n",
        "    * days_exposition: **медиана** \n",
        "* заменены типы данных:\n",
        "    * first_day_exposition: **object на datetime64[ns]**\n",
        "    * floors_total: **float64 на int64**\n",
        "    * is_apartment: **object на bool**\n",
        "    * days_exposition: **float64 на int64**\n",
        "    \n",
        " \n",
        "**Пропущенные значения остальных признаков были заменены на пустую строку, так как эти данные в исследованиях не используются.**\n",
        "    \n",
        "    "
      ]
    },
    {
      "cell_type": "markdown",
      "metadata": {
        "id": "gajSS1-deKGR"
      },
      "source": [
        "### Шаг 3. Добавление новых признаков в таблицу <a name=\"step3\"></a>"
      ]
    },
    {
      "cell_type": "markdown",
      "metadata": {
        "id": "ytLfSMvNeKGR"
      },
      "source": [
        "Посчитать и добавить в таблицу:\n",
        "* цену квадратного метра;\n",
        "* день недели, месяц и год публикации объявления;\n",
        "* этаж квартиры; варианты — первый, последний, другой;\n",
        "* соотношение жилой и общей площади, а также отношение площади кухни к общей."
      ]
    },
    {
      "cell_type": "markdown",
      "metadata": {
        "id": "k7arG4-TeKGR"
      },
      "source": [
        "##### 3.1. Цена квадратного метра <a name=\"price_per_square_meter\"></a>"
      ]
    },
    {
      "cell_type": "code",
      "execution_count": 239,
      "metadata": {
        "id": "YU-nH84QeKGS"
      },
      "outputs": [],
      "source": [
        "data['price_per_square_meter']=data['last_price']/data['total_area']"
      ]
    },
    {
      "cell_type": "markdown",
      "metadata": {
        "id": "Ixeg48oPeKGS"
      },
      "source": [
        "##### 3.2. День недели, месяц и год публикации объявления <a name=\"Day_of_week_month_and_year_when_the_ad_was_published\"></a>"
      ]
    },
    {
      "cell_type": "code",
      "execution_count": 240,
      "metadata": {
        "id": "2q3ffm24eKGS"
      },
      "outputs": [],
      "source": [
        "data['day_of_week']=data['first_day_exposition'].dt.dayofweek"
      ]
    },
    {
      "cell_type": "code",
      "execution_count": 241,
      "metadata": {
        "id": "pbhFC9nxeKGS"
      },
      "outputs": [],
      "source": [
        "def day_of_week(dataset):\n",
        "    if dataset['day_of_week']==1:\n",
        "        return 'monday'\n",
        "    elif dataset['day_of_week']==2:\n",
        "        return 'tuesday'\n",
        "    elif dataset['day_of_week']==3:\n",
        "        return 'wednesday'\n",
        "    elif dataset['day_of_week']==4:\n",
        "        return 'thursday'\n",
        "    elif dataset['day_of_week']==5:\n",
        "        return 'friday'\n",
        "    elif dataset['day_of_week']==6:\n",
        "        return 'saturday'\n",
        "    else:\n",
        "        return 'sunday'\n",
        "        "
      ]
    },
    {
      "cell_type": "code",
      "execution_count": 242,
      "metadata": {
        "id": "L2_IKKapeKGT"
      },
      "outputs": [],
      "source": [
        "data['day_of_week'] = data.apply(day_of_week,axis=1)"
      ]
    },
    {
      "cell_type": "code",
      "execution_count": 243,
      "metadata": {
        "id": "Txj4MDEVeKGT",
        "outputId": "554c861d-f165-423a-e59c-205c18dcab17",
        "colab": {
          "base_uri": "https://localhost:8080/"
        }
      },
      "outputs": [
        {
          "output_type": "execute_result",
          "data": {
            "text/plain": [
              "wednesday    4295\n",
              "monday       4183\n",
              "thursday     4000\n",
              "tuesday      3974\n",
              "sunday       3612\n",
              "friday       1936\n",
              "saturday     1699\n",
              "Name: day_of_week, dtype: int64"
            ]
          },
          "metadata": {},
          "execution_count": 243
        }
      ],
      "source": [
        "data['day_of_week'].value_counts()"
      ]
    },
    {
      "cell_type": "code",
      "execution_count": 244,
      "metadata": {
        "id": "_UBevc_aeKGT"
      },
      "outputs": [],
      "source": [
        "data['day']=data['first_day_exposition'].dt.dayofweek"
      ]
    },
    {
      "cell_type": "markdown",
      "metadata": {
        "id": "B_ZNb1cfeKGU"
      },
      "source": [
        "Теперь узнаем какой месяц"
      ]
    },
    {
      "cell_type": "code",
      "execution_count": 245,
      "metadata": {
        "id": "SxpGFJYheKGU"
      },
      "outputs": [],
      "source": [
        "data['month']=data['first_day_exposition'].dt.month"
      ]
    },
    {
      "cell_type": "code",
      "execution_count": 246,
      "metadata": {
        "id": "WM4EW2IneKGU"
      },
      "outputs": [],
      "source": [
        "def month(dataset):\n",
        "    if dataset['month']==1:\n",
        "        return 'january'\n",
        "    elif dataset['month']==2:\n",
        "        return 'february'\n",
        "    elif dataset['month']==3:\n",
        "        return 'march'\n",
        "    elif dataset['month']==4:\n",
        "        return 'april '\n",
        "    elif dataset['month']==5:\n",
        "        return 'may'\n",
        "    elif dataset['month']==6:\n",
        "        return 'june'\n",
        "    elif dataset['month']==7:\n",
        "        return 'july'\n",
        "    elif dataset['month']==8:\n",
        "        return 'august '\n",
        "    elif dataset['month']==9:\n",
        "        return 'september'\n",
        "    elif dataset['month']==10:\n",
        "        return 'october'\n",
        "    elif dataset['month']==11:\n",
        "        return 'november'\n",
        "    else:\n",
        "        return 'december'\n",
        "        "
      ]
    },
    {
      "cell_type": "code",
      "execution_count": 247,
      "metadata": {
        "id": "sIRFm_vZeKGU"
      },
      "outputs": [],
      "source": [
        "data['month_of_year'] = data.apply(month,axis=1)"
      ]
    },
    {
      "cell_type": "code",
      "execution_count": 248,
      "metadata": {
        "id": "xQcKzeE0eKGV",
        "outputId": "f68b43d4-aef2-4e0e-d435-079aa8e33b15",
        "colab": {
          "base_uri": "https://localhost:8080/"
        }
      },
      "outputs": [
        {
          "output_type": "execute_result",
          "data": {
            "text/plain": [
              "february     2640\n",
              "march        2587\n",
              "april        2379\n",
              "november     2371\n",
              "october      2127\n",
              "september    1981\n",
              "june         1760\n",
              "august       1744\n",
              "july         1695\n",
              "december     1641\n",
              "january      1500\n",
              "may          1274\n",
              "Name: month_of_year, dtype: int64"
            ]
          },
          "metadata": {},
          "execution_count": 248
        }
      ],
      "source": [
        "data['month_of_year'].value_counts()"
      ]
    },
    {
      "cell_type": "code",
      "execution_count": 249,
      "metadata": {
        "id": "h9oYG6FueKGV"
      },
      "outputs": [],
      "source": [
        "data['month']=data['first_day_exposition'].dt.month"
      ]
    },
    {
      "cell_type": "code",
      "execution_count": 250,
      "metadata": {
        "id": "-HHdZ5aeeKGV"
      },
      "outputs": [],
      "source": [
        "data['year']=data['first_day_exposition'].dt.year"
      ]
    },
    {
      "cell_type": "markdown",
      "metadata": {
        "id": "fRDjimNZeKGV"
      },
      "source": [
        "##### 3.3 Этаж квартиры; варианты — первый, последний, другой <a name=\"apartment_floor_options_first_last_other\"></a>"
      ]
    },
    {
      "cell_type": "code",
      "execution_count": 251,
      "metadata": {
        "id": "-wkHCZpBeKGV"
      },
      "outputs": [],
      "source": [
        "def floor_category(dataset):\n",
        "    if dataset['floor'] == 1:\n",
        "        return 'первый'\n",
        "    elif dataset['floor'] == dataset['floors_total']:\n",
        "        return 'последний'\n",
        "    else: \n",
        "        return 'другой'       "
      ]
    },
    {
      "cell_type": "code",
      "execution_count": 252,
      "metadata": {
        "id": "5fcv1vhyeKGW"
      },
      "outputs": [],
      "source": [
        "data['floor_category'] = data.apply(floor_category,axis=1)"
      ]
    },
    {
      "cell_type": "code",
      "execution_count": 253,
      "metadata": {
        "id": "Bq0tAtY1eKGW",
        "outputId": "054dea16-b5b2-4b3d-e244-55f38aec06c1",
        "colab": {
          "base_uri": "https://localhost:8080/"
        }
      },
      "outputs": [
        {
          "output_type": "execute_result",
          "data": {
            "text/plain": [
              "другой       17446\n",
              "последний     3336\n",
              "первый        2917\n",
              "Name: floor_category, dtype: int64"
            ]
          },
          "metadata": {},
          "execution_count": 253
        }
      ],
      "source": [
        "data['floor_category'].value_counts()"
      ]
    },
    {
      "cell_type": "markdown",
      "metadata": {
        "id": "D4BG9-TUeKGW"
      },
      "source": [
        "##### 3.4. Cоотношение жилой и общей площади, а также отношение площади кухни к общей. <a name=\"the_ratio_of_living_space_and_total_area\"></a>"
      ]
    },
    {
      "cell_type": "code",
      "execution_count": 254,
      "metadata": {
        "id": "DL6Epd2oeKGW"
      },
      "outputs": [],
      "source": [
        "data['ratio_of_living_and_total_area']=data['living_area']/data['total_area']"
      ]
    },
    {
      "cell_type": "code",
      "execution_count": 255,
      "metadata": {
        "id": "5OPKHgSleKGX"
      },
      "outputs": [],
      "source": [
        "data['ratio_of_kitchen_and_total_area']=data['kitchen_area']/data['total_area']"
      ]
    },
    {
      "cell_type": "markdown",
      "metadata": {
        "id": "1NuCh1jCeKGX"
      },
      "source": [
        "### Шаг 4. Исследовательский анализ данных  <a name=\"exploratory_data_analysis\"></a>"
      ]
    },
    {
      "cell_type": "markdown",
      "metadata": {
        "id": "woH8JRLAeKGX"
      },
      "source": [
        "##### 4.1. Изучение  площади, цены, числа комнат, высоты потолков. <a name=\"area_price_number_of_rooms_ceiling_height\"></a>"
      ]
    },
    {
      "cell_type": "markdown",
      "metadata": {
        "id": "vcAIr3gneKGX"
      },
      "source": [
        "##### Площадь квартиры в квадратных метрах"
      ]
    },
    {
      "cell_type": "markdown",
      "metadata": {
        "id": "emJvSPtaeKGX"
      },
      "source": [
        "Построю ящик с усами, чтобы обозначить границы выбросов:"
      ]
    },
    {
      "cell_type": "code",
      "execution_count": 256,
      "metadata": {
        "id": "tLlykl-meKGX",
        "outputId": "e96f0d3d-2bdf-4d10-fdb7-60172d36b635",
        "colab": {
          "base_uri": "https://localhost:8080/",
          "height": 284
        }
      },
      "outputs": [
        {
          "output_type": "execute_result",
          "data": {
            "text/plain": [
              "<matplotlib.axes._subplots.AxesSubplot at 0x7fa933136950>"
            ]
          },
          "metadata": {},
          "execution_count": 256
        },
        {
          "output_type": "display_data",
          "data": {
            "text/plain": [
              "<Figure size 432x288 with 1 Axes>"
            ],
            "image/png": "[encoded data removed]"
          },
          "metadata": {
            "needs_background": "light"
          }
        }
      ],
      "source": [
        "data.boxplot('total_area')"
      ]
    },
    {
      "cell_type": "code",
      "execution_count": 257,
      "metadata": {
        "id": "KN1eyilQeKGY",
        "outputId": "bb5bd51c-4258-4737-be3a-00e8859210b8",
        "colab": {
          "base_uri": "https://localhost:8080/",
          "height": 288
        }
      },
      "outputs": [
        {
          "output_type": "execute_result",
          "data": {
            "text/plain": [
              "<matplotlib.axes._subplots.AxesSubplot at 0x7fa932e85290>"
            ]
          },
          "metadata": {},
          "execution_count": 257
        },
        {
          "output_type": "display_data",
          "data": {
            "text/plain": [
              "<Figure size 432x288 with 1 Axes>"
            ],
            "image/png": "[encoded data removed]"
          },
          "metadata": {
            "needs_background": "light"
          }
        }
      ],
      "source": [
        "plt.ylim(0,200)\n",
        "data.boxplot('total_area')"
      ]
    },
    {
      "cell_type": "code",
      "execution_count": 258,
      "metadata": {
        "id": "q29YyQl2eKGY",
        "outputId": "cb6601f2-e29b-4cad-ab4c-b4eb67f9ea44",
        "colab": {
          "base_uri": "https://localhost:8080/"
        }
      },
      "outputs": [
        {
          "output_type": "execute_result",
          "data": {
            "text/plain": [
              "count    23699.000000\n",
              "mean        60.348651\n",
              "std         35.654083\n",
              "min         12.000000\n",
              "25%         40.000000\n",
              "50%         52.000000\n",
              "75%         69.900000\n",
              "max        900.000000\n",
              "Name: total_area, dtype: float64"
            ]
          },
          "metadata": {},
          "execution_count": 258
        }
      ],
      "source": [
        "data['total_area'].describe()"
      ]
    },
    {
      "cell_type": "markdown",
      "metadata": {
        "id": "nHSfYNiseKGY"
      },
      "source": [
        "Нижняя границы нормального размаха соответствует min: '12'."
      ]
    },
    {
      "cell_type": "markdown",
      "metadata": {
        "id": "UpXNdUJreKGY"
      },
      "source": [
        "Создам функцию для вычисления **верхней границы нормального размаха**:"
      ]
    },
    {
      "cell_type": "code",
      "execution_count": 259,
      "metadata": {
        "id": "vOX36tVyeKGZ"
      },
      "outputs": [],
      "source": [
        "def upper (q1,q3):\n",
        "    interquartile_range=q3-q1\n",
        "    upper_mustache=q3+1.5*interquartile_range\n",
        "    return upper_mustache"
      ]
    },
    {
      "cell_type": "code",
      "execution_count": 260,
      "metadata": {
        "id": "KW0ZOjmfeKGZ",
        "outputId": "0cb73370-51ea-4ff6-b104-8b7fcbbb924d",
        "colab": {
          "base_uri": "https://localhost:8080/"
        }
      },
      "outputs": [
        {
          "output_type": "execute_result",
          "data": {
            "text/plain": [
              "114.75000000000001"
            ]
          },
          "metadata": {},
          "execution_count": 260
        }
      ],
      "source": [
        "upper(40,69.9)"
      ]
    },
    {
      "cell_type": "markdown",
      "metadata": {
        "id": "EJfGIDzOeKGZ"
      },
      "source": [
        "**Промежуточный вывод:**  \n",
        "* нижний ус упирается в значение '12'\n",
        "* верхний ус упирается в значение '114.75'\n",
        "* все что лежит за границами нормального размаха будет выбросом"
      ]
    },
    {
      "cell_type": "markdown",
      "metadata": {
        "id": "dh-4bLhjeKGZ"
      },
      "source": [
        "Создаю переменную **new_total_area**, которая будет соответствовать границам нормального размаха:"
      ]
    },
    {
      "cell_type": "code",
      "execution_count": 261,
      "metadata": {
        "id": "lUAFNyuueKGZ"
      },
      "outputs": [],
      "source": [
        "new_total_area=data.query('total_area >= 12 & total_area <=114.75')"
      ]
    },
    {
      "cell_type": "code",
      "execution_count": 262,
      "metadata": {
        "id": "-5-WniKieKGa",
        "outputId": "3ae7e490-35d1-4695-818f-e3adcfdead22",
        "colab": {
          "base_uri": "https://localhost:8080/",
          "height": 593
        }
      },
      "outputs": [
        {
          "output_type": "display_data",
          "data": {
            "text/plain": [
              "<Figure size 432x288 with 1 Axes>"
            ],
            "image/png": "[encoded data removed]"
          },
          "metadata": {
            "needs_background": "light"
          }
        },
        {
          "output_type": "execute_result",
          "data": {
            "text/plain": [
              "Text(0.5, 1.0, 'Histogram based on total_area without outliers from 2014-11-27 to 2019-05-03')"
            ]
          },
          "metadata": {},
          "execution_count": 262
        },
        {
          "output_type": "display_data",
          "data": {
            "text/plain": [
              "<Figure size 432x288 with 1 Axes>"
            ],
            "image/png": "[encoded data removed]"
          },
          "metadata": {
            "needs_background": "light"
          }
        }
      ],
      "source": [
        "import seaborn as sns\n",
        "plt.ylabel('frequency')\n",
        "plt.xlabel('total_area(m²)')\n",
        "sns.histplot(data=data,x=\"total_area\",bins=200).set_title('Histogram based on total_area from 2014-11-27 to 2019-05-03')\n",
        "plt.show()\n",
        "plt.ylabel('frequency')\n",
        "plt.xlabel('total_area(m²)')\n",
        "sns.histplot(data=new_total_area,x=\"total_area\",bins=200).set_title('Histogram based on total_area without outliers from 2014-11-27 to 2019-05-03')"
      ]
    },
    {
      "cell_type": "markdown",
      "metadata": {
        "id": "t2J0vtpFeKGa"
      },
      "source": [
        "В далнейших исследованиях буду рассматривать **new_total_area**."
      ]
    },
    {
      "cell_type": "markdown",
      "metadata": {
        "id": "tFjUwKFweKGa"
      },
      "source": [
        "##### Цена"
      ]
    },
    {
      "cell_type": "code",
      "execution_count": 263,
      "metadata": {
        "id": "rxoXuCmseKGa",
        "outputId": "c8cf7067-e0b4-40a9-f105-77e2b896621d",
        "colab": {
          "base_uri": "https://localhost:8080/"
        }
      },
      "outputs": [
        {
          "output_type": "execute_result",
          "data": {
            "text/plain": [
              "count    2.369900e+04\n",
              "mean     6.541549e+06\n",
              "std      1.088701e+07\n",
              "min      1.219000e+04\n",
              "25%      3.400000e+06\n",
              "50%      4.650000e+06\n",
              "75%      6.800000e+06\n",
              "max      7.630000e+08\n",
              "Name: last_price, dtype: float64"
            ]
          },
          "metadata": {},
          "execution_count": 263
        }
      ],
      "source": [
        "data['last_price'].describe()"
      ]
    },
    {
      "cell_type": "code",
      "execution_count": 264,
      "metadata": {
        "id": "T2E7G7GxeKGb",
        "outputId": "f6420a78-f6b8-41bc-f210-f6d6c1f814d6",
        "colab": {
          "base_uri": "https://localhost:8080/",
          "height": 295
        }
      },
      "outputs": [
        {
          "output_type": "execute_result",
          "data": {
            "text/plain": [
              "<matplotlib.axes._subplots.AxesSubplot at 0x7fa932d9b910>"
            ]
          },
          "metadata": {},
          "execution_count": 264
        },
        {
          "output_type": "display_data",
          "data": {
            "text/plain": [
              "<Figure size 432x288 with 1 Axes>"
            ],
            "image/png": "[encoded data removed]"
          },
          "metadata": {
            "needs_background": "light"
          }
        }
      ],
      "source": [
        "data.boxplot('last_price')"
      ]
    },
    {
      "cell_type": "code",
      "execution_count": 265,
      "metadata": {
        "id": "A_KmfS-NeKGb",
        "outputId": "d7a66e7b-9e97-448c-a969-b9ca358215f2",
        "colab": {
          "base_uri": "https://localhost:8080/"
        }
      },
      "outputs": [
        {
          "output_type": "execute_result",
          "data": {
            "text/plain": [
              "11900000.0"
            ]
          },
          "metadata": {},
          "execution_count": 265
        }
      ],
      "source": [
        "upper(3.4e+06,6.8e+06)"
      ]
    },
    {
      "cell_type": "markdown",
      "metadata": {
        "id": "_yS3nMl4eKGb"
      },
      "source": [
        "**Промежуточный вывод:**  \n",
        "* нижний ус упирается в значение '12190'\n",
        "* верхний ус упирается в значение '11900000'\n",
        "* все что лежит за границами нормального размаха будет выбросом"
      ]
    },
    {
      "cell_type": "markdown",
      "metadata": {
        "id": "gPJpZDs_eKGb"
      },
      "source": [
        "Создаю переменную **new_last_price**, которая будет соответствовать границам нормального размаха:"
      ]
    },
    {
      "cell_type": "code",
      "execution_count": 266,
      "metadata": {
        "id": "Arr1-hHZeKGb"
      },
      "outputs": [],
      "source": [
        "new_last_price=data.query('last_price <= 11900000')"
      ]
    },
    {
      "cell_type": "code",
      "execution_count": 267,
      "metadata": {
        "id": "k2h87yHIeKGc",
        "outputId": "42ee2d41-e887-4734-aa79-2e88d82c1cfa",
        "colab": {
          "base_uri": "https://localhost:8080/",
          "height": 593
        }
      },
      "outputs": [
        {
          "output_type": "display_data",
          "data": {
            "text/plain": [
              "<Figure size 432x288 with 1 Axes>"
            ],
            "image/png": "[encoded data removed]"
          },
          "metadata": {
            "needs_background": "light"
          }
        },
        {
          "output_type": "execute_result",
          "data": {
            "text/plain": [
              "Text(0.5, 1.0, 'Histogram based on last_price without outliers from 2014-11-27 to 2019-05-03')"
            ]
          },
          "metadata": {},
          "execution_count": 267
        },
        {
          "output_type": "display_data",
          "data": {
            "text/plain": [
              "<Figure size 432x288 with 1 Axes>"
            ],
            "image/png": "[encoded data removed]"
          },
          "metadata": {
            "needs_background": "light"
          }
        }
      ],
      "source": [
        "plt.ylabel('frequency')\n",
        "plt.xlabel('last_price(rubles)')\n",
        "sns.histplot(data=data,x=\"last_price\",bins=100).set_title('Histogram based on last_price from 2014-11-27 to 2019-05-03')\n",
        "plt.show()\n",
        "plt.ylabel('frequency')\n",
        "plt.xlabel('last_price(rubles)')\n",
        "sns.histplot(data=new_last_price,x=\"last_price\",bins=100).set_title('Histogram based on last_price without outliers from 2014-11-27 to 2019-05-03')"
      ]
    },
    {
      "cell_type": "markdown",
      "metadata": {
        "id": "oqx2u2c3eKGc"
      },
      "source": [
        "В далнейших исследованиях будем рассматривать **new_last_price**."
      ]
    },
    {
      "cell_type": "markdown",
      "metadata": {
        "id": "C0SAj8PkeKGc"
      },
      "source": [
        "##### Число комнат"
      ]
    },
    {
      "cell_type": "code",
      "execution_count": 268,
      "metadata": {
        "id": "LpbHmCAReKGc",
        "outputId": "fbae3487-6a4c-408b-9267-2ea21b633f50",
        "colab": {
          "base_uri": "https://localhost:8080/",
          "height": 283
        }
      },
      "outputs": [
        {
          "output_type": "execute_result",
          "data": {
            "text/plain": [
              "<matplotlib.axes._subplots.AxesSubplot at 0x7fa932dbe190>"
            ]
          },
          "metadata": {},
          "execution_count": 268
        },
        {
          "output_type": "display_data",
          "data": {
            "text/plain": [
              "<Figure size 432x288 with 1 Axes>"
            ],
            "image/png": "[encoded data removed]"
          },
          "metadata": {
            "needs_background": "light"
          }
        }
      ],
      "source": [
        "data.boxplot('rooms')"
      ]
    },
    {
      "cell_type": "code",
      "execution_count": 269,
      "metadata": {
        "id": "XkEwKYJWeKGc",
        "outputId": "67fa1efc-2427-4a7a-d0e4-f1bfdba24943",
        "colab": {
          "base_uri": "https://localhost:8080/"
        }
      },
      "outputs": [
        {
          "output_type": "execute_result",
          "data": {
            "text/plain": [
              "count    23699.000000\n",
              "mean         2.078948\n",
              "std          1.066196\n",
              "min          1.000000\n",
              "25%          1.000000\n",
              "50%          2.000000\n",
              "75%          3.000000\n",
              "max         19.000000\n",
              "Name: rooms, dtype: float64"
            ]
          },
          "metadata": {},
          "execution_count": 269
        }
      ],
      "source": [
        "data['rooms'].describe()"
      ]
    },
    {
      "cell_type": "markdown",
      "metadata": {
        "id": "7m0e1iPdeKGd"
      },
      "source": [
        "Нижняя граница нормального размаха: **'1'**"
      ]
    },
    {
      "cell_type": "code",
      "execution_count": 270,
      "metadata": {
        "id": "KgHY8k-zeKGd",
        "outputId": "83b00110-c1a0-4bbf-b581-bf5d5d42751c",
        "colab": {
          "base_uri": "https://localhost:8080/"
        }
      },
      "outputs": [
        {
          "output_type": "execute_result",
          "data": {
            "text/plain": [
              "6.0"
            ]
          },
          "metadata": {},
          "execution_count": 270
        }
      ],
      "source": [
        "upper(1,3)"
      ]
    },
    {
      "cell_type": "markdown",
      "metadata": {
        "id": "CJsg9jsleKGd"
      },
      "source": [
        "Верхняя граница нормального размаха: **'6'**.  \n",
        "Все что находится за пределами будем считать выбросами."
      ]
    },
    {
      "cell_type": "code",
      "execution_count": 271,
      "metadata": {
        "id": "gBUlhhtBeKGd"
      },
      "outputs": [],
      "source": [
        "new_rooms=data.query('rooms >= 1 & rooms<=6')"
      ]
    },
    {
      "cell_type": "code",
      "execution_count": 272,
      "metadata": {
        "id": "mP_Dt5cyeKGd",
        "outputId": "a2fc5160-2a4d-45a6-f6d3-62683370d4e2",
        "colab": {
          "base_uri": "https://localhost:8080/",
          "height": 591
        }
      },
      "outputs": [
        {
          "output_type": "display_data",
          "data": {
            "text/plain": [
              "<Figure size 432x288 with 1 Axes>"
            ],
            "image/png": "[encoded data removed]"
          },
          "metadata": {
            "needs_background": "light"
          }
        },
        {
          "output_type": "execute_result",
          "data": {
            "text/plain": [
              "Text(0.5, 1.0, 'Histogram based on rooms without outliers from 2014-11-27 to 2019-05-03')"
            ]
          },
          "metadata": {},
          "execution_count": 272
        },
        {
          "output_type": "display_data",
          "data": {
            "text/plain": [
              "<Figure size 432x288 with 1 Axes>"
            ],
            "image/png": "[encoded data removed]"
          },
          "metadata": {
            "needs_background": "light"
          }
        }
      ],
      "source": [
        "plt.ylabel('frequency')\n",
        "plt.xlabel('rooms(count)')\n",
        "sns.histplot(data=data,x=\"rooms\",bins=100).set_title('Histogram based on rooms from 2014-11-27 to 2019-05-03')\n",
        "plt.show()\n",
        "plt.ylabel('frequency')\n",
        "plt.xlabel('rooms(count)')\n",
        "sns.histplot(data=new_rooms,x=\"rooms\",bins=100).set_title('Histogram based on rooms without outliers from 2014-11-27 to 2019-05-03')"
      ]
    },
    {
      "cell_type": "markdown",
      "metadata": {
        "id": "9LCBKZ1XeKGd"
      },
      "source": [
        "В дальнейших исследованиях будем рассматривать **new_rooms**"
      ]
    },
    {
      "cell_type": "markdown",
      "metadata": {
        "id": "2axW0U5geKGe"
      },
      "source": [
        "##### Высота потолков"
      ]
    },
    {
      "cell_type": "code",
      "execution_count": 273,
      "metadata": {
        "id": "7oTkjeaoeKGe",
        "outputId": "196dad3e-42e4-46e3-c5df-6a3c505548ab",
        "colab": {
          "base_uri": "https://localhost:8080/",
          "height": 284
        }
      },
      "outputs": [
        {
          "output_type": "execute_result",
          "data": {
            "text/plain": [
              "<matplotlib.axes._subplots.AxesSubplot at 0x7fa930c29f90>"
            ]
          },
          "metadata": {},
          "execution_count": 273
        },
        {
          "output_type": "display_data",
          "data": {
            "text/plain": [
              "<Figure size 432x288 with 1 Axes>"
            ],
            "image/png": "[encoded data removed]"
          },
          "metadata": {
            "needs_background": "light"
          }
        }
      ],
      "source": [
        "data.boxplot('ceiling_height')"
      ]
    },
    {
      "cell_type": "code",
      "execution_count": 274,
      "metadata": {
        "id": "NXONvyyQeKGe",
        "outputId": "10ff0ecd-58a2-4d1f-8c09-b9dfc1a52a9a",
        "colab": {
          "base_uri": "https://localhost:8080/"
        }
      },
      "outputs": [
        {
          "output_type": "execute_result",
          "data": {
            "text/plain": [
              "count    23699.000000\n",
              "mean         1.696182\n",
              "std          1.672495\n",
              "min          0.000000\n",
              "25%          0.000000\n",
              "50%          2.500000\n",
              "75%          2.700000\n",
              "max        100.000000\n",
              "Name: ceiling_height, dtype: float64"
            ]
          },
          "metadata": {},
          "execution_count": 274
        }
      ],
      "source": [
        "data['ceiling_height'].describe()"
      ]
    },
    {
      "cell_type": "markdown",
      "metadata": {
        "id": "YrhwI94ueKGe"
      },
      "source": [
        "Нижний ус упирается в значение '1'. Но по строительным нормам высота потолка должна быть не ниже 2.4"
      ]
    },
    {
      "cell_type": "code",
      "execution_count": 275,
      "metadata": {
        "id": "Eie8WunGeKGe",
        "outputId": "ac872b12-4828-436a-fc1b-774b0bf0f151",
        "colab": {
          "base_uri": "https://localhost:8080/"
        }
      },
      "outputs": [
        {
          "output_type": "execute_result",
          "data": {
            "text/plain": [
              "3.2199999999999998"
            ]
          },
          "metadata": {},
          "execution_count": 275
        }
      ],
      "source": [
        "upper(2.52,2.8)"
      ]
    },
    {
      "cell_type": "markdown",
      "metadata": {
        "id": "gJtepFl9eKGe"
      },
      "source": [
        "Верхний ус в значение '3.219'"
      ]
    },
    {
      "cell_type": "code",
      "execution_count": 276,
      "metadata": {
        "id": "DVYuGO9VeKGf"
      },
      "outputs": [],
      "source": [
        "new_ceiling_height=data.query('ceiling_height >= 2.52 & ceiling_height <= 3.219')"
      ]
    },
    {
      "cell_type": "code",
      "execution_count": 277,
      "metadata": {
        "id": "GFSRSzAveKGf",
        "outputId": "174e15f6-3a1a-4b96-a52f-b2c4f40d7941",
        "colab": {
          "base_uri": "https://localhost:8080/",
          "height": 593
        }
      },
      "outputs": [
        {
          "output_type": "display_data",
          "data": {
            "text/plain": [
              "<Figure size 432x288 with 1 Axes>"
            ],
            "image/png": "[encoded data removed]"
          },
          "metadata": {
            "needs_background": "light"
          }
        },
        {
          "output_type": "execute_result",
          "data": {
            "text/plain": [
              "Text(0.5, 1.0, 'Histogram based on ceiling_height without outliers from 2014-11-27 to 2019-05-03')"
            ]
          },
          "metadata": {},
          "execution_count": 277
        },
        {
          "output_type": "display_data",
          "data": {
            "text/plain": [
              "<Figure size 432x288 with 1 Axes>"
            ],
            "image/png": "[encoded data removed]"
          },
          "metadata": {
            "needs_background": "light"
          }
        }
      ],
      "source": [
        "plt.xlim(0,100)\n",
        "plt.ylim(0,100)\n",
        "plt.ylabel('frequency')\n",
        "plt.xlabel('ceiling_height(m)')\n",
        "sns.histplot(data=data,x=\"ceiling_height\",bins=50).set_title('Histogram based on ceiling_height from 2014-11-27 to 2019-05-03')\n",
        "\n",
        "plt.show()\n",
        "\n",
        "plt.ylabel('frequency')\n",
        "plt.xlabel('ceiling_height(m)')\n",
        "plt.xlim(2,5)\n",
        "sns.histplot(data=new_ceiling_height,x=\"ceiling_height\").set_title('Histogram based on ceiling_height without outliers from 2014-11-27 to 2019-05-03')"
      ]
    },
    {
      "cell_type": "markdown",
      "metadata": {
        "id": "l7YGnfi0eKGf"
      },
      "source": [
        "В дальнейших исследованиях будем рассматривать **new_ceiling_height**."
      ]
    },
    {
      "cell_type": "markdown",
      "metadata": {
        "id": "5Wjm86WEeKGf"
      },
      "source": [
        "* 4.2. Изучите время продажи квартиры. Постройте гистограмму. Посчитайте среднее и медиану. Опишите, сколько обычно занимает продажа. Когда можно считать, что продажи прошли очень быстро, а когда необычно долго?"
      ]
    },
    {
      "cell_type": "code",
      "execution_count": 278,
      "metadata": {
        "id": "Kb_FsW5MeKGf",
        "outputId": "7f0e6296-b4ed-42d9-9468-6252119efa70",
        "colab": {
          "base_uri": "https://localhost:8080/"
        }
      },
      "outputs": [
        {
          "output_type": "execute_result",
          "data": {
            "text/plain": [
              "count    23699.000000\n",
              "mean       169.360226\n",
              "std        206.535633\n",
              "min          1.000000\n",
              "25%         45.000000\n",
              "50%         95.000000\n",
              "75%        199.000000\n",
              "max       1580.000000\n",
              "Name: days_exposition, dtype: float64"
            ]
          },
          "metadata": {},
          "execution_count": 278
        }
      ],
      "source": [
        "data['days_exposition'].describe()"
      ]
    },
    {
      "cell_type": "code",
      "execution_count": 279,
      "metadata": {
        "id": "hudEEAVveKGf",
        "outputId": "9b79632d-bf64-4b86-b25b-36ae884b0fd2",
        "colab": {
          "base_uri": "https://localhost:8080/"
        }
      },
      "outputs": [
        {
          "output_type": "stream",
          "name": "stdout",
          "text": [
            "95.0\n"
          ]
        }
      ],
      "source": [
        "days_exposition_median=data['days_exposition'].median()\n",
        "print(days_exposition_median)"
      ]
    },
    {
      "cell_type": "code",
      "execution_count": 280,
      "metadata": {
        "id": "fqFUut3PeKGn",
        "outputId": "5f104eaa-4de9-424c-b50a-316ced752e7e",
        "colab": {
          "base_uri": "https://localhost:8080/"
        }
      },
      "outputs": [
        {
          "output_type": "execute_result",
          "data": {
            "text/plain": [
              "430.0"
            ]
          },
          "metadata": {},
          "execution_count": 280
        }
      ],
      "source": [
        "upper(45,199)"
      ]
    },
    {
      "cell_type": "code",
      "execution_count": 281,
      "metadata": {
        "id": "L0biTpwbeKGo",
        "outputId": "b831ceef-44b3-460a-9bc2-12cc31584aa3",
        "colab": {
          "base_uri": "https://localhost:8080/",
          "height": 288
        }
      },
      "outputs": [
        {
          "output_type": "execute_result",
          "data": {
            "text/plain": [
              "<matplotlib.axes._subplots.AxesSubplot at 0x7fa93319f150>"
            ]
          },
          "metadata": {},
          "execution_count": 281
        },
        {
          "output_type": "display_data",
          "data": {
            "text/plain": [
              "<Figure size 432x288 with 1 Axes>"
            ],
            "image/png": "[encoded data removed]"
          },
          "metadata": {
            "needs_background": "light"
          }
        }
      ],
      "source": [
        "plt.ylim(0,200)\n",
        "data.boxplot('days_exposition')"
      ]
    },
    {
      "cell_type": "markdown",
      "metadata": {
        "id": "Jp5vFoaYeKGo"
      },
      "source": [
        "Промежуточный вывод:\n",
        "* нижний ус упирается в значение 1, то. есть 1 день;\n",
        "* верхний ус упирается в значение 430, то есть чуть больше года;\n",
        "* продажи идут необычно долго, начиная от 200 дней."
      ]
    },
    {
      "cell_type": "code",
      "execution_count": 282,
      "metadata": {
        "id": "qDrcp4MQeKGo"
      },
      "outputs": [],
      "source": [
        "new_days_exposition=data.query('days_exposition >= 1.0 & days_exposition <= 430.0')"
      ]
    },
    {
      "cell_type": "code",
      "execution_count": 283,
      "metadata": {
        "id": "FMSrk3zeeKGo",
        "outputId": "53dfe36a-4a19-4191-a2da-09e2f99510fd",
        "colab": {
          "base_uri": "https://localhost:8080/",
          "height": 593
        }
      },
      "outputs": [
        {
          "output_type": "display_data",
          "data": {
            "text/plain": [
              "<Figure size 432x288 with 1 Axes>"
            ],
            "image/png": "[encoded data removed]"
          },
          "metadata": {
            "needs_background": "light"
          }
        },
        {
          "output_type": "execute_result",
          "data": {
            "text/plain": [
              "Text(0.5, 1.0, 'Histogram based on days_exposition without outliers from 2014-11-27 to 2019-05-03')"
            ]
          },
          "metadata": {},
          "execution_count": 283
        },
        {
          "output_type": "display_data",
          "data": {
            "text/plain": [
              "<Figure size 432x288 with 1 Axes>"
            ],
            "image/png": "[encoded data removed]"
          },
          "metadata": {
            "needs_background": "light"
          }
        }
      ],
      "source": [
        "plt.ylabel('frequency')\n",
        "plt.xlabel('days_exposition(days)')\n",
        "sns.histplot(data=data,x=\"days_exposition\").set_title('Histogram based on days_exposition from 2014-11-27 to 2019-05-03')\n",
        "\n",
        "plt.show()\n",
        "\n",
        "plt.ylabel('frequency')\n",
        "plt.xlabel('days_exposition(days)')\n",
        "sns.histplot(data=new_days_exposition,x=\"days_exposition\").set_title('Histogram based on days_exposition without outliers from 2014-11-27 to 2019-05-03')"
      ]
    },
    {
      "cell_type": "markdown",
      "metadata": {
        "id": "3YcSxm5YeKGo"
      },
      "source": [
        "##### 4.2. Изучение факторов влияния на стоимость квартиры. <a name=\"factors_price\"></a>"
      ]
    },
    {
      "cell_type": "markdown",
      "metadata": {
        "id": "cpLrD4p4eKGp"
      },
      "source": [
        "##### Зависимость цены недвижимости от цены квадратного метра"
      ]
    },
    {
      "cell_type": "code",
      "execution_count": 284,
      "metadata": {
        "id": "EiDgExEdeKGp",
        "outputId": "af98bf46-dbe2-4441-d46e-a6a4ed64e69f",
        "colab": {
          "base_uri": "https://localhost:8080/",
          "height": 296
        }
      },
      "outputs": [
        {
          "output_type": "display_data",
          "data": {
            "text/plain": [
              "<Figure size 432x288 with 1 Axes>"
            ],
            "image/png": "[encoded data removed]"
          },
          "metadata": {
            "needs_background": "light"
          }
        }
      ],
      "source": [
        "plt.ylabel('last_price(rubles)')\n",
        "plt.xlabel('price_per_square_meter(m²)')\n",
        "sns.scatterplot(data=new_last_price,x=\"price_per_square_meter\",y=\"last_price\",alpha=0.03).set_title('Dependence of real estate prices on the price per square meter')\n",
        "plt.show()\n"
      ]
    },
    {
      "cell_type": "code",
      "execution_count": 285,
      "metadata": {
        "id": "D1vyn9QZeKGp",
        "outputId": "ce1b795a-8b29-4a57-9ab8-82449e41f4b8",
        "colab": {
          "base_uri": "https://localhost:8080/"
        }
      },
      "outputs": [
        {
          "output_type": "execute_result",
          "data": {
            "text/plain": [
              "0.6087903767373609"
            ]
          },
          "metadata": {},
          "execution_count": 285
        }
      ],
      "source": [
        "new_last_price['price_per_square_meter'].corr(new_last_price['last_price'])"
      ]
    },
    {
      "cell_type": "markdown",
      "metadata": {
        "id": "8bHMLzZLeKGp"
      },
      "source": [
        "**Вывод:**  \n",
        "По графику и коэффициенту Пирсона, могу утверждать, что зависимость цены от цены квадратного метра есть, так как коэффициент равен 0.6, можно сказать,что зависимость не слабая."
      ]
    },
    {
      "cell_type": "markdown",
      "metadata": {
        "id": "npo97mfweKGp"
      },
      "source": [
        "##### Зависимость стоимости недвижимости от числа комнат"
      ]
    },
    {
      "cell_type": "code",
      "execution_count": 286,
      "metadata": {
        "id": "6DHdqJwjeKGp",
        "outputId": "8874c452-1688-481d-9118-c25e1719c896",
        "colab": {
          "base_uri": "https://localhost:8080/",
          "height": 295
        }
      },
      "outputs": [
        {
          "output_type": "display_data",
          "data": {
            "text/plain": [
              "<Figure size 432x288 with 1 Axes>"
            ],
            "image/png": "[encoded data removed]"
          },
          "metadata": {
            "needs_background": "light"
          }
        }
      ],
      "source": [
        "dependence_rooms_price=data.query('rooms >= 1 & rooms <= 6 & last_price <= 11900000')\n",
        "plt.ylabel('last_price(rubles)')\n",
        "plt.xlabel('rooms(count)')\n",
        "sns.scatterplot(data=dependence_rooms_price,x=\"rooms\",y=\"last_price\",alpha=0.03).set_title('Dependence of property value on the number of rooms')\n",
        "plt.show()"
      ]
    },
    {
      "cell_type": "code",
      "execution_count": 287,
      "metadata": {
        "id": "pi7yxXFZeKGq",
        "outputId": "8b0279ca-3d29-4981-9ad9-66a1227bd7b8",
        "colab": {
          "base_uri": "https://localhost:8080/"
        }
      },
      "outputs": [
        {
          "output_type": "execute_result",
          "data": {
            "text/plain": [
              "0.4514129733468776"
            ]
          },
          "metadata": {},
          "execution_count": 287
        }
      ],
      "source": [
        "dependence_rooms_price['rooms'].corr(dependence_rooms_price['last_price'])"
      ]
    },
    {
      "cell_type": "markdown",
      "metadata": {
        "id": "tUVBauVSeKGq"
      },
      "source": [
        "**Вывод:**  \n",
        "По графику и коэффициенту Пирсона, могу утверждать, что зависимость цены недвижимости от числа комнат, так как коэффициент равен 0.45, можно сказать,что зависимость слабая."
      ]
    },
    {
      "cell_type": "markdown",
      "metadata": {
        "id": "heU4JacXeKGq"
      },
      "source": [
        "##### Зависимость стоимости недвижимости от этажа"
      ]
    },
    {
      "cell_type": "code",
      "execution_count": 288,
      "metadata": {
        "id": "SmT3yFCseKGq",
        "outputId": "8e179ed0-aad4-43f8-ebc9-270ea2c88513",
        "colab": {
          "base_uri": "https://localhost:8080/",
          "height": 175
        }
      },
      "outputs": [
        {
          "output_type": "execute_result",
          "data": {
            "text/plain": [
              "                  last_price\n",
              "floor_category              \n",
              "другой          5.044224e+06\n",
              "первый          4.126973e+06\n",
              "последний       4.489907e+06"
            ],
            "text/html": [
              "\n",
              "  <div id=\"df-57049990-8d59-4eb7-b14a-d729238cf436\">\n",
              "    <div class=\"colab-df-container\">\n",
              "      <div>\n",
              "<style scoped>\n",
              "    .dataframe tbody tr th:only-of-type {\n",
              "        vertical-align: middle;\n",
              "    }\n",
              "\n",
              "    .dataframe tbody tr th {\n",
              "        vertical-align: top;\n",
              "    }\n",
              "\n",
              "    .dataframe thead th {\n",
              "        text-align: right;\n",
              "    }\n",
              "</style>\n",
              "<table border=\"1\" class=\"dataframe\">\n",
              "  <thead>\n",
              "    <tr style=\"text-align: right;\">\n",
              "      <th></th>\n",
              "      <th>last_price</th>\n",
              "    </tr>\n",
              "    <tr>\n",
              "      <th>floor_category</th>\n",
              "      <th></th>\n",
              "    </tr>\n",
              "  </thead>\n",
              "  <tbody>\n",
              "    <tr>\n",
              "      <th>другой</th>\n",
              "      <td>5.044224e+06</td>\n",
              "    </tr>\n",
              "    <tr>\n",
              "      <th>первый</th>\n",
              "      <td>4.126973e+06</td>\n",
              "    </tr>\n",
              "    <tr>\n",
              "      <th>последний</th>\n",
              "      <td>4.489907e+06</td>\n",
              "    </tr>\n",
              "  </tbody>\n",
              "</table>\n",
              "</div>\n",
              "      <button class=\"colab-df-convert\" onclick=\"convertToInteractive('df-57049990-8d59-4eb7-b14a-d729238cf436')\"\n",
              "              title=\"Convert this dataframe to an interactive table.\"\n",
              "              style=\"display:none;\">\n",
              "        \n",
              "  <svg xmlns=\"http://www.w3.org/2000/svg\" height=\"24px\"viewBox=\"0 0 24 24\"\n",
              "       width=\"24px\">\n",
              "    <path d=\"M0 0h24v24H0V0z\" fill=\"none\"/>\n",
              "    <path d=\"M18.56 5.44l.94 2.06.94-2.06 2.06-.94-2.06-.94-.94-2.06-.94 2.06-2.06.94zm-11 1L8.5 8.5l.94-2.06 2.06-.94-2.06-.94L8.5 2.5l-.94 2.06-2.06.94zm10 10l.94 2.06.94-2.06 2.06-.94-2.06-.94-.94-2.06-.94 2.06-2.06.94z\"/><path d=\"M17.41 7.96l-1.37-1.37c-.4-.4-.92-.59-1.43-.59-.52 0-1.04.2-1.43.59L10.3 9.45l-7.72 7.72c-.78.78-.78 2.05 0 2.83L4 21.41c.39.39.9.59 1.41.59.51 0 1.02-.2 1.41-.59l7.78-7.78 2.81-2.81c.8-.78.8-2.07 0-2.86zM5.41 20L4 18.59l7.72-7.72 1.47 1.35L5.41 20z\"/>\n",
              "  </svg>\n",
              "      </button>\n",
              "      \n",
              "  <style>\n",
              "    .colab-df-container {\n",
              "      display:flex;\n",
              "      flex-wrap:wrap;\n",
              "      gap: 12px;\n",
              "    }\n",
              "\n",
              "    .colab-df-convert {\n",
              "      background-color: #E8F0FE;\n",
              "      border: none;\n",
              "      border-radius: 50%;\n",
              "      cursor: pointer;\n",
              "      display: none;\n",
              "      fill: #1967D2;\n",
              "      height: 32px;\n",
              "      padding: 0 0 0 0;\n",
              "      width: 32px;\n",
              "    }\n",
              "\n",
              "    .colab-df-convert:hover {\n",
              "      background-color: #E2EBFA;\n",
              "      box-shadow: 0px 1px 2px rgba(60, 64, 67, 0.3), 0px 1px 3px 1px rgba(60, 64, 67, 0.15);\n",
              "      fill: #174EA6;\n",
              "    }\n",
              "\n",
              "    [theme=dark] .colab-df-convert {\n",
              "      background-color: #3B4455;\n",
              "      fill: #D2E3FC;\n",
              "    }\n",
              "\n",
              "    [theme=dark] .colab-df-convert:hover {\n",
              "      background-color: #434B5C;\n",
              "      box-shadow: 0px 1px 3px 1px rgba(0, 0, 0, 0.15);\n",
              "      filter: drop-shadow(0px 1px 2px rgba(0, 0, 0, 0.3));\n",
              "      fill: #FFFFFF;\n",
              "    }\n",
              "  </style>\n",
              "\n",
              "      <script>\n",
              "        const buttonEl =\n",
              "          document.querySelector('#df-57049990-8d59-4eb7-b14a-d729238cf436 button.colab-df-convert');\n",
              "        buttonEl.style.display =\n",
              "          google.colab.kernel.accessAllowed ? 'block' : 'none';\n",
              "\n",
              "        async function convertToInteractive(key) {\n",
              "          const element = document.querySelector('#df-57049990-8d59-4eb7-b14a-d729238cf436');\n",
              "          const dataTable =\n",
              "            await google.colab.kernel.invokeFunction('convertToInteractive',\n",
              "                                                     [key], {});\n",
              "          if (!dataTable) return;\n",
              "\n",
              "          const docLinkHtml = 'Like what you see? Visit the ' +\n",
              "            '<a target=\"_blank\" href=https://colab.research.google.com/notebooks/data_table.ipynb>data table notebook</a>'\n",
              "            + ' to learn more about interactive tables.';\n",
              "          element.innerHTML = '';\n",
              "          dataTable['output_type'] = 'display_data';\n",
              "          await google.colab.output.renderOutput(dataTable, element);\n",
              "          const docLink = document.createElement('div');\n",
              "          docLink.innerHTML = docLinkHtml;\n",
              "          element.appendChild(docLink);\n",
              "        }\n",
              "      </script>\n",
              "    </div>\n",
              "  </div>\n",
              "  "
            ]
          },
          "metadata": {},
          "execution_count": 288
        }
      ],
      "source": [
        "\n",
        "data[['floor_category', 'last_price']].query('last_price <= 11900000').pivot_table(index='floor_category', values='last_price') "
      ]
    },
    {
      "cell_type": "markdown",
      "metadata": {
        "id": "KP7L0o_deKGq"
      },
      "source": [
        "**Вывод:**  \n",
        "Дешевле всего купить недвижимость на первом этаже, дороже всего на любом, кроме первого и последнего."
      ]
    },
    {
      "cell_type": "markdown",
      "metadata": {
        "id": "WK9Ffvs8eKGq"
      },
      "source": [
        "##### Зависимость стоимости недвижимости от расстояние до центра города (м)"
      ]
    },
    {
      "cell_type": "code",
      "execution_count": 289,
      "metadata": {
        "id": "0f5GQks-eKGq",
        "outputId": "1b243dbb-908c-4032-b311-584f406803c0",
        "colab": {
          "base_uri": "https://localhost:8080/",
          "height": 296
        }
      },
      "outputs": [
        {
          "output_type": "display_data",
          "data": {
            "text/plain": [
              "<Figure size 432x288 with 1 Axes>"
            ],
            "image/png": "[encoded data removed]"
          },
          "metadata": {
            "needs_background": "light"
          }
        }
      ],
      "source": [
        "plt.ylabel('last_price(rubles)')\n",
        "plt.xlabel('cityCenters_nearest(m)')\n",
        "sns.scatterplot(data=new_last_price,x=\"cityCenters_nearest\",y=\"last_price\",alpha=0.03).set_title('Dependence of the value of real estate on the distance to the city center (m)')\n",
        "plt.show()"
      ]
    },
    {
      "cell_type": "code",
      "execution_count": 290,
      "metadata": {
        "id": "fBp-2f_QeKGr",
        "outputId": "f79b94e8-9f13-4c3d-b264-08c059a737b4",
        "colab": {
          "base_uri": "https://localhost:8080/"
        }
      },
      "outputs": [
        {
          "output_type": "execute_result",
          "data": {
            "text/plain": [
              "-0.3604276198861437"
            ]
          },
          "metadata": {},
          "execution_count": 290
        }
      ],
      "source": [
        "new_last_price['cityCenters_nearest'].corr(new_last_price['last_price'])"
      ]
    },
    {
      "cell_type": "markdown",
      "metadata": {
        "id": "2NfEYwSyeKGr"
      },
      "source": [
        "**Вывод:**  \n",
        "Есть слабая зависимость между стоимостью недвижимости и расстояния до центра.  \n",
        "Чем ближе к центру, тем дороже.  "
      ]
    },
    {
      "cell_type": "markdown",
      "metadata": {
        "id": "gLj1IZLFeKGr"
      },
      "source": [
        "##### Зависимость стоимости недвижимости от даты публикации объявления"
      ]
    },
    {
      "cell_type": "code",
      "execution_count": 291,
      "metadata": {
        "id": "W00b6MEkeKGr"
      },
      "outputs": [],
      "source": [
        "depedence_price_date=data.query('last_price <= 11900000 & days_exposition >= 1.0 & days_exposition <= 430.0')"
      ]
    },
    {
      "cell_type": "code",
      "execution_count": 292,
      "metadata": {
        "id": "JxnpE5nMeKGr",
        "outputId": "87f5282f-1a9a-4c7a-bf76-6b0d092c1a0b",
        "colab": {
          "base_uri": "https://localhost:8080/",
          "height": 296
        }
      },
      "outputs": [
        {
          "output_type": "display_data",
          "data": {
            "text/plain": [
              "<Figure size 432x288 with 1 Axes>"
            ],
            "image/png": "[encoded data removed]"
          },
          "metadata": {
            "needs_background": "light"
          }
        }
      ],
      "source": [
        "plt.ylabel('last_price(rubles)')\n",
        "plt.xlabel('day_of_week(days)')\n",
        "sns.scatterplot(data=depedence_price_date,x=\"day_of_week\",y=\"last_price\",alpha=0.03).set_title('The dependence of the value of real estate on the date of publication of the announcement')\n",
        "plt.show()"
      ]
    },
    {
      "cell_type": "code",
      "execution_count": 293,
      "metadata": {
        "id": "Io3CTZpQeKGr",
        "outputId": "1faef87f-a1ee-485a-85ce-0ba1784cd51c",
        "colab": {
          "base_uri": "https://localhost:8080/",
          "height": 295
        }
      },
      "outputs": [
        {
          "output_type": "display_data",
          "data": {
            "text/plain": [
              "<Figure size 432x288 with 1 Axes>"
            ],
            "image/png": "[encoded data removed]"
          },
          "metadata": {
            "needs_background": "light"
          }
        }
      ],
      "source": [
        "plt.ylabel('last_price(rubles)')\n",
        "plt.xlabel('month(month)')\n",
        "sns.scatterplot(data=depedence_price_date,x=\"month\",y=\"last_price\",alpha=0.03).set_title('The dependence of the value of real estate on the date of publication of the announcement')\n",
        "plt.show()"
      ]
    },
    {
      "cell_type": "code",
      "execution_count": 294,
      "metadata": {
        "id": "dExbtTvEeKGs",
        "outputId": "3425709d-537a-4be8-efe9-1992a52d1119",
        "colab": {
          "base_uri": "https://localhost:8080/",
          "height": 295
        }
      },
      "outputs": [
        {
          "output_type": "display_data",
          "data": {
            "text/plain": [
              "<Figure size 432x288 with 1 Axes>"
            ],
            "image/png": "[encoded data removed]"
          },
          "metadata": {
            "needs_background": "light"
          }
        }
      ],
      "source": [
        "plt.ylabel('last_price(rubles)')\n",
        "plt.xlabel('year(year)')\n",
        "sns.scatterplot(data=depedence_price_date,x=\"year\",y=\"last_price\",alpha=0.03).set_title('The dependence of the value of real estate on the date of publication of the announcement')\n",
        "plt.show()"
      ]
    },
    {
      "cell_type": "code",
      "execution_count": 295,
      "metadata": {
        "id": "vTDXrkHdeKGs",
        "outputId": "7424a535-3141-458f-cfd2-7552a590bc5d",
        "colab": {
          "base_uri": "https://localhost:8080/",
          "height": 175
        }
      },
      "outputs": [
        {
          "output_type": "execute_result",
          "data": {
            "text/plain": [
              "                 day     month      year  last_price\n",
              "day         1.000000  0.012164 -0.013877   -0.013534\n",
              "month       0.012164  1.000000 -0.307363    0.003440\n",
              "year       -0.013877 -0.307363  1.000000    0.029320\n",
              "last_price -0.013534  0.003440  0.029320    1.000000"
            ],
            "text/html": [
              "\n",
              "  <div id=\"df-a2ee51fe-03cb-45af-8add-d097e9ff8d30\">\n",
              "    <div class=\"colab-df-container\">\n",
              "      <div>\n",
              "<style scoped>\n",
              "    .dataframe tbody tr th:only-of-type {\n",
              "        vertical-align: middle;\n",
              "    }\n",
              "\n",
              "    .dataframe tbody tr th {\n",
              "        vertical-align: top;\n",
              "    }\n",
              "\n",
              "    .dataframe thead th {\n",
              "        text-align: right;\n",
              "    }\n",
              "</style>\n",
              "<table border=\"1\" class=\"dataframe\">\n",
              "  <thead>\n",
              "    <tr style=\"text-align: right;\">\n",
              "      <th></th>\n",
              "      <th>day</th>\n",
              "      <th>month</th>\n",
              "      <th>year</th>\n",
              "      <th>last_price</th>\n",
              "    </tr>\n",
              "  </thead>\n",
              "  <tbody>\n",
              "    <tr>\n",
              "      <th>day</th>\n",
              "      <td>1.000000</td>\n",
              "      <td>0.012164</td>\n",
              "      <td>-0.013877</td>\n",
              "      <td>-0.013534</td>\n",
              "    </tr>\n",
              "    <tr>\n",
              "      <th>month</th>\n",
              "      <td>0.012164</td>\n",
              "      <td>1.000000</td>\n",
              "      <td>-0.307363</td>\n",
              "      <td>0.003440</td>\n",
              "    </tr>\n",
              "    <tr>\n",
              "      <th>year</th>\n",
              "      <td>-0.013877</td>\n",
              "      <td>-0.307363</td>\n",
              "      <td>1.000000</td>\n",
              "      <td>0.029320</td>\n",
              "    </tr>\n",
              "    <tr>\n",
              "      <th>last_price</th>\n",
              "      <td>-0.013534</td>\n",
              "      <td>0.003440</td>\n",
              "      <td>0.029320</td>\n",
              "      <td>1.000000</td>\n",
              "    </tr>\n",
              "  </tbody>\n",
              "</table>\n",
              "</div>\n",
              "      <button class=\"colab-df-convert\" onclick=\"convertToInteractive('df-a2ee51fe-03cb-45af-8add-d097e9ff8d30')\"\n",
              "              title=\"Convert this dataframe to an interactive table.\"\n",
              "              style=\"display:none;\">\n",
              "        \n",
              "  <svg xmlns=\"http://www.w3.org/2000/svg\" height=\"24px\"viewBox=\"0 0 24 24\"\n",
              "       width=\"24px\">\n",
              "    <path d=\"M0 0h24v24H0V0z\" fill=\"none\"/>\n",
              "    <path d=\"M18.56 5.44l.94 2.06.94-2.06 2.06-.94-2.06-.94-.94-2.06-.94 2.06-2.06.94zm-11 1L8.5 8.5l.94-2.06 2.06-.94-2.06-.94L8.5 2.5l-.94 2.06-2.06.94zm10 10l.94 2.06.94-2.06 2.06-.94-2.06-.94-.94-2.06-.94 2.06-2.06.94z\"/><path d=\"M17.41 7.96l-1.37-1.37c-.4-.4-.92-.59-1.43-.59-.52 0-1.04.2-1.43.59L10.3 9.45l-7.72 7.72c-.78.78-.78 2.05 0 2.83L4 21.41c.39.39.9.59 1.41.59.51 0 1.02-.2 1.41-.59l7.78-7.78 2.81-2.81c.8-.78.8-2.07 0-2.86zM5.41 20L4 18.59l7.72-7.72 1.47 1.35L5.41 20z\"/>\n",
              "  </svg>\n",
              "      </button>\n",
              "      \n",
              "  <style>\n",
              "    .colab-df-container {\n",
              "      display:flex;\n",
              "      flex-wrap:wrap;\n",
              "      gap: 12px;\n",
              "    }\n",
              "\n",
              "    .colab-df-convert {\n",
              "      background-color: #E8F0FE;\n",
              "      border: none;\n",
              "      border-radius: 50%;\n",
              "      cursor: pointer;\n",
              "      display: none;\n",
              "      fill: #1967D2;\n",
              "      height: 32px;\n",
              "      padding: 0 0 0 0;\n",
              "      width: 32px;\n",
              "    }\n",
              "\n",
              "    .colab-df-convert:hover {\n",
              "      background-color: #E2EBFA;\n",
              "      box-shadow: 0px 1px 2px rgba(60, 64, 67, 0.3), 0px 1px 3px 1px rgba(60, 64, 67, 0.15);\n",
              "      fill: #174EA6;\n",
              "    }\n",
              "\n",
              "    [theme=dark] .colab-df-convert {\n",
              "      background-color: #3B4455;\n",
              "      fill: #D2E3FC;\n",
              "    }\n",
              "\n",
              "    [theme=dark] .colab-df-convert:hover {\n",
              "      background-color: #434B5C;\n",
              "      box-shadow: 0px 1px 3px 1px rgba(0, 0, 0, 0.15);\n",
              "      filter: drop-shadow(0px 1px 2px rgba(0, 0, 0, 0.3));\n",
              "      fill: #FFFFFF;\n",
              "    }\n",
              "  </style>\n",
              "\n",
              "      <script>\n",
              "        const buttonEl =\n",
              "          document.querySelector('#df-a2ee51fe-03cb-45af-8add-d097e9ff8d30 button.colab-df-convert');\n",
              "        buttonEl.style.display =\n",
              "          google.colab.kernel.accessAllowed ? 'block' : 'none';\n",
              "\n",
              "        async function convertToInteractive(key) {\n",
              "          const element = document.querySelector('#df-a2ee51fe-03cb-45af-8add-d097e9ff8d30');\n",
              "          const dataTable =\n",
              "            await google.colab.kernel.invokeFunction('convertToInteractive',\n",
              "                                                     [key], {});\n",
              "          if (!dataTable) return;\n",
              "\n",
              "          const docLinkHtml = 'Like what you see? Visit the ' +\n",
              "            '<a target=\"_blank\" href=https://colab.research.google.com/notebooks/data_table.ipynb>data table notebook</a>'\n",
              "            + ' to learn more about interactive tables.';\n",
              "          element.innerHTML = '';\n",
              "          dataTable['output_type'] = 'display_data';\n",
              "          await google.colab.output.renderOutput(dataTable, element);\n",
              "          const docLink = document.createElement('div');\n",
              "          docLink.innerHTML = docLinkHtml;\n",
              "          element.appendChild(docLink);\n",
              "        }\n",
              "      </script>\n",
              "    </div>\n",
              "  </div>\n",
              "  "
            ]
          },
          "metadata": {},
          "execution_count": 295
        }
      ],
      "source": [
        "depedence_price_date[['day', 'month', 'year', 'last_price']].corr()"
      ]
    },
    {
      "cell_type": "markdown",
      "metadata": {
        "id": "RnV3OFBGeKGs"
      },
      "source": [
        "**Вывод:**  \n",
        "Cлабая зависимость между стоимостью недвижимости и днем, месяцем, годом. Коэффициент Пирсона практически равен 0.  \n",
        "Максимальная зависимость между стоимостью недвижимости и годом."
      ]
    },
    {
      "cell_type": "markdown",
      "metadata": {
        "id": "I7wOu8BCeKGt"
      },
      "source": [
        "##### Выберите 10 населённых пунктов с наибольшим числом объявлений."
      ]
    },
    {
      "cell_type": "code",
      "execution_count": 296,
      "metadata": {
        "id": "q12apiHieKGt"
      },
      "outputs": [],
      "source": [
        "top=data['locality_name'].value_counts().head(10)"
      ]
    },
    {
      "cell_type": "code",
      "execution_count": 297,
      "metadata": {
        "id": "IynDODgEeKGt",
        "outputId": "4fac4318-3a04-4cd6-e2fa-4359f73b1dbd",
        "colab": {
          "base_uri": "https://localhost:8080/"
        }
      },
      "outputs": [
        {
          "output_type": "stream",
          "name": "stdout",
          "text": [
            "Санкт-Петербург      15721\n",
            "поселок Мурино         556\n",
            "поселок Шушары         440\n",
            "Всеволожск             398\n",
            "Пушкин                 369\n",
            "Колпино                338\n",
            "поселок Парголово      327\n",
            "Гатчина                307\n",
            "деревня Кудрово        299\n",
            "Выборг                 237\n",
            "Name: locality_name, dtype: int64\n"
          ]
        }
      ],
      "source": [
        "print(top)"
      ]
    },
    {
      "cell_type": "code",
      "execution_count": 298,
      "metadata": {
        "id": "-LzibXdHeKGt"
      },
      "outputs": [],
      "source": [
        "top = list(top.index)"
      ]
    },
    {
      "cell_type": "code",
      "execution_count": 299,
      "metadata": {
        "id": "j-1kJeRneKGt",
        "outputId": "ee1c9841-ded0-4ecc-e264-309f094b7481",
        "colab": {
          "base_uri": "https://localhost:8080/",
          "height": 394
        }
      },
      "outputs": [
        {
          "output_type": "execute_result",
          "data": {
            "text/plain": [
              "                   locality_name  price_per_square_meter\n",
              "locality_name                                           \n",
              "Санкт-Петербург            13763           105474.924791\n",
              "Пушкин                       339           100322.823868\n",
              "деревня Кудрово              298            92409.726322\n",
              "поселок Парголово            327            90175.913458\n",
              "поселок Мурино               556            85681.762601\n",
              "поселок Шушары               440            78677.364217\n",
              "Колпино                      336            75185.478229\n",
              "Гатчина                      305            68421.902770\n",
              "Всеволожск                   397            67214.252635\n",
              "Выборг                       236            57932.878606"
            ],
            "text/html": [
              "\n",
              "  <div id=\"df-e49089e6-e10d-4e77-abcb-13114ee2809e\">\n",
              "    <div class=\"colab-df-container\">\n",
              "      <div>\n",
              "<style scoped>\n",
              "    .dataframe tbody tr th:only-of-type {\n",
              "        vertical-align: middle;\n",
              "    }\n",
              "\n",
              "    .dataframe tbody tr th {\n",
              "        vertical-align: top;\n",
              "    }\n",
              "\n",
              "    .dataframe thead th {\n",
              "        text-align: right;\n",
              "    }\n",
              "</style>\n",
              "<table border=\"1\" class=\"dataframe\">\n",
              "  <thead>\n",
              "    <tr style=\"text-align: right;\">\n",
              "      <th></th>\n",
              "      <th>locality_name</th>\n",
              "      <th>price_per_square_meter</th>\n",
              "    </tr>\n",
              "    <tr>\n",
              "      <th>locality_name</th>\n",
              "      <th></th>\n",
              "      <th></th>\n",
              "    </tr>\n",
              "  </thead>\n",
              "  <tbody>\n",
              "    <tr>\n",
              "      <th>Санкт-Петербург</th>\n",
              "      <td>13763</td>\n",
              "      <td>105474.924791</td>\n",
              "    </tr>\n",
              "    <tr>\n",
              "      <th>Пушкин</th>\n",
              "      <td>339</td>\n",
              "      <td>100322.823868</td>\n",
              "    </tr>\n",
              "    <tr>\n",
              "      <th>деревня Кудрово</th>\n",
              "      <td>298</td>\n",
              "      <td>92409.726322</td>\n",
              "    </tr>\n",
              "    <tr>\n",
              "      <th>поселок Парголово</th>\n",
              "      <td>327</td>\n",
              "      <td>90175.913458</td>\n",
              "    </tr>\n",
              "    <tr>\n",
              "      <th>поселок Мурино</th>\n",
              "      <td>556</td>\n",
              "      <td>85681.762601</td>\n",
              "    </tr>\n",
              "    <tr>\n",
              "      <th>поселок Шушары</th>\n",
              "      <td>440</td>\n",
              "      <td>78677.364217</td>\n",
              "    </tr>\n",
              "    <tr>\n",
              "      <th>Колпино</th>\n",
              "      <td>336</td>\n",
              "      <td>75185.478229</td>\n",
              "    </tr>\n",
              "    <tr>\n",
              "      <th>Гатчина</th>\n",
              "      <td>305</td>\n",
              "      <td>68421.902770</td>\n",
              "    </tr>\n",
              "    <tr>\n",
              "      <th>Всеволожск</th>\n",
              "      <td>397</td>\n",
              "      <td>67214.252635</td>\n",
              "    </tr>\n",
              "    <tr>\n",
              "      <th>Выборг</th>\n",
              "      <td>236</td>\n",
              "      <td>57932.878606</td>\n",
              "    </tr>\n",
              "  </tbody>\n",
              "</table>\n",
              "</div>\n",
              "      <button class=\"colab-df-convert\" onclick=\"convertToInteractive('df-e49089e6-e10d-4e77-abcb-13114ee2809e')\"\n",
              "              title=\"Convert this dataframe to an interactive table.\"\n",
              "              style=\"display:none;\">\n",
              "        \n",
              "  <svg xmlns=\"http://www.w3.org/2000/svg\" height=\"24px\"viewBox=\"0 0 24 24\"\n",
              "       width=\"24px\">\n",
              "    <path d=\"M0 0h24v24H0V0z\" fill=\"none\"/>\n",
              "    <path d=\"M18.56 5.44l.94 2.06.94-2.06 2.06-.94-2.06-.94-.94-2.06-.94 2.06-2.06.94zm-11 1L8.5 8.5l.94-2.06 2.06-.94-2.06-.94L8.5 2.5l-.94 2.06-2.06.94zm10 10l.94 2.06.94-2.06 2.06-.94-2.06-.94-.94-2.06-.94 2.06-2.06.94z\"/><path d=\"M17.41 7.96l-1.37-1.37c-.4-.4-.92-.59-1.43-.59-.52 0-1.04.2-1.43.59L10.3 9.45l-7.72 7.72c-.78.78-.78 2.05 0 2.83L4 21.41c.39.39.9.59 1.41.59.51 0 1.02-.2 1.41-.59l7.78-7.78 2.81-2.81c.8-.78.8-2.07 0-2.86zM5.41 20L4 18.59l7.72-7.72 1.47 1.35L5.41 20z\"/>\n",
              "  </svg>\n",
              "      </button>\n",
              "      \n",
              "  <style>\n",
              "    .colab-df-container {\n",
              "      display:flex;\n",
              "      flex-wrap:wrap;\n",
              "      gap: 12px;\n",
              "    }\n",
              "\n",
              "    .colab-df-convert {\n",
              "      background-color: #E8F0FE;\n",
              "      border: none;\n",
              "      border-radius: 50%;\n",
              "      cursor: pointer;\n",
              "      display: none;\n",
              "      fill: #1967D2;\n",
              "      height: 32px;\n",
              "      padding: 0 0 0 0;\n",
              "      width: 32px;\n",
              "    }\n",
              "\n",
              "    .colab-df-convert:hover {\n",
              "      background-color: #E2EBFA;\n",
              "      box-shadow: 0px 1px 2px rgba(60, 64, 67, 0.3), 0px 1px 3px 1px rgba(60, 64, 67, 0.15);\n",
              "      fill: #174EA6;\n",
              "    }\n",
              "\n",
              "    [theme=dark] .colab-df-convert {\n",
              "      background-color: #3B4455;\n",
              "      fill: #D2E3FC;\n",
              "    }\n",
              "\n",
              "    [theme=dark] .colab-df-convert:hover {\n",
              "      background-color: #434B5C;\n",
              "      box-shadow: 0px 1px 3px 1px rgba(0, 0, 0, 0.15);\n",
              "      filter: drop-shadow(0px 1px 2px rgba(0, 0, 0, 0.3));\n",
              "      fill: #FFFFFF;\n",
              "    }\n",
              "  </style>\n",
              "\n",
              "      <script>\n",
              "        const buttonEl =\n",
              "          document.querySelector('#df-e49089e6-e10d-4e77-abcb-13114ee2809e button.colab-df-convert');\n",
              "        buttonEl.style.display =\n",
              "          google.colab.kernel.accessAllowed ? 'block' : 'none';\n",
              "\n",
              "        async function convertToInteractive(key) {\n",
              "          const element = document.querySelector('#df-e49089e6-e10d-4e77-abcb-13114ee2809e');\n",
              "          const dataTable =\n",
              "            await google.colab.kernel.invokeFunction('convertToInteractive',\n",
              "                                                     [key], {});\n",
              "          if (!dataTable) return;\n",
              "\n",
              "          const docLinkHtml = 'Like what you see? Visit the ' +\n",
              "            '<a target=\"_blank\" href=https://colab.research.google.com/notebooks/data_table.ipynb>data table notebook</a>'\n",
              "            + ' to learn more about interactive tables.';\n",
              "          element.innerHTML = '';\n",
              "          dataTable['output_type'] = 'display_data';\n",
              "          await google.colab.output.renderOutput(dataTable, element);\n",
              "          const docLink = document.createElement('div');\n",
              "          docLink.innerHTML = docLinkHtml;\n",
              "          element.appendChild(docLink);\n",
              "        }\n",
              "      </script>\n",
              "    </div>\n",
              "  </div>\n",
              "  "
            ]
          },
          "metadata": {},
          "execution_count": 299
        }
      ],
      "source": [
        "(\n",
        "    data.query('locality_name in @top and last_price <= 11900000')\n",
        "    .groupby('locality_name').agg({'locality_name':'count','price_per_square_meter':'mean'})\n",
        "    .sort_values(by='price_per_square_meter', ascending=False)\n",
        ")\n"
      ]
    },
    {
      "cell_type": "markdown",
      "metadata": {
        "id": "wui6rpLNeKGu"
      },
      "source": [
        "**Вывод:**  \n",
        "Самый дорогой квадратный метр в Санкт-Петербурге, самый дешевый в Выборге."
      ]
    },
    {
      "cell_type": "code",
      "execution_count": 300,
      "metadata": {
        "id": "qzClSD0CeKGu",
        "outputId": "d7e49b89-7011-4c6e-c732-92d7dfe640ef",
        "colab": {
          "base_uri": "https://localhost:8080/"
        }
      },
      "outputs": [
        {
          "output_type": "execute_result",
          "data": {
            "text/plain": [
              "15721"
            ]
          },
          "metadata": {},
          "execution_count": 300
        }
      ],
      "source": [
        "spb = pd.DataFrame(data.loc[data['locality_name'] == \"Санкт-Петербург\"])\n",
        "spb.reset_index()\n",
        "len(spb)"
      ]
    },
    {
      "cell_type": "code",
      "execution_count": 301,
      "metadata": {
        "id": "XhdP0M45eKGu"
      },
      "outputs": [],
      "source": [
        "spb['cityCenters_nearest_km'] = (spb['cityCenters_nearest'] / 1000)\n"
      ]
    },
    {
      "cell_type": "code",
      "execution_count": 302,
      "metadata": {
        "id": "q8y23RsneKGv"
      },
      "outputs": [],
      "source": [
        "spb['cityCenters_nearest_km']=spb['cityCenters_nearest_km'].astype('int')"
      ]
    },
    {
      "cell_type": "code",
      "execution_count": 303,
      "metadata": {
        "id": "ThiSCyAmeKGv",
        "outputId": "08d1a174-abfa-4469-b1bf-903b01246322",
        "colab": {
          "base_uri": "https://localhost:8080/",
          "height": 1000
        }
      },
      "outputs": [
        {
          "output_type": "execute_result",
          "data": {
            "text/plain": [
              "                          last_price\n",
              "cityCenters_nearest_km              \n",
              "0                       8.346372e+06\n",
              "1                       8.160774e+06\n",
              "2                       7.654493e+06\n",
              "3                       7.443970e+06\n",
              "4                       7.754978e+06\n",
              "5                       7.383655e+06\n",
              "6                       6.840485e+06\n",
              "7                       6.714581e+06\n",
              "8                       6.292329e+06\n",
              "9                       5.328093e+06\n",
              "10                      5.354670e+06\n",
              "11                      5.318201e+06\n",
              "12                      5.396176e+06\n",
              "13                      5.542648e+06\n",
              "14                      5.290137e+06\n",
              "15                      5.158897e+06\n",
              "16                      5.064563e+06\n",
              "17                      4.680344e+06\n",
              "18                      4.775159e+06\n",
              "19                      4.583555e+06\n",
              "20                      6.365864e+06\n",
              "21                      5.040227e+06\n",
              "22                      5.095368e+06\n",
              "23                      4.126867e+06\n",
              "24                      3.862235e+06\n",
              "25                      4.014913e+06\n",
              "26                      3.575000e+06\n",
              "27                      2.250000e+06\n",
              "28                      4.910500e+06\n",
              "29                      3.833333e+06"
            ],
            "text/html": [
              "\n",
              "  <div id=\"df-55b00ba2-0237-441d-bae2-da06aa6c9dbe\">\n",
              "    <div class=\"colab-df-container\">\n",
              "      <div>\n",
              "<style scoped>\n",
              "    .dataframe tbody tr th:only-of-type {\n",
              "        vertical-align: middle;\n",
              "    }\n",
              "\n",
              "    .dataframe tbody tr th {\n",
              "        vertical-align: top;\n",
              "    }\n",
              "\n",
              "    .dataframe thead th {\n",
              "        text-align: right;\n",
              "    }\n",
              "</style>\n",
              "<table border=\"1\" class=\"dataframe\">\n",
              "  <thead>\n",
              "    <tr style=\"text-align: right;\">\n",
              "      <th></th>\n",
              "      <th>last_price</th>\n",
              "    </tr>\n",
              "    <tr>\n",
              "      <th>cityCenters_nearest_km</th>\n",
              "      <th></th>\n",
              "    </tr>\n",
              "  </thead>\n",
              "  <tbody>\n",
              "    <tr>\n",
              "      <th>0</th>\n",
              "      <td>8.346372e+06</td>\n",
              "    </tr>\n",
              "    <tr>\n",
              "      <th>1</th>\n",
              "      <td>8.160774e+06</td>\n",
              "    </tr>\n",
              "    <tr>\n",
              "      <th>2</th>\n",
              "      <td>7.654493e+06</td>\n",
              "    </tr>\n",
              "    <tr>\n",
              "      <th>3</th>\n",
              "      <td>7.443970e+06</td>\n",
              "    </tr>\n",
              "    <tr>\n",
              "      <th>4</th>\n",
              "      <td>7.754978e+06</td>\n",
              "    </tr>\n",
              "    <tr>\n",
              "      <th>5</th>\n",
              "      <td>7.383655e+06</td>\n",
              "    </tr>\n",
              "    <tr>\n",
              "      <th>6</th>\n",
              "      <td>6.840485e+06</td>\n",
              "    </tr>\n",
              "    <tr>\n",
              "      <th>7</th>\n",
              "      <td>6.714581e+06</td>\n",
              "    </tr>\n",
              "    <tr>\n",
              "      <th>8</th>\n",
              "      <td>6.292329e+06</td>\n",
              "    </tr>\n",
              "    <tr>\n",
              "      <th>9</th>\n",
              "      <td>5.328093e+06</td>\n",
              "    </tr>\n",
              "    <tr>\n",
              "      <th>10</th>\n",
              "      <td>5.354670e+06</td>\n",
              "    </tr>\n",
              "    <tr>\n",
              "      <th>11</th>\n",
              "      <td>5.318201e+06</td>\n",
              "    </tr>\n",
              "    <tr>\n",
              "      <th>12</th>\n",
              "      <td>5.396176e+06</td>\n",
              "    </tr>\n",
              "    <tr>\n",
              "      <th>13</th>\n",
              "      <td>5.542648e+06</td>\n",
              "    </tr>\n",
              "    <tr>\n",
              "      <th>14</th>\n",
              "      <td>5.290137e+06</td>\n",
              "    </tr>\n",
              "    <tr>\n",
              "      <th>15</th>\n",
              "      <td>5.158897e+06</td>\n",
              "    </tr>\n",
              "    <tr>\n",
              "      <th>16</th>\n",
              "      <td>5.064563e+06</td>\n",
              "    </tr>\n",
              "    <tr>\n",
              "      <th>17</th>\n",
              "      <td>4.680344e+06</td>\n",
              "    </tr>\n",
              "    <tr>\n",
              "      <th>18</th>\n",
              "      <td>4.775159e+06</td>\n",
              "    </tr>\n",
              "    <tr>\n",
              "      <th>19</th>\n",
              "      <td>4.583555e+06</td>\n",
              "    </tr>\n",
              "    <tr>\n",
              "      <th>20</th>\n",
              "      <td>6.365864e+06</td>\n",
              "    </tr>\n",
              "    <tr>\n",
              "      <th>21</th>\n",
              "      <td>5.040227e+06</td>\n",
              "    </tr>\n",
              "    <tr>\n",
              "      <th>22</th>\n",
              "      <td>5.095368e+06</td>\n",
              "    </tr>\n",
              "    <tr>\n",
              "      <th>23</th>\n",
              "      <td>4.126867e+06</td>\n",
              "    </tr>\n",
              "    <tr>\n",
              "      <th>24</th>\n",
              "      <td>3.862235e+06</td>\n",
              "    </tr>\n",
              "    <tr>\n",
              "      <th>25</th>\n",
              "      <td>4.014913e+06</td>\n",
              "    </tr>\n",
              "    <tr>\n",
              "      <th>26</th>\n",
              "      <td>3.575000e+06</td>\n",
              "    </tr>\n",
              "    <tr>\n",
              "      <th>27</th>\n",
              "      <td>2.250000e+06</td>\n",
              "    </tr>\n",
              "    <tr>\n",
              "      <th>28</th>\n",
              "      <td>4.910500e+06</td>\n",
              "    </tr>\n",
              "    <tr>\n",
              "      <th>29</th>\n",
              "      <td>3.833333e+06</td>\n",
              "    </tr>\n",
              "  </tbody>\n",
              "</table>\n",
              "</div>\n",
              "      <button class=\"colab-df-convert\" onclick=\"convertToInteractive('df-55b00ba2-0237-441d-bae2-da06aa6c9dbe')\"\n",
              "              title=\"Convert this dataframe to an interactive table.\"\n",
              "              style=\"display:none;\">\n",
              "        \n",
              "  <svg xmlns=\"http://www.w3.org/2000/svg\" height=\"24px\"viewBox=\"0 0 24 24\"\n",
              "       width=\"24px\">\n",
              "    <path d=\"M0 0h24v24H0V0z\" fill=\"none\"/>\n",
              "    <path d=\"M18.56 5.44l.94 2.06.94-2.06 2.06-.94-2.06-.94-.94-2.06-.94 2.06-2.06.94zm-11 1L8.5 8.5l.94-2.06 2.06-.94-2.06-.94L8.5 2.5l-.94 2.06-2.06.94zm10 10l.94 2.06.94-2.06 2.06-.94-2.06-.94-.94-2.06-.94 2.06-2.06.94z\"/><path d=\"M17.41 7.96l-1.37-1.37c-.4-.4-.92-.59-1.43-.59-.52 0-1.04.2-1.43.59L10.3 9.45l-7.72 7.72c-.78.78-.78 2.05 0 2.83L4 21.41c.39.39.9.59 1.41.59.51 0 1.02-.2 1.41-.59l7.78-7.78 2.81-2.81c.8-.78.8-2.07 0-2.86zM5.41 20L4 18.59l7.72-7.72 1.47 1.35L5.41 20z\"/>\n",
              "  </svg>\n",
              "      </button>\n",
              "      \n",
              "  <style>\n",
              "    .colab-df-container {\n",
              "      display:flex;\n",
              "      flex-wrap:wrap;\n",
              "      gap: 12px;\n",
              "    }\n",
              "\n",
              "    .colab-df-convert {\n",
              "      background-color: #E8F0FE;\n",
              "      border: none;\n",
              "      border-radius: 50%;\n",
              "      cursor: pointer;\n",
              "      display: none;\n",
              "      fill: #1967D2;\n",
              "      height: 32px;\n",
              "      padding: 0 0 0 0;\n",
              "      width: 32px;\n",
              "    }\n",
              "\n",
              "    .colab-df-convert:hover {\n",
              "      background-color: #E2EBFA;\n",
              "      box-shadow: 0px 1px 2px rgba(60, 64, 67, 0.3), 0px 1px 3px 1px rgba(60, 64, 67, 0.15);\n",
              "      fill: #174EA6;\n",
              "    }\n",
              "\n",
              "    [theme=dark] .colab-df-convert {\n",
              "      background-color: #3B4455;\n",
              "      fill: #D2E3FC;\n",
              "    }\n",
              "\n",
              "    [theme=dark] .colab-df-convert:hover {\n",
              "      background-color: #434B5C;\n",
              "      box-shadow: 0px 1px 3px 1px rgba(0, 0, 0, 0.15);\n",
              "      filter: drop-shadow(0px 1px 2px rgba(0, 0, 0, 0.3));\n",
              "      fill: #FFFFFF;\n",
              "    }\n",
              "  </style>\n",
              "\n",
              "      <script>\n",
              "        const buttonEl =\n",
              "          document.querySelector('#df-55b00ba2-0237-441d-bae2-da06aa6c9dbe button.colab-df-convert');\n",
              "        buttonEl.style.display =\n",
              "          google.colab.kernel.accessAllowed ? 'block' : 'none';\n",
              "\n",
              "        async function convertToInteractive(key) {\n",
              "          const element = document.querySelector('#df-55b00ba2-0237-441d-bae2-da06aa6c9dbe');\n",
              "          const dataTable =\n",
              "            await google.colab.kernel.invokeFunction('convertToInteractive',\n",
              "                                                     [key], {});\n",
              "          if (!dataTable) return;\n",
              "\n",
              "          const docLinkHtml = 'Like what you see? Visit the ' +\n",
              "            '<a target=\"_blank\" href=https://colab.research.google.com/notebooks/data_table.ipynb>data table notebook</a>'\n",
              "            + ' to learn more about interactive tables.';\n",
              "          element.innerHTML = '';\n",
              "          dataTable['output_type'] = 'display_data';\n",
              "          await google.colab.output.renderOutput(dataTable, element);\n",
              "          const docLink = document.createElement('div');\n",
              "          docLink.innerHTML = docLinkHtml;\n",
              "          element.appendChild(docLink);\n",
              "        }\n",
              "      </script>\n",
              "    </div>\n",
              "  </div>\n",
              "  "
            ]
          },
          "metadata": {},
          "execution_count": 303
        }
      ],
      "source": [
        "spb_price = spb.query('last_price <= 11900000')\n",
        "spb_price.pivot_table(index='cityCenters_nearest_km', values='last_price')"
      ]
    },
    {
      "cell_type": "code",
      "execution_count": 304,
      "metadata": {
        "id": "zKAFsUqreKGv",
        "outputId": "004b5700-eac9-4deb-9f85-2d2cf843c1d8",
        "colab": {
          "base_uri": "https://localhost:8080/",
          "height": 291
        }
      },
      "outputs": [
        {
          "output_type": "display_data",
          "data": {
            "text/plain": [
              "<Figure size 432x288 with 1 Axes>"
            ],
            "image/png": "[encoded data removed]"
          },
          "metadata": {
            "needs_background": "light"
          }
        }
      ],
      "source": [
        "(\n",
        "pd.DataFrame(spb_price.pivot_table(index='cityCenters_nearest_km', values='last_price').to_records())\n",
        "    .plot(x='cityCenters_nearest_km', y='last_price', kind='scatter', grid=True)\n",
        ")\n",
        "plt.show()"
      ]
    },
    {
      "cell_type": "markdown",
      "metadata": {
        "id": "-J4Ydhs2eKGv"
      },
      "source": [
        "Резкий скачок наблюдается от 8 км. Все что будет до 8 км - центр."
      ]
    },
    {
      "cell_type": "code",
      "execution_count": 305,
      "metadata": {
        "id": "wYPz33k8eKGw",
        "outputId": "ce788d3c-8059-45ce-c379-d3f41858cacb",
        "colab": {
          "base_uri": "https://localhost:8080/"
        }
      },
      "outputs": [
        {
          "output_type": "execute_result",
          "data": {
            "text/plain": [
              "3002"
            ]
          },
          "metadata": {},
          "execution_count": 305
        }
      ],
      "source": [
        "center = pd.DataFrame(spb_price.query('cityCenters_nearest_km <= 8'))\n",
        "len(center)"
      ]
    },
    {
      "cell_type": "markdown",
      "metadata": {
        "id": "KmIu0mL6eKGw"
      },
      "source": [
        "##### Площадь"
      ]
    },
    {
      "cell_type": "code",
      "execution_count": 306,
      "metadata": {
        "id": "G60wdORDeKGw",
        "outputId": "48567042-99b8-4bb4-e52b-2ddaaa2cfef6",
        "colab": {
          "base_uri": "https://localhost:8080/"
        }
      },
      "outputs": [
        {
          "output_type": "execute_result",
          "data": {
            "text/plain": [
              "count    2908.00000\n",
              "mean       62.65804\n",
              "std        20.71949\n",
              "min        12.00000\n",
              "25%        46.00000\n",
              "50%        60.87000\n",
              "75%        77.00000\n",
              "max       114.30000\n",
              "Name: total_area, dtype: float64"
            ]
          },
          "metadata": {},
          "execution_count": 306
        }
      ],
      "source": [
        "center.query('total_area >= 12 & total_area <=114.75')['total_area'].describe()"
      ]
    },
    {
      "cell_type": "markdown",
      "metadata": {
        "id": "68vUVepSeKGw"
      },
      "source": [
        "##### Вывод:  \n",
        "Средняя площадь 62.65 квадратных метров."
      ]
    },
    {
      "cell_type": "markdown",
      "metadata": {
        "id": "i7yEPXgdeKGx"
      },
      "source": [
        "##### Цена"
      ]
    },
    {
      "cell_type": "code",
      "execution_count": 307,
      "metadata": {
        "id": "WrMcRqvHeKGx",
        "outputId": "3a8420eb-8e55-4b7c-c887-350c98a4190e",
        "colab": {
          "base_uri": "https://localhost:8080/"
        }
      },
      "outputs": [
        {
          "output_type": "execute_result",
          "data": {
            "text/plain": [
              "count    3.002000e+03\n",
              "mean     7.200692e+06\n",
              "std      2.266472e+06\n",
              "min      1.600000e+06\n",
              "25%      5.500000e+06\n",
              "50%      7.000000e+06\n",
              "75%      8.900000e+06\n",
              "max      1.190000e+07\n",
              "Name: last_price, dtype: float64"
            ]
          },
          "metadata": {},
          "execution_count": 307
        }
      ],
      "source": [
        "center['last_price'].describe()"
      ]
    },
    {
      "cell_type": "markdown",
      "metadata": {
        "id": "zpjmOT4QeKGy"
      },
      "source": [
        "##### Вывод:\n",
        "Средняя цена 7.2 млн рублей    "
      ]
    },
    {
      "cell_type": "markdown",
      "metadata": {
        "id": "bojwHyUueKGy"
      },
      "source": [
        "##### Количество комнат"
      ]
    },
    {
      "cell_type": "code",
      "execution_count": 308,
      "metadata": {
        "id": "bhQrqwOSeKGy",
        "outputId": "4300172a-8abf-4c13-9bcc-c136c01f78d5",
        "colab": {
          "base_uri": "https://localhost:8080/"
        }
      },
      "outputs": [
        {
          "output_type": "execute_result",
          "data": {
            "text/plain": [
              "count    3002.000000\n",
              "mean        2.284144\n",
              "std         1.003597\n",
              "min         1.000000\n",
              "25%         2.000000\n",
              "50%         2.000000\n",
              "75%         3.000000\n",
              "max         6.000000\n",
              "Name: rooms, dtype: float64"
            ]
          },
          "metadata": {},
          "execution_count": 308
        }
      ],
      "source": [
        "center.query('rooms>=1 and rooms<=6')['rooms'].describe()"
      ]
    },
    {
      "cell_type": "markdown",
      "metadata": {
        "id": "W4HWeyp4eKGy"
      },
      "source": [
        "##### Вывод:\n",
        "В объявлениях представлены двухкомнатные и трехкомнатные квартиры"
      ]
    },
    {
      "cell_type": "markdown",
      "metadata": {
        "id": "yn6OWW7yeKGz"
      },
      "source": [
        "##### Высота потолков"
      ]
    },
    {
      "cell_type": "code",
      "execution_count": 309,
      "metadata": {
        "id": "gWJ0miF2eKGz",
        "outputId": "f95f1293-6dac-4581-94d1-66b1f76a8aeb",
        "colab": {
          "base_uri": "https://localhost:8080/"
        }
      },
      "outputs": [
        {
          "output_type": "execute_result",
          "data": {
            "text/plain": [
              "count    1383.000000\n",
              "mean        2.907274\n",
              "std         0.188035\n",
              "min         2.520000\n",
              "25%         2.750000\n",
              "50%         2.950000\n",
              "75%         3.000000\n",
              "max         3.210000\n",
              "Name: ceiling_height, dtype: float64"
            ]
          },
          "metadata": {},
          "execution_count": 309
        }
      ],
      "source": [
        "center.query('ceiling_height >= 2.52 & ceiling_height <= 3.219')['ceiling_height'].describe()"
      ]
    },
    {
      "cell_type": "markdown",
      "metadata": {
        "id": "HcV883mDeKGz"
      },
      "source": [
        "##### Вывод:\n",
        "Средняя высота потолков 2.9"
      ]
    },
    {
      "cell_type": "code",
      "execution_count": 310,
      "metadata": {
        "id": "h21GLl5oeKGz"
      },
      "outputs": [],
      "source": [
        "new_data=center.query('total_area >= 12 & total_area <=114.75 & rooms>=1 and rooms<=6 & ceiling_height >= 2.52 & ceiling_height <= 3.219 & days_exposition >= 1.0 & days_exposition <= 430.0 ')\n"
      ]
    },
    {
      "cell_type": "code",
      "execution_count": 311,
      "metadata": {
        "id": "4o13mebheKGz",
        "outputId": "10cac594-8b90-48d4-d0f1-051ff66c5c26",
        "colab": {
          "base_uri": "https://localhost:8080/",
          "height": 175
        }
      },
      "outputs": [
        {
          "output_type": "execute_result",
          "data": {
            "text/plain": [
              "                  last_price\n",
              "floor_category              \n",
              "первый          6.374321e+06\n",
              "последний       7.197890e+06\n",
              "другой          7.387854e+06"
            ],
            "text/html": [
              "\n",
              "  <div id=\"df-279be3e4-9c21-449b-a9eb-9d9ee134be3a\">\n",
              "    <div class=\"colab-df-container\">\n",
              "      <div>\n",
              "<style scoped>\n",
              "    .dataframe tbody tr th:only-of-type {\n",
              "        vertical-align: middle;\n",
              "    }\n",
              "\n",
              "    .dataframe tbody tr th {\n",
              "        vertical-align: top;\n",
              "    }\n",
              "\n",
              "    .dataframe thead th {\n",
              "        text-align: right;\n",
              "    }\n",
              "</style>\n",
              "<table border=\"1\" class=\"dataframe\">\n",
              "  <thead>\n",
              "    <tr style=\"text-align: right;\">\n",
              "      <th></th>\n",
              "      <th>last_price</th>\n",
              "    </tr>\n",
              "    <tr>\n",
              "      <th>floor_category</th>\n",
              "      <th></th>\n",
              "    </tr>\n",
              "  </thead>\n",
              "  <tbody>\n",
              "    <tr>\n",
              "      <th>первый</th>\n",
              "      <td>6.374321e+06</td>\n",
              "    </tr>\n",
              "    <tr>\n",
              "      <th>последний</th>\n",
              "      <td>7.197890e+06</td>\n",
              "    </tr>\n",
              "    <tr>\n",
              "      <th>другой</th>\n",
              "      <td>7.387854e+06</td>\n",
              "    </tr>\n",
              "  </tbody>\n",
              "</table>\n",
              "</div>\n",
              "      <button class=\"colab-df-convert\" onclick=\"convertToInteractive('df-279be3e4-9c21-449b-a9eb-9d9ee134be3a')\"\n",
              "              title=\"Convert this dataframe to an interactive table.\"\n",
              "              style=\"display:none;\">\n",
              "        \n",
              "  <svg xmlns=\"http://www.w3.org/2000/svg\" height=\"24px\"viewBox=\"0 0 24 24\"\n",
              "       width=\"24px\">\n",
              "    <path d=\"M0 0h24v24H0V0z\" fill=\"none\"/>\n",
              "    <path d=\"M18.56 5.44l.94 2.06.94-2.06 2.06-.94-2.06-.94-.94-2.06-.94 2.06-2.06.94zm-11 1L8.5 8.5l.94-2.06 2.06-.94-2.06-.94L8.5 2.5l-.94 2.06-2.06.94zm10 10l.94 2.06.94-2.06 2.06-.94-2.06-.94-.94-2.06-.94 2.06-2.06.94z\"/><path d=\"M17.41 7.96l-1.37-1.37c-.4-.4-.92-.59-1.43-.59-.52 0-1.04.2-1.43.59L10.3 9.45l-7.72 7.72c-.78.78-.78 2.05 0 2.83L4 21.41c.39.39.9.59 1.41.59.51 0 1.02-.2 1.41-.59l7.78-7.78 2.81-2.81c.8-.78.8-2.07 0-2.86zM5.41 20L4 18.59l7.72-7.72 1.47 1.35L5.41 20z\"/>\n",
              "  </svg>\n",
              "      </button>\n",
              "      \n",
              "  <style>\n",
              "    .colab-df-container {\n",
              "      display:flex;\n",
              "      flex-wrap:wrap;\n",
              "      gap: 12px;\n",
              "    }\n",
              "\n",
              "    .colab-df-convert {\n",
              "      background-color: #E8F0FE;\n",
              "      border: none;\n",
              "      border-radius: 50%;\n",
              "      cursor: pointer;\n",
              "      display: none;\n",
              "      fill: #1967D2;\n",
              "      height: 32px;\n",
              "      padding: 0 0 0 0;\n",
              "      width: 32px;\n",
              "    }\n",
              "\n",
              "    .colab-df-convert:hover {\n",
              "      background-color: #E2EBFA;\n",
              "      box-shadow: 0px 1px 2px rgba(60, 64, 67, 0.3), 0px 1px 3px 1px rgba(60, 64, 67, 0.15);\n",
              "      fill: #174EA6;\n",
              "    }\n",
              "\n",
              "    [theme=dark] .colab-df-convert {\n",
              "      background-color: #3B4455;\n",
              "      fill: #D2E3FC;\n",
              "    }\n",
              "\n",
              "    [theme=dark] .colab-df-convert:hover {\n",
              "      background-color: #434B5C;\n",
              "      box-shadow: 0px 1px 3px 1px rgba(0, 0, 0, 0.15);\n",
              "      filter: drop-shadow(0px 1px 2px rgba(0, 0, 0, 0.3));\n",
              "      fill: #FFFFFF;\n",
              "    }\n",
              "  </style>\n",
              "\n",
              "      <script>\n",
              "        const buttonEl =\n",
              "          document.querySelector('#df-279be3e4-9c21-449b-a9eb-9d9ee134be3a button.colab-df-convert');\n",
              "        buttonEl.style.display =\n",
              "          google.colab.kernel.accessAllowed ? 'block' : 'none';\n",
              "\n",
              "        async function convertToInteractive(key) {\n",
              "          const element = document.querySelector('#df-279be3e4-9c21-449b-a9eb-9d9ee134be3a');\n",
              "          const dataTable =\n",
              "            await google.colab.kernel.invokeFunction('convertToInteractive',\n",
              "                                                     [key], {});\n",
              "          if (!dataTable) return;\n",
              "\n",
              "          const docLinkHtml = 'Like what you see? Visit the ' +\n",
              "            '<a target=\"_blank\" href=https://colab.research.google.com/notebooks/data_table.ipynb>data table notebook</a>'\n",
              "            + ' to learn more about interactive tables.';\n",
              "          element.innerHTML = '';\n",
              "          dataTable['output_type'] = 'display_data';\n",
              "          await google.colab.output.renderOutput(dataTable, element);\n",
              "          const docLink = document.createElement('div');\n",
              "          docLink.innerHTML = docLinkHtml;\n",
              "          element.appendChild(docLink);\n",
              "        }\n",
              "      </script>\n",
              "    </div>\n",
              "  </div>\n",
              "  "
            ]
          },
          "metadata": {},
          "execution_count": 311
        }
      ],
      "source": [
        "new_data.pivot_table(index='floor_category', values='last_price').sort_values(by='last_price')"
      ]
    },
    {
      "cell_type": "markdown",
      "metadata": {
        "id": "XNH9Vy7zeKGz"
      },
      "source": [
        "##### Вывод:  \n",
        "В Санкт-Петербурге дешевле всего брать квартиру на 1 этаже, как и во всех населенных пунктах."
      ]
    },
    {
      "cell_type": "code",
      "execution_count": 312,
      "metadata": {
        "id": "zIfVipyJeKG0",
        "outputId": "e520ddce-9b91-4472-ea7a-b0844854fb61",
        "colab": {
          "base_uri": "https://localhost:8080/",
          "height": 300
        }
      },
      "outputs": [
        {
          "output_type": "execute_result",
          "data": {
            "text/plain": [
              "                        last_price  cityCenters_nearest_km  total_area  \\\n",
              "last_price                1.000000               -0.125705    0.683721   \n",
              "total_area                0.683721               -0.155061    1.000000   \n",
              "rooms                     0.457409               -0.165831    0.816046   \n",
              "ceiling_height            0.204101               -0.240997    0.261833   \n",
              "month                     0.010273               -0.055467    0.023717   \n",
              "year                      0.006289                0.060628   -0.068156   \n",
              "day                      -0.032067                0.018430   -0.072959   \n",
              "cityCenters_nearest_km   -0.125705                1.000000   -0.155061   \n",
              "\n",
              "                           rooms  ceiling_height       day     month      year  \n",
              "last_price              0.457409        0.204101 -0.032067  0.010273  0.006289  \n",
              "total_area              0.816046        0.261833 -0.072959  0.023717 -0.068156  \n",
              "rooms                   1.000000        0.223721 -0.050283  0.023186 -0.035363  \n",
              "ceiling_height          0.223721        1.000000 -0.060112 -0.024915 -0.035370  \n",
              "month                   0.023186       -0.024915  0.046169  1.000000 -0.383501  \n",
              "year                   -0.035363       -0.035370  0.033171 -0.383501  1.000000  \n",
              "day                    -0.050283       -0.060112  1.000000  0.046169  0.033171  \n",
              "cityCenters_nearest_km -0.165831       -0.240997  0.018430 -0.055467  0.060628  "
            ],
            "text/html": [
              "\n",
              "  <div id=\"df-88f10a40-7c0f-4909-8bf7-264231818989\">\n",
              "    <div class=\"colab-df-container\">\n",
              "      <div>\n",
              "<style scoped>\n",
              "    .dataframe tbody tr th:only-of-type {\n",
              "        vertical-align: middle;\n",
              "    }\n",
              "\n",
              "    .dataframe tbody tr th {\n",
              "        vertical-align: top;\n",
              "    }\n",
              "\n",
              "    .dataframe thead th {\n",
              "        text-align: right;\n",
              "    }\n",
              "</style>\n",
              "<table border=\"1\" class=\"dataframe\">\n",
              "  <thead>\n",
              "    <tr style=\"text-align: right;\">\n",
              "      <th></th>\n",
              "      <th>last_price</th>\n",
              "      <th>cityCenters_nearest_km</th>\n",
              "      <th>total_area</th>\n",
              "      <th>rooms</th>\n",
              "      <th>ceiling_height</th>\n",
              "      <th>day</th>\n",
              "      <th>month</th>\n",
              "      <th>year</th>\n",
              "    </tr>\n",
              "  </thead>\n",
              "  <tbody>\n",
              "    <tr>\n",
              "      <th>last_price</th>\n",
              "      <td>1.000000</td>\n",
              "      <td>-0.125705</td>\n",
              "      <td>0.683721</td>\n",
              "      <td>0.457409</td>\n",
              "      <td>0.204101</td>\n",
              "      <td>-0.032067</td>\n",
              "      <td>0.010273</td>\n",
              "      <td>0.006289</td>\n",
              "    </tr>\n",
              "    <tr>\n",
              "      <th>total_area</th>\n",
              "      <td>0.683721</td>\n",
              "      <td>-0.155061</td>\n",
              "      <td>1.000000</td>\n",
              "      <td>0.816046</td>\n",
              "      <td>0.261833</td>\n",
              "      <td>-0.072959</td>\n",
              "      <td>0.023717</td>\n",
              "      <td>-0.068156</td>\n",
              "    </tr>\n",
              "    <tr>\n",
              "      <th>rooms</th>\n",
              "      <td>0.457409</td>\n",
              "      <td>-0.165831</td>\n",
              "      <td>0.816046</td>\n",
              "      <td>1.000000</td>\n",
              "      <td>0.223721</td>\n",
              "      <td>-0.050283</td>\n",
              "      <td>0.023186</td>\n",
              "      <td>-0.035363</td>\n",
              "    </tr>\n",
              "    <tr>\n",
              "      <th>ceiling_height</th>\n",
              "      <td>0.204101</td>\n",
              "      <td>-0.240997</td>\n",
              "      <td>0.261833</td>\n",
              "      <td>0.223721</td>\n",
              "      <td>1.000000</td>\n",
              "      <td>-0.060112</td>\n",
              "      <td>-0.024915</td>\n",
              "      <td>-0.035370</td>\n",
              "    </tr>\n",
              "    <tr>\n",
              "      <th>month</th>\n",
              "      <td>0.010273</td>\n",
              "      <td>-0.055467</td>\n",
              "      <td>0.023717</td>\n",
              "      <td>0.023186</td>\n",
              "      <td>-0.024915</td>\n",
              "      <td>0.046169</td>\n",
              "      <td>1.000000</td>\n",
              "      <td>-0.383501</td>\n",
              "    </tr>\n",
              "    <tr>\n",
              "      <th>year</th>\n",
              "      <td>0.006289</td>\n",
              "      <td>0.060628</td>\n",
              "      <td>-0.068156</td>\n",
              "      <td>-0.035363</td>\n",
              "      <td>-0.035370</td>\n",
              "      <td>0.033171</td>\n",
              "      <td>-0.383501</td>\n",
              "      <td>1.000000</td>\n",
              "    </tr>\n",
              "    <tr>\n",
              "      <th>day</th>\n",
              "      <td>-0.032067</td>\n",
              "      <td>0.018430</td>\n",
              "      <td>-0.072959</td>\n",
              "      <td>-0.050283</td>\n",
              "      <td>-0.060112</td>\n",
              "      <td>1.000000</td>\n",
              "      <td>0.046169</td>\n",
              "      <td>0.033171</td>\n",
              "    </tr>\n",
              "    <tr>\n",
              "      <th>cityCenters_nearest_km</th>\n",
              "      <td>-0.125705</td>\n",
              "      <td>1.000000</td>\n",
              "      <td>-0.155061</td>\n",
              "      <td>-0.165831</td>\n",
              "      <td>-0.240997</td>\n",
              "      <td>0.018430</td>\n",
              "      <td>-0.055467</td>\n",
              "      <td>0.060628</td>\n",
              "    </tr>\n",
              "  </tbody>\n",
              "</table>\n",
              "</div>\n",
              "      <button class=\"colab-df-convert\" onclick=\"convertToInteractive('df-88f10a40-7c0f-4909-8bf7-264231818989')\"\n",
              "              title=\"Convert this dataframe to an interactive table.\"\n",
              "              style=\"display:none;\">\n",
              "        \n",
              "  <svg xmlns=\"http://www.w3.org/2000/svg\" height=\"24px\"viewBox=\"0 0 24 24\"\n",
              "       width=\"24px\">\n",
              "    <path d=\"M0 0h24v24H0V0z\" fill=\"none\"/>\n",
              "    <path d=\"M18.56 5.44l.94 2.06.94-2.06 2.06-.94-2.06-.94-.94-2.06-.94 2.06-2.06.94zm-11 1L8.5 8.5l.94-2.06 2.06-.94-2.06-.94L8.5 2.5l-.94 2.06-2.06.94zm10 10l.94 2.06.94-2.06 2.06-.94-2.06-.94-.94-2.06-.94 2.06-2.06.94z\"/><path d=\"M17.41 7.96l-1.37-1.37c-.4-.4-.92-.59-1.43-.59-.52 0-1.04.2-1.43.59L10.3 9.45l-7.72 7.72c-.78.78-.78 2.05 0 2.83L4 21.41c.39.39.9.59 1.41.59.51 0 1.02-.2 1.41-.59l7.78-7.78 2.81-2.81c.8-.78.8-2.07 0-2.86zM5.41 20L4 18.59l7.72-7.72 1.47 1.35L5.41 20z\"/>\n",
              "  </svg>\n",
              "      </button>\n",
              "      \n",
              "  <style>\n",
              "    .colab-df-container {\n",
              "      display:flex;\n",
              "      flex-wrap:wrap;\n",
              "      gap: 12px;\n",
              "    }\n",
              "\n",
              "    .colab-df-convert {\n",
              "      background-color: #E8F0FE;\n",
              "      border: none;\n",
              "      border-radius: 50%;\n",
              "      cursor: pointer;\n",
              "      display: none;\n",
              "      fill: #1967D2;\n",
              "      height: 32px;\n",
              "      padding: 0 0 0 0;\n",
              "      width: 32px;\n",
              "    }\n",
              "\n",
              "    .colab-df-convert:hover {\n",
              "      background-color: #E2EBFA;\n",
              "      box-shadow: 0px 1px 2px rgba(60, 64, 67, 0.3), 0px 1px 3px 1px rgba(60, 64, 67, 0.15);\n",
              "      fill: #174EA6;\n",
              "    }\n",
              "\n",
              "    [theme=dark] .colab-df-convert {\n",
              "      background-color: #3B4455;\n",
              "      fill: #D2E3FC;\n",
              "    }\n",
              "\n",
              "    [theme=dark] .colab-df-convert:hover {\n",
              "      background-color: #434B5C;\n",
              "      box-shadow: 0px 1px 3px 1px rgba(0, 0, 0, 0.15);\n",
              "      filter: drop-shadow(0px 1px 2px rgba(0, 0, 0, 0.3));\n",
              "      fill: #FFFFFF;\n",
              "    }\n",
              "  </style>\n",
              "\n",
              "      <script>\n",
              "        const buttonEl =\n",
              "          document.querySelector('#df-88f10a40-7c0f-4909-8bf7-264231818989 button.colab-df-convert');\n",
              "        buttonEl.style.display =\n",
              "          google.colab.kernel.accessAllowed ? 'block' : 'none';\n",
              "\n",
              "        async function convertToInteractive(key) {\n",
              "          const element = document.querySelector('#df-88f10a40-7c0f-4909-8bf7-264231818989');\n",
              "          const dataTable =\n",
              "            await google.colab.kernel.invokeFunction('convertToInteractive',\n",
              "                                                     [key], {});\n",
              "          if (!dataTable) return;\n",
              "\n",
              "          const docLinkHtml = 'Like what you see? Visit the ' +\n",
              "            '<a target=\"_blank\" href=https://colab.research.google.com/notebooks/data_table.ipynb>data table notebook</a>'\n",
              "            + ' to learn more about interactive tables.';\n",
              "          element.innerHTML = '';\n",
              "          dataTable['output_type'] = 'display_data';\n",
              "          await google.colab.output.renderOutput(dataTable, element);\n",
              "          const docLink = document.createElement('div');\n",
              "          docLink.innerHTML = docLinkHtml;\n",
              "          element.appendChild(docLink);\n",
              "        }\n",
              "      </script>\n",
              "    </div>\n",
              "  </div>\n",
              "  "
            ]
          },
          "metadata": {},
          "execution_count": 312
        }
      ],
      "source": [
        "\n",
        "features = [\n",
        "    'last_price',\n",
        "    'cityCenters_nearest_km',\n",
        "    'total_area',\n",
        "    'rooms',\n",
        "    'ceiling_height',\n",
        "    'day',\n",
        "    'month',\n",
        "    'year'\n",
        "]\n",
        "\n",
        "new_data[features].corr().sort_values('last_price', ascending=False)"
      ]
    },
    {
      "cell_type": "markdown",
      "metadata": {
        "id": "SKk_z3_JeKG0"
      },
      "source": [
        "##### Шаг 5. Общий вывод <a name=\"conclusion_all\"></a>\n",
        "* Факторы, влияющие на стоимость:\n",
        "  * количество комнат;\n",
        "  * площадь;\n",
        "  * высота потолков; \n",
        "*  День, месяц, год не влияет на стоимость.\n",
        "* Дороже всего стоят квартиры, расположенные на этажах между первым и последним, дешевле всего квартиры, расположенные на первом этаже.\n",
        "* Чем ближе к центру, тем дороже."
      ]
    }
  ],
  "metadata": {
    "kernelspec": {
      "display_name": "Python 3",
      "language": "python",
      "name": "python3"
    },
    "language_info": {
      "codemirror_mode": {
        "name": "ipython",
        "version": 3
      },
      "file_extension": ".py",
      "mimetype": "text/x-python",
      "name": "python",
      "nbconvert_exporter": "python",
      "pygments_lexer": "ipython3",
      "version": "3.7.8"
    },
    "toc": {
      "base_numbering": 1,
      "nav_menu": {},
      "number_sections": true,
      "sideBar": true,
      "skip_h1_title": false,
      "title_cell": "Table of Contents",
      "title_sidebar": "Contents",
      "toc_cell": false,
      "toc_position": {},
      "toc_section_display": true,
      "toc_window_display": false
    },
    "colab": {
      "name": "Исследование_объявлений_о_продаже_квартир",
      "provenance": []
    }
  },
  "nbformat": 4,
  "nbformat_minor": 0
}